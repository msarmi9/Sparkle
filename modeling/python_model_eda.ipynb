{
 "cells": [
  {
   "cell_type": "code",
   "execution_count": 1,
   "metadata": {},
   "outputs": [],
   "source": [
    "import os\n",
    "import glob\n",
    "import math\n",
    "\n",
    "import numpy as np\n",
    "import pandas as pd"
   ]
  },
  {
   "cell_type": "code",
   "execution_count": 2,
   "metadata": {},
   "outputs": [
    {
     "data": {
      "text/plain": [
       "['collin_data/2020-04-21_08:22:02_6.csv',\n",
       " 'collin_data/2020-04-21_09:30:18_A.csv',\n",
       " 'collin_data/2020-04-21_09:16:32_A.csv',\n",
       " 'collin_data/2020-04-21_07:56:37_1.csv',\n",
       " 'collin_data/2020-04-21_08:34:56_9.csv',\n",
       " 'collin_data/2020-04-21_08:35:13_9.csv',\n",
       " 'collin_data/2020-04-21_09:27:42_A.csv',\n",
       " 'collin_data/2020-04-21_09:11:37_A.csv',\n",
       " 'collin_data/2020-04-21_08:08:16_3.csv',\n",
       " 'collin_data/2020-04-21_08:25:23_7.csv',\n",
       " 'collin_data/2020-04-21_08:02:29_2.csv',\n",
       " 'collin_data/2020-04-21_09:25:08_A.csv',\n",
       " 'collin_data/2020-04-21_08:01:19_2.csv',\n",
       " 'collin_data/2020-04-21_09:26:40_A.csv',\n",
       " 'collin_data/2020-04-21_09:17:14_A.csv',\n",
       " 'collin_data/2020-04-21_08:48:22_12.csv',\n",
       " 'collin_data/2020-04-21_09:17:30_A.csv',\n",
       " 'collin_data/2020-04-21_08:11:59_4.csv',\n",
       " 'collin_data/2020-04-21_08:59:13_14.csv',\n",
       " 'collin_data/2020-04-21_09:04:13_15.csv',\n",
       " 'collin_data/2020-04-21_08:15:16_5.csv',\n",
       " 'collin_data/2020-04-21_08:15:53_5.csv',\n",
       " 'collin_data/2020-04-21_09:29:14_A.csv',\n",
       " 'collin_data/2020-04-21_08:42:02_11.csv',\n",
       " 'collin_data/2020-04-21_08:17:24_5.csv',\n",
       " 'collin_data/2020-04-21_08:25:05_7.csv',\n",
       " 'collin_data/2020-04-21_08:50:57_13.csv',\n",
       " 'collin_data/2020-04-21_08:19:33_6.csv',\n",
       " 'collin_data/2020-04-21_09:31:23_A.csv',\n",
       " 'collin_data/2020-04-21_08:27:33_7.csv',\n",
       " 'collin_data/2020-04-21_09:03:52_15.csv',\n",
       " 'collin_data/2020-04-21_08:15:36_5.csv',\n",
       " 'collin_data/2020-04-21_09:37:26_A.csv',\n",
       " 'collin_data/2020-04-21_08:38:59_10.csv',\n",
       " 'collin_data/2020-04-21_08:40:13_10.csv',\n",
       " 'collin_data/2020-04-21_09:31:40_A.csv',\n",
       " 'collin_data/2020-04-21_08:05:15_3.csv',\n",
       " 'collin_data/2020-04-21_08:27:15_7.csv',\n",
       " 'collin_data/2020-04-21_08:51:16_13.csv',\n",
       " 'collin_data/2020-04-21_08:52:44_13.csv',\n",
       " 'collin_data/2020-04-21_08:40:29_10.csv',\n",
       " 'collin_data/2020-04-21_08:58:50_14.csv',\n",
       " 'collin_data/2020-04-21_07:51:36_1.csv',\n",
       " 'collin_data/2020-04-21_09:37:45_A.csv',\n",
       " 'collin_data/2020-04-21_09:24:15_A.csv',\n",
       " 'collin_data/2020-04-21_08:33:31_9.csv',\n",
       " 'collin_data/2020-04-21_07:55:06_1.csv',\n",
       " 'collin_data/2020-04-21_09:29:31_A.csv',\n",
       " 'collin_data/2020-04-21_08:50:41_13.csv',\n",
       " 'collin_data/2020-04-21_08:42:20_11.csv',\n",
       " 'collin_data/2020-04-21_07:57:10_1.csv',\n",
       " 'collin_data/2020-04-21_09:27:20_A.csv',\n",
       " 'collin_data/2020-04-21_09:21:03_A.csv',\n",
       " 'collin_data/2020-04-21_09:20:03_A.csv',\n",
       " 'collin_data/2020-04-21_09:22:31_A.csv',\n",
       " 'collin_data/2020-04-21_08:57:36_14.csv',\n",
       " 'collin_data/2020-04-21_08:25:43_7.csv',\n",
       " 'collin_data/2020-04-21_08:11:43_4.csv',\n",
       " 'collin_data/2020-04-21_07:51:17_1.csv',\n",
       " 'collin_data/2020-04-21_08:57:12_14.csv',\n",
       " 'collin_data/2020-04-21_09:26:06_A.csv',\n",
       " 'collin_data/2020-04-21_08:17:07_5.csv',\n",
       " 'collin_data/2020-04-21_08:29:57_8.csv',\n",
       " 'collin_data/2020-04-21_08:43:28_11.csv',\n",
       " 'collin_data/2020-04-21_09:30:41_A.csv',\n",
       " 'collin_data/2020-04-21_08:02:11_2.csv',\n",
       " 'collin_data/2020-04-21_08:03:11_2.csv',\n",
       " 'collin_data/2020-04-21_08:35:32_9.csv',\n",
       " 'collin_data/2020-04-21_09:13:24_A.csv',\n",
       " 'collin_data/2020-04-21_09:02:15_15.csv',\n",
       " 'collin_data/2020-04-21_09:37:01_A.csv',\n",
       " 'collin_data/2020-04-21_08:12:29_4.csv',\n",
       " 'collin_data/2020-04-21_09:01:55_15.csv',\n",
       " 'collin_data/2020-04-21_09:29:56_A.csv',\n",
       " 'collin_data/2020-04-21_09:28:56_A.csv',\n",
       " 'collin_data/2020-04-21_08:19:48_6.csv',\n",
       " 'collin_data/2020-04-21_09:01:36_15.csv',\n",
       " 'collin_data/2020-04-21_09:24:29_A.csv',\n",
       " 'collin_data/2020-04-21_09:35:49_A.csv',\n",
       " 'collin_data/2020-04-21_09:26:24_A.csv',\n",
       " 'collin_data/2020-04-21_07:56:51_1.csv',\n",
       " 'collin_data/2020-04-21_09:11:51_A.csv',\n",
       " 'collin_data/2020-04-21_08:35:51_9.csv',\n",
       " 'collin_data/2020-04-21_09:27:00_A.csv',\n",
       " 'collin_data/2020-04-21_09:22:13_A.csv',\n",
       " 'collin_data/2020-04-21_08:47:48_12.csv',\n",
       " 'collin_data/2020-04-21_08:38:06_10.csv',\n",
       " 'collin_data/2020-04-21_08:59:50_14.csv',\n",
       " 'collin_data/2020-04-21_08:22:21_6.csv',\n",
       " 'collin_data/2020-04-21_08:37:26_10.csv',\n",
       " 'collin_data/2020-04-21_09:21:55_A.csv',\n",
       " 'collin_data/2020-04-21_09:16:20_A.csv',\n",
       " 'collin_data/2020-04-21_08:06:50_3.csv',\n",
       " 'collin_data/2020-04-21_09:24:46_A.csv',\n",
       " 'collin_data/2020-04-21_08:12:46_4.csv',\n",
       " 'collin_data/2020-04-21_08:13:03_4.csv',\n",
       " 'collin_data/2020-04-21_08:21:06_6.csv',\n",
       " 'collin_data/2020-04-21_09:38:07_A.csv',\n",
       " 'collin_data/2020-04-21_08:20:06_6.csv',\n",
       " 'collin_data/2020-04-21_09:03:32_15.csv',\n",
       " 'collin_data/2020-04-21_08:47:30_12.csv',\n",
       " 'collin_data/2020-04-21_08:11:28_4.csv',\n",
       " 'collin_data/2020-04-21_09:21:34_A.csv',\n",
       " 'collin_data/2020-04-21_08:30:36_8.csv',\n",
       " 'collin_data/2020-04-21_08:24:49_7.csv',\n",
       " 'collin_data/2020-04-21_07:52:34_1.csv',\n",
       " 'collin_data/2020-04-21_08:13:18_4.csv',\n",
       " 'collin_data/2020-04-21_09:35:02_A.csv',\n",
       " 'collin_data/2020-04-21_09:34:47_A.csv',\n",
       " 'collin_data/2020-04-21_09:16:06_A.csv',\n",
       " 'collin_data/2020-04-21_08:44:25_11.csv',\n",
       " 'collin_data/2020-04-21_09:25:25_A.csv',\n",
       " 'collin_data/2020-04-21_08:34:03_9.csv',\n",
       " 'collin_data/2020-04-21_08:10:52_4.csv',\n",
       " 'collin_data/2020-04-21_09:36:48_A.csv',\n",
       " 'collin_data/2020-04-21_09:02:57_15.csv',\n",
       " 'collin_data/2020-04-21_08:29:23_8.csv',\n",
       " 'collin_data/2020-04-21_08:39:21_10.csv',\n",
       " 'collin_data/2020-04-21_09:24:01_A.csv',\n",
       " 'collin_data/2020-04-21_08:30:55_8.csv',\n",
       " 'collin_data/2020-04-21_08:15:00_5.csv',\n",
       " 'collin_data/2020-04-21_08:58:32_14.csv',\n",
       " 'collin_data/2020-04-21_08:46:57_12.csv',\n",
       " 'collin_data/2020-04-21_08:52:10_13.csv',\n",
       " 'collin_data/2020-04-21_08:46:26_12.csv',\n",
       " 'collin_data/2020-04-21_08:44:39_11.csv',\n",
       " 'collin_data/2020-04-21_09:36:10_A.csv',\n",
       " 'collin_data/2020-04-21_09:23:24_A.csv',\n",
       " 'collin_data/2020-04-21_09:16:47_A.csv',\n",
       " 'collin_data/2020-04-21_08:39:40_10.csv',\n",
       " 'collin_data/2020-04-21_08:46:10_12.csv',\n",
       " 'collin_data/2020-04-21_08:29:03_8.csv',\n",
       " 'collin_data/2020-04-21_08:52:26_13.csv',\n",
       " 'collin_data/2020-04-21_08:05:38_3.csv',\n",
       " 'collin_data/2020-04-21_09:14:48_A.csv',\n",
       " 'collin_data/2020-04-21_08:11:11_4.csv',\n",
       " 'collin_data/2020-04-21_08:53:20_13.csv',\n",
       " 'collin_data/2020-04-21_08:48:05_12.csv',\n",
       " 'collin_data/2020-04-21_08:00:48_2.csv',\n",
       " 'collin_data/2020-04-21_08:07:35_3.csv',\n",
       " 'collin_data/2020-04-21_08:34:40_9.csv',\n",
       " 'collin_data/2020-04-21_09:03:14_15.csv',\n",
       " 'collin_data/2020-04-21_08:47:16_12.csv',\n",
       " 'collin_data/2020-04-21_08:34:21_9.csv',\n",
       " 'collin_data/2020-04-21_07:56:05_1.csv',\n",
       " 'collin_data/2020-04-21_09:33:01_A.csv',\n",
       " 'collin_data/2020-04-21_08:48:42_12.csv',\n",
       " 'collin_data/2020-04-21_07:52:53_1.csv',\n",
       " 'collin_data/2020-04-21_08:42:37_11.csv',\n",
       " 'collin_data/2020-04-21_08:56:56_14.csv',\n",
       " 'collin_data/2020-04-21_09:04:34_15.csv',\n",
       " 'collin_data/2020-04-21_08:42:54_11.csv',\n",
       " 'collin_data/2020-04-21_08:20:26_6.csv',\n",
       " 'collin_data/2020-04-21_08:16:13_5.csv',\n",
       " 'collin_data/2020-04-21_08:08:42_3.csv',\n",
       " 'collin_data/2020-04-21_08:39:56_10.csv',\n",
       " 'collin_data/2020-04-21_08:31:35_8.csv',\n",
       " 'collin_data/2020-04-21_08:06:32_3.csv',\n",
       " 'collin_data/2020-04-21_08:01:37_2.csv',\n",
       " 'collin_data/2020-04-21_08:58:12_14.csv',\n",
       " 'collin_data/2020-04-21_09:33:22_A.csv',\n",
       " 'collin_data/2020-04-21_09:36:31_A.csv',\n",
       " 'collin_data/2020-04-21_08:43:11_11.csv',\n",
       " 'collin_data/2020-04-21_08:46:41_12.csv',\n",
       " 'collin_data/2020-04-21_08:51:54_13.csv',\n",
       " 'collin_data/2020-04-21_08:14:40_5.csv',\n",
       " 'collin_data/2020-04-21_08:10:32_4.csv',\n",
       " 'collin_data/2020-04-21_09:31:09_A.csv',\n",
       " 'collin_data/2020-04-21_09:02:32_15.csv',\n",
       " 'collin_data/2020-04-21_08:21:23_6.csv',\n",
       " 'collin_data/2020-04-21_09:17:59_A.csv',\n",
       " 'collin_data/2020-04-21_08:31:56_8.csv',\n",
       " 'collin_data/2020-04-21_08:31:13_8.csv',\n",
       " 'collin_data/2020-04-21_08:06:14_3.csv',\n",
       " 'collin_data/2020-04-21_08:01:54_2.csv',\n",
       " 'collin_data/2020-04-21_08:03:42_2.csv',\n",
       " 'collin_data/2020-04-21_08:37:43_10.csv',\n",
       " 'collin_data/2020-04-21_09:20:35_A.csv',\n",
       " 'collin_data/2020-04-21_08:38:42_10.csv',\n",
       " 'collin_data/2020-04-21_08:29:41_8.csv',\n",
       " 'collin_data/2020-04-21_09:28:18_A.csv',\n",
       " 'collin_data/2020-04-21_09:22:46_A.csv',\n",
       " 'collin_data/2020-04-21_09:23:03_A.csv',\n",
       " 'collin_data/2020-04-21_09:17:01_A.csv',\n",
       " 'collin_data/2020-04-21_08:20:46_6.csv',\n",
       " 'collin_data/2020-04-21_08:59:32_14.csv',\n",
       " 'collin_data/2020-04-21_08:33:18_9.csv',\n",
       " 'collin_data/2020-04-21_08:26:22_7.csv',\n",
       " 'collin_data/2020-04-21_08:50:17_13.csv',\n",
       " 'collin_data/2020-04-21_08:16:49_5.csv',\n",
       " 'collin_data/2020-04-21_09:20:50_A.csv',\n",
       " 'collin_data/2020-04-21_09:25:43_A.csv',\n",
       " 'collin_data/2020-04-21_08:30:17_8.csv',\n",
       " 'collin_data/2020-04-21_09:20:17_A.csv',\n",
       " 'collin_data/2020-04-21_09:35:23_A.csv',\n",
       " 'collin_data/2020-04-21_08:33:46_9.csv',\n",
       " 'collin_data/2020-04-21_08:07:12_3.csv',\n",
       " 'collin_data/2020-04-21_09:32:02_A.csv',\n",
       " 'collin_data/2020-04-21_08:03:25_2.csv',\n",
       " 'collin_data/2020-04-21_09:32:47_A.csv',\n",
       " 'collin_data/2020-04-21_09:15:50_A.csv',\n",
       " 'collin_data/2020-04-21_08:26:58_7.csv',\n",
       " 'collin_data/2020-04-21_08:05:58_3.csv',\n",
       " 'collin_data/2020-04-21_08:16:33_5.csv',\n",
       " 'collin_data/2020-04-21_08:44:05_11.csv',\n",
       " 'collin_data/2020-04-21_07:53:28_1.csv',\n",
       " 'collin_data/2020-04-21_08:26:41_7.csv',\n",
       " 'collin_data/2020-04-21_08:26:04_7.csv',\n",
       " 'collin_data/2020-04-21_08:21:44_6.csv',\n",
       " 'collin_data/2020-04-21_08:57:56_14.csv',\n",
       " 'collin_data/2020-04-21_09:23:44_A.csv',\n",
       " 'collin_data/2020-04-21_08:51:35_13.csv',\n",
       " 'collin_data/2020-04-21_08:02:44_2.csv',\n",
       " 'collin_data/2020-04-21_09:17:46_A.csv',\n",
       " 'collin_data/2020-04-21_08:43:46_11.csv']"
      ]
     },
     "execution_count": 2,
     "metadata": {},
     "output_type": "execute_result"
    }
   ],
   "source": [
    "paths = glob.glob('collin_data/*')\n",
    "paths"
   ]
  },
  {
   "cell_type": "code",
   "execution_count": 3,
   "metadata": {},
   "outputs": [],
   "source": [
    "def initializeDf(path):\n",
    "    \n",
    "    df = pd.read_csv(path).reset_index()\n",
    "    df.drop(\" pill_count\", axis=1, inplace=True)\n",
    "    return df"
   ]
  },
  {
   "cell_type": "code",
   "execution_count": 4,
   "metadata": {},
   "outputs": [],
   "source": [
    "def getMetaInfo(path):\n",
    "    \n",
    "    pill_count = path.split(\"_\")[-1].split(\".\")[0]\n",
    "    if pill_count == \"A\": pill_count = np.nan\n",
    "    else: pill_count = int(pill_count)\n",
    "    \n",
    "    meta_df = pd.DataFrame(data={\"pill_count\":[pill_count]})\n",
    "    meta_df[\"pills_low\"] = (meta_df[\"pill_count\"] <= 10).astype(int)\n",
    "    \n",
    "    if type(pill_count) == int:\n",
    "        meta_df[\"activity\"] = \"pill\"\n",
    "    else:\n",
    "        meta_df[\"activity\"] = \"other\"\n",
    "        meta_df[\"pills_low\"] = np.nan\n",
    "        \n",
    "    return meta_df"
   ]
  },
  {
   "cell_type": "code",
   "execution_count": 5,
   "metadata": {},
   "outputs": [],
   "source": [
    "def renameColumns(df):\n",
    "        \n",
    "    df.columns = ['loggingSample',\n",
    "                   'accel_x',\n",
    "                   'accel_y',\n",
    "                   'accel_z',\n",
    "                   'gyro_x',\n",
    "                   'gyro_y',\n",
    "                   'gyro_z']\n",
    "    return df"
   ]
  },
  {
   "cell_type": "code",
   "execution_count": 6,
   "metadata": {},
   "outputs": [],
   "source": [
    "def trimData(df, trim_start_pct, trim_end_pct):\n",
    "    \n",
    "    count = df.shape[0]\n",
    "    new_start = math.floor(count * trim_start_pct)\n",
    "    new_end = math.ceil(count * (1 - trim_end_pct))\n",
    "    \n",
    "    return df[new_start:new_end]"
   ]
  },
  {
   "cell_type": "code",
   "execution_count": 7,
   "metadata": {},
   "outputs": [],
   "source": [
    "def windowData(df, n_windows):\n",
    "    \n",
    "    df[\"window\"] = pd.qcut(df[\"loggingSample\"], \n",
    "                           n_windows, \n",
    "                           range(1,n_windows+1))\n",
    "    \n",
    "    return df"
   ]
  },
  {
   "cell_type": "code",
   "execution_count": 8,
   "metadata": {},
   "outputs": [],
   "source": [
    "def pivotData(df):\n",
    "    \n",
    "    df = df.groupby('window')[[\"gyro_x\", \"gyro_y\", \"gyro_z\", \n",
    "                    \"accel_x\", \"accel_y\", \"accel_z\"]]\\\n",
    "                    .agg([\"median\", \"min\", \"max\", \"std\"])\n",
    "    \n",
    "    df.columns = [\"_\".join(col).strip() for col in df.columns.values]\n",
    "    df[\"temp\"] = None\n",
    "    df = df.reset_index()\n",
    "    \n",
    "    df = df.pivot(\"temp\", \"window\").reset_index(drop=True)\n",
    "    df.columns = [col[0] + \"_\" + str(col[1]) for col in df.columns.values]\n",
    "    \n",
    "    return df"
   ]
  },
  {
   "cell_type": "code",
   "execution_count": 9,
   "metadata": {},
   "outputs": [],
   "source": [
    "def processFile(path):\n",
    "    \n",
    "    meta_df = getMetaInfo(path)        \n",
    "\n",
    "    df = initializeDf(path)        \n",
    "    df = renameColumns(df)\n",
    "    \n",
    "    if meta_df[\"activity\"][0] == \"other\":\n",
    "        df[\"gyro_z\"] = df[\"gyro_z\"].apply(lambda x: float(x[:-1]))\n",
    "\n",
    "    \n",
    "    df = trimData(df, trim_start_pct=0.05, trim_end_pct=0.05)\n",
    "    df = windowData(df, n_windows=5)\n",
    "    df = pivotData(df)\n",
    "    \n",
    "    \n",
    "    return pd.concat([df, meta_df], axis=1)"
   ]
  },
  {
   "cell_type": "code",
   "execution_count": 10,
   "metadata": {
    "scrolled": true
   },
   "outputs": [],
   "source": [
    "processed_df = pd.DataFrame()\n",
    "\n",
    "for i, path in enumerate(paths):\n",
    "    df_ = processFile(path)\n",
    "    processed_df = pd.concat([processed_df, df_ ])"
   ]
  },
  {
   "cell_type": "code",
   "execution_count": 11,
   "metadata": {},
   "outputs": [
    {
     "data": {
      "text/html": [
       "<div>\n",
       "<style scoped>\n",
       "    .dataframe tbody tr th:only-of-type {\n",
       "        vertical-align: middle;\n",
       "    }\n",
       "\n",
       "    .dataframe tbody tr th {\n",
       "        vertical-align: top;\n",
       "    }\n",
       "\n",
       "    .dataframe thead th {\n",
       "        text-align: right;\n",
       "    }\n",
       "</style>\n",
       "<table border=\"1\" class=\"dataframe\">\n",
       "  <thead>\n",
       "    <tr style=\"text-align: right;\">\n",
       "      <th></th>\n",
       "      <th>gyro_x_median_1</th>\n",
       "      <th>gyro_x_median_2</th>\n",
       "      <th>gyro_x_median_3</th>\n",
       "      <th>gyro_x_median_4</th>\n",
       "      <th>gyro_x_median_5</th>\n",
       "      <th>gyro_x_min_1</th>\n",
       "      <th>gyro_x_min_2</th>\n",
       "      <th>gyro_x_min_3</th>\n",
       "      <th>gyro_x_min_4</th>\n",
       "      <th>gyro_x_min_5</th>\n",
       "      <th>...</th>\n",
       "      <th>accel_z_max_4</th>\n",
       "      <th>accel_z_max_5</th>\n",
       "      <th>accel_z_std_1</th>\n",
       "      <th>accel_z_std_2</th>\n",
       "      <th>accel_z_std_3</th>\n",
       "      <th>accel_z_std_4</th>\n",
       "      <th>accel_z_std_5</th>\n",
       "      <th>pill_count</th>\n",
       "      <th>pills_low</th>\n",
       "      <th>activity</th>\n",
       "    </tr>\n",
       "  </thead>\n",
       "  <tbody>\n",
       "    <tr>\n",
       "      <td>0</td>\n",
       "      <td>-0.367935</td>\n",
       "      <td>-0.074074</td>\n",
       "      <td>0.043672</td>\n",
       "      <td>0.232942</td>\n",
       "      <td>0.527233</td>\n",
       "      <td>-11.518023</td>\n",
       "      <td>-12.162574</td>\n",
       "      <td>-0.59567</td>\n",
       "      <td>-2.333485</td>\n",
       "      <td>-1.492186</td>\n",
       "      <td>...</td>\n",
       "      <td>0.512223</td>\n",
       "      <td>0.131544</td>\n",
       "      <td>0.173853</td>\n",
       "      <td>0.101226</td>\n",
       "      <td>0.198305</td>\n",
       "      <td>0.24711</td>\n",
       "      <td>0.062755</td>\n",
       "      <td>6.0</td>\n",
       "      <td>1.0</td>\n",
       "      <td>pill</td>\n",
       "    </tr>\n",
       "  </tbody>\n",
       "</table>\n",
       "<p>1 rows × 123 columns</p>\n",
       "</div>"
      ],
      "text/plain": [
       "   gyro_x_median_1  gyro_x_median_2  gyro_x_median_3  gyro_x_median_4  \\\n",
       "0        -0.367935        -0.074074         0.043672         0.232942   \n",
       "\n",
       "   gyro_x_median_5  gyro_x_min_1  gyro_x_min_2  gyro_x_min_3  gyro_x_min_4  \\\n",
       "0         0.527233    -11.518023    -12.162574      -0.59567     -2.333485   \n",
       "\n",
       "   gyro_x_min_5  ...  accel_z_max_4  accel_z_max_5  accel_z_std_1  \\\n",
       "0     -1.492186  ...       0.512223       0.131544       0.173853   \n",
       "\n",
       "   accel_z_std_2  accel_z_std_3  accel_z_std_4  accel_z_std_5  pill_count  \\\n",
       "0       0.101226       0.198305        0.24711       0.062755         6.0   \n",
       "\n",
       "   pills_low  activity  \n",
       "0        1.0      pill  \n",
       "\n",
       "[1 rows x 123 columns]"
      ]
     },
     "execution_count": 11,
     "metadata": {},
     "output_type": "execute_result"
    }
   ],
   "source": [
    "processed_df.reset_index(drop=True).head(1)"
   ]
  },
  {
   "cell_type": "code",
   "execution_count": 12,
   "metadata": {},
   "outputs": [],
   "source": [
    "processed_df = processed_df.reset_index(drop=True)"
   ]
  },
  {
   "cell_type": "code",
   "execution_count": 13,
   "metadata": {},
   "outputs": [],
   "source": [
    "assert processed_df.drop([\"pill_count\",\"pills_low\",\"activity\"], axis=1).isna().values.any() == False"
   ]
  },
  {
   "cell_type": "code",
   "execution_count": 14,
   "metadata": {},
   "outputs": [
    {
     "data": {
      "text/html": [
       "<div>\n",
       "<style scoped>\n",
       "    .dataframe tbody tr th:only-of-type {\n",
       "        vertical-align: middle;\n",
       "    }\n",
       "\n",
       "    .dataframe tbody tr th {\n",
       "        vertical-align: top;\n",
       "    }\n",
       "\n",
       "    .dataframe thead th {\n",
       "        text-align: right;\n",
       "    }\n",
       "</style>\n",
       "<table border=\"1\" class=\"dataframe\">\n",
       "  <thead>\n",
       "    <tr style=\"text-align: right;\">\n",
       "      <th></th>\n",
       "      <th>gyro_x_median_1</th>\n",
       "      <th>gyro_x_median_2</th>\n",
       "      <th>gyro_x_median_3</th>\n",
       "      <th>gyro_x_median_4</th>\n",
       "      <th>gyro_x_median_5</th>\n",
       "      <th>gyro_x_min_1</th>\n",
       "      <th>gyro_x_min_2</th>\n",
       "      <th>gyro_x_min_3</th>\n",
       "      <th>gyro_x_min_4</th>\n",
       "      <th>gyro_x_min_5</th>\n",
       "      <th>...</th>\n",
       "      <th>accel_z_max_4</th>\n",
       "      <th>accel_z_max_5</th>\n",
       "      <th>accel_z_std_1</th>\n",
       "      <th>accel_z_std_2</th>\n",
       "      <th>accel_z_std_3</th>\n",
       "      <th>accel_z_std_4</th>\n",
       "      <th>accel_z_std_5</th>\n",
       "      <th>pill_count</th>\n",
       "      <th>pills_low</th>\n",
       "      <th>activity</th>\n",
       "    </tr>\n",
       "  </thead>\n",
       "  <tbody>\n",
       "    <tr>\n",
       "      <td>0</td>\n",
       "      <td>-0.367935</td>\n",
       "      <td>-0.074074</td>\n",
       "      <td>0.043672</td>\n",
       "      <td>0.232942</td>\n",
       "      <td>0.527233</td>\n",
       "      <td>-11.518023</td>\n",
       "      <td>-12.162574</td>\n",
       "      <td>-0.595670</td>\n",
       "      <td>-2.333485</td>\n",
       "      <td>-1.492186</td>\n",
       "      <td>...</td>\n",
       "      <td>0.512223</td>\n",
       "      <td>0.131544</td>\n",
       "      <td>0.173853</td>\n",
       "      <td>0.101226</td>\n",
       "      <td>0.198305</td>\n",
       "      <td>0.247110</td>\n",
       "      <td>0.062755</td>\n",
       "      <td>6.0</td>\n",
       "      <td>1.0</td>\n",
       "      <td>pill</td>\n",
       "    </tr>\n",
       "    <tr>\n",
       "      <td>1</td>\n",
       "      <td>0.004561</td>\n",
       "      <td>0.004920</td>\n",
       "      <td>0.004185</td>\n",
       "      <td>0.002851</td>\n",
       "      <td>0.003876</td>\n",
       "      <td>-0.011572</td>\n",
       "      <td>-0.019182</td>\n",
       "      <td>-0.005499</td>\n",
       "      <td>-0.007010</td>\n",
       "      <td>-0.048374</td>\n",
       "      <td>...</td>\n",
       "      <td>0.004675</td>\n",
       "      <td>0.004740</td>\n",
       "      <td>0.001196</td>\n",
       "      <td>0.001299</td>\n",
       "      <td>0.000991</td>\n",
       "      <td>0.001201</td>\n",
       "      <td>0.001521</td>\n",
       "      <td>NaN</td>\n",
       "      <td>NaN</td>\n",
       "      <td>other</td>\n",
       "    </tr>\n",
       "    <tr>\n",
       "      <td>2</td>\n",
       "      <td>-0.000356</td>\n",
       "      <td>-0.000974</td>\n",
       "      <td>-0.001491</td>\n",
       "      <td>-0.002749</td>\n",
       "      <td>0.000840</td>\n",
       "      <td>-0.063841</td>\n",
       "      <td>-0.010988</td>\n",
       "      <td>-0.014018</td>\n",
       "      <td>-0.012494</td>\n",
       "      <td>-0.024369</td>\n",
       "      <td>...</td>\n",
       "      <td>0.005652</td>\n",
       "      <td>0.010302</td>\n",
       "      <td>0.003826</td>\n",
       "      <td>0.001059</td>\n",
       "      <td>0.001365</td>\n",
       "      <td>0.001158</td>\n",
       "      <td>0.002209</td>\n",
       "      <td>NaN</td>\n",
       "      <td>NaN</td>\n",
       "      <td>other</td>\n",
       "    </tr>\n",
       "    <tr>\n",
       "      <td>3</td>\n",
       "      <td>-0.233266</td>\n",
       "      <td>-0.005641</td>\n",
       "      <td>1.015926</td>\n",
       "      <td>-0.515116</td>\n",
       "      <td>0.093410</td>\n",
       "      <td>-2.617697</td>\n",
       "      <td>-10.054420</td>\n",
       "      <td>-2.838974</td>\n",
       "      <td>-3.884917</td>\n",
       "      <td>-0.249898</td>\n",
       "      <td>...</td>\n",
       "      <td>0.227304</td>\n",
       "      <td>0.208025</td>\n",
       "      <td>0.187443</td>\n",
       "      <td>0.211181</td>\n",
       "      <td>0.208041</td>\n",
       "      <td>0.070130</td>\n",
       "      <td>0.067465</td>\n",
       "      <td>1.0</td>\n",
       "      <td>1.0</td>\n",
       "      <td>pill</td>\n",
       "    </tr>\n",
       "    <tr>\n",
       "      <td>4</td>\n",
       "      <td>-0.554068</td>\n",
       "      <td>-0.236736</td>\n",
       "      <td>1.485785</td>\n",
       "      <td>-0.323291</td>\n",
       "      <td>0.579958</td>\n",
       "      <td>-4.953338</td>\n",
       "      <td>-11.776284</td>\n",
       "      <td>0.217840</td>\n",
       "      <td>-2.587376</td>\n",
       "      <td>-0.235746</td>\n",
       "      <td>...</td>\n",
       "      <td>0.265844</td>\n",
       "      <td>0.151806</td>\n",
       "      <td>0.163725</td>\n",
       "      <td>0.106234</td>\n",
       "      <td>0.158480</td>\n",
       "      <td>0.112807</td>\n",
       "      <td>0.054894</td>\n",
       "      <td>9.0</td>\n",
       "      <td>1.0</td>\n",
       "      <td>pill</td>\n",
       "    </tr>\n",
       "    <tr>\n",
       "      <td>...</td>\n",
       "      <td>...</td>\n",
       "      <td>...</td>\n",
       "      <td>...</td>\n",
       "      <td>...</td>\n",
       "      <td>...</td>\n",
       "      <td>...</td>\n",
       "      <td>...</td>\n",
       "      <td>...</td>\n",
       "      <td>...</td>\n",
       "      <td>...</td>\n",
       "      <td>...</td>\n",
       "      <td>...</td>\n",
       "      <td>...</td>\n",
       "      <td>...</td>\n",
       "      <td>...</td>\n",
       "      <td>...</td>\n",
       "      <td>...</td>\n",
       "      <td>...</td>\n",
       "      <td>...</td>\n",
       "      <td>...</td>\n",
       "      <td>...</td>\n",
       "    </tr>\n",
       "    <tr>\n",
       "      <td>210</td>\n",
       "      <td>0.003332</td>\n",
       "      <td>-0.001874</td>\n",
       "      <td>-0.000918</td>\n",
       "      <td>0.000777</td>\n",
       "      <td>-0.004130</td>\n",
       "      <td>-0.021424</td>\n",
       "      <td>-0.015726</td>\n",
       "      <td>-0.016008</td>\n",
       "      <td>-0.018458</td>\n",
       "      <td>-0.050326</td>\n",
       "      <td>...</td>\n",
       "      <td>0.004462</td>\n",
       "      <td>0.018512</td>\n",
       "      <td>0.001399</td>\n",
       "      <td>0.001169</td>\n",
       "      <td>0.001201</td>\n",
       "      <td>0.001181</td>\n",
       "      <td>0.003035</td>\n",
       "      <td>NaN</td>\n",
       "      <td>NaN</td>\n",
       "      <td>other</td>\n",
       "    </tr>\n",
       "    <tr>\n",
       "      <td>211</td>\n",
       "      <td>-0.280273</td>\n",
       "      <td>-0.314979</td>\n",
       "      <td>0.675794</td>\n",
       "      <td>-0.180135</td>\n",
       "      <td>0.163862</td>\n",
       "      <td>-2.518000</td>\n",
       "      <td>-10.336287</td>\n",
       "      <td>-0.267164</td>\n",
       "      <td>-2.809045</td>\n",
       "      <td>-1.331136</td>\n",
       "      <td>...</td>\n",
       "      <td>0.199607</td>\n",
       "      <td>0.103696</td>\n",
       "      <td>0.179829</td>\n",
       "      <td>0.172772</td>\n",
       "      <td>0.132402</td>\n",
       "      <td>0.174332</td>\n",
       "      <td>0.055122</td>\n",
       "      <td>13.0</td>\n",
       "      <td>0.0</td>\n",
       "      <td>pill</td>\n",
       "    </tr>\n",
       "    <tr>\n",
       "      <td>212</td>\n",
       "      <td>-0.342428</td>\n",
       "      <td>-0.663958</td>\n",
       "      <td>1.182321</td>\n",
       "      <td>0.629328</td>\n",
       "      <td>0.018379</td>\n",
       "      <td>-3.538319</td>\n",
       "      <td>-10.908702</td>\n",
       "      <td>-0.482931</td>\n",
       "      <td>-4.496098</td>\n",
       "      <td>-6.702565</td>\n",
       "      <td>...</td>\n",
       "      <td>0.127886</td>\n",
       "      <td>0.311013</td>\n",
       "      <td>0.252768</td>\n",
       "      <td>0.174930</td>\n",
       "      <td>0.217101</td>\n",
       "      <td>0.073176</td>\n",
       "      <td>0.089824</td>\n",
       "      <td>2.0</td>\n",
       "      <td>1.0</td>\n",
       "      <td>pill</td>\n",
       "    </tr>\n",
       "    <tr>\n",
       "      <td>213</td>\n",
       "      <td>0.000144</td>\n",
       "      <td>-0.001348</td>\n",
       "      <td>-0.001612</td>\n",
       "      <td>-0.000340</td>\n",
       "      <td>0.000059</td>\n",
       "      <td>-0.023678</td>\n",
       "      <td>-0.027025</td>\n",
       "      <td>-0.013416</td>\n",
       "      <td>-0.017935</td>\n",
       "      <td>-0.016771</td>\n",
       "      <td>...</td>\n",
       "      <td>0.005629</td>\n",
       "      <td>0.014098</td>\n",
       "      <td>0.001525</td>\n",
       "      <td>0.001496</td>\n",
       "      <td>0.001070</td>\n",
       "      <td>0.001188</td>\n",
       "      <td>0.002278</td>\n",
       "      <td>NaN</td>\n",
       "      <td>NaN</td>\n",
       "      <td>other</td>\n",
       "    </tr>\n",
       "    <tr>\n",
       "      <td>214</td>\n",
       "      <td>-0.487766</td>\n",
       "      <td>-0.083561</td>\n",
       "      <td>0.473874</td>\n",
       "      <td>0.207503</td>\n",
       "      <td>0.064328</td>\n",
       "      <td>-6.207327</td>\n",
       "      <td>-10.278506</td>\n",
       "      <td>0.016571</td>\n",
       "      <td>-2.762378</td>\n",
       "      <td>-1.449418</td>\n",
       "      <td>...</td>\n",
       "      <td>0.177450</td>\n",
       "      <td>0.197609</td>\n",
       "      <td>0.178643</td>\n",
       "      <td>0.083631</td>\n",
       "      <td>0.096888</td>\n",
       "      <td>0.118196</td>\n",
       "      <td>0.052125</td>\n",
       "      <td>11.0</td>\n",
       "      <td>0.0</td>\n",
       "      <td>pill</td>\n",
       "    </tr>\n",
       "  </tbody>\n",
       "</table>\n",
       "<p>215 rows × 123 columns</p>\n",
       "</div>"
      ],
      "text/plain": [
       "     gyro_x_median_1  gyro_x_median_2  gyro_x_median_3  gyro_x_median_4  \\\n",
       "0          -0.367935        -0.074074         0.043672         0.232942   \n",
       "1           0.004561         0.004920         0.004185         0.002851   \n",
       "2          -0.000356        -0.000974        -0.001491        -0.002749   \n",
       "3          -0.233266        -0.005641         1.015926        -0.515116   \n",
       "4          -0.554068        -0.236736         1.485785        -0.323291   \n",
       "..               ...              ...              ...              ...   \n",
       "210         0.003332        -0.001874        -0.000918         0.000777   \n",
       "211        -0.280273        -0.314979         0.675794        -0.180135   \n",
       "212        -0.342428        -0.663958         1.182321         0.629328   \n",
       "213         0.000144        -0.001348        -0.001612        -0.000340   \n",
       "214        -0.487766        -0.083561         0.473874         0.207503   \n",
       "\n",
       "     gyro_x_median_5  gyro_x_min_1  gyro_x_min_2  gyro_x_min_3  gyro_x_min_4  \\\n",
       "0           0.527233    -11.518023    -12.162574     -0.595670     -2.333485   \n",
       "1           0.003876     -0.011572     -0.019182     -0.005499     -0.007010   \n",
       "2           0.000840     -0.063841     -0.010988     -0.014018     -0.012494   \n",
       "3           0.093410     -2.617697    -10.054420     -2.838974     -3.884917   \n",
       "4           0.579958     -4.953338    -11.776284      0.217840     -2.587376   \n",
       "..               ...           ...           ...           ...           ...   \n",
       "210        -0.004130     -0.021424     -0.015726     -0.016008     -0.018458   \n",
       "211         0.163862     -2.518000    -10.336287     -0.267164     -2.809045   \n",
       "212         0.018379     -3.538319    -10.908702     -0.482931     -4.496098   \n",
       "213         0.000059     -0.023678     -0.027025     -0.013416     -0.017935   \n",
       "214         0.064328     -6.207327    -10.278506      0.016571     -2.762378   \n",
       "\n",
       "     gyro_x_min_5  ...  accel_z_max_4  accel_z_max_5  accel_z_std_1  \\\n",
       "0       -1.492186  ...       0.512223       0.131544       0.173853   \n",
       "1       -0.048374  ...       0.004675       0.004740       0.001196   \n",
       "2       -0.024369  ...       0.005652       0.010302       0.003826   \n",
       "3       -0.249898  ...       0.227304       0.208025       0.187443   \n",
       "4       -0.235746  ...       0.265844       0.151806       0.163725   \n",
       "..            ...  ...            ...            ...            ...   \n",
       "210     -0.050326  ...       0.004462       0.018512       0.001399   \n",
       "211     -1.331136  ...       0.199607       0.103696       0.179829   \n",
       "212     -6.702565  ...       0.127886       0.311013       0.252768   \n",
       "213     -0.016771  ...       0.005629       0.014098       0.001525   \n",
       "214     -1.449418  ...       0.177450       0.197609       0.178643   \n",
       "\n",
       "     accel_z_std_2  accel_z_std_3  accel_z_std_4  accel_z_std_5  pill_count  \\\n",
       "0         0.101226       0.198305       0.247110       0.062755         6.0   \n",
       "1         0.001299       0.000991       0.001201       0.001521         NaN   \n",
       "2         0.001059       0.001365       0.001158       0.002209         NaN   \n",
       "3         0.211181       0.208041       0.070130       0.067465         1.0   \n",
       "4         0.106234       0.158480       0.112807       0.054894         9.0   \n",
       "..             ...            ...            ...            ...         ...   \n",
       "210       0.001169       0.001201       0.001181       0.003035         NaN   \n",
       "211       0.172772       0.132402       0.174332       0.055122        13.0   \n",
       "212       0.174930       0.217101       0.073176       0.089824         2.0   \n",
       "213       0.001496       0.001070       0.001188       0.002278         NaN   \n",
       "214       0.083631       0.096888       0.118196       0.052125        11.0   \n",
       "\n",
       "     pills_low  activity  \n",
       "0          1.0      pill  \n",
       "1          NaN     other  \n",
       "2          NaN     other  \n",
       "3          1.0      pill  \n",
       "4          1.0      pill  \n",
       "..         ...       ...  \n",
       "210        NaN     other  \n",
       "211        0.0      pill  \n",
       "212        1.0      pill  \n",
       "213        NaN     other  \n",
       "214        0.0      pill  \n",
       "\n",
       "[215 rows x 123 columns]"
      ]
     },
     "execution_count": 14,
     "metadata": {},
     "output_type": "execute_result"
    }
   ],
   "source": [
    "processed_df"
   ]
  },
  {
   "cell_type": "markdown",
   "metadata": {},
   "source": [
    "----\n",
    "# Exploratory Modeling"
   ]
  },
  {
   "cell_type": "code",
   "execution_count": 15,
   "metadata": {},
   "outputs": [],
   "source": [
    "import math\n",
    "\n",
    "import xgboost as xgb\n",
    "from sklearn.model_selection import train_test_split\n",
    "from sklearn.model_selection import RandomizedSearchCV\n",
    "from sklearn.metrics import r2_score, median_absolute_error, mean_absolute_error, f1_score\n",
    "\n",
    "import torch\n",
    "import torch.nn as nn\n",
    "import torch.nn.functional as F\n",
    "from sklearn.preprocessing import StandardScaler"
   ]
  },
  {
   "cell_type": "markdown",
   "metadata": {},
   "source": [
    "### Scaling "
   ]
  },
  {
   "cell_type": "code",
   "execution_count": 16,
   "metadata": {},
   "outputs": [],
   "source": [
    "ss = StandardScaler()"
   ]
  },
  {
   "cell_type": "code",
   "execution_count": 17,
   "metadata": {},
   "outputs": [
    {
     "data": {
      "text/plain": [
       "8.0     10\n",
       "10.0    10\n",
       "13.0    10\n",
       "11.0    10\n",
       "5.0     10\n",
       "15.0    10\n",
       "14.0    10\n",
       "4.0     10\n",
       "12.0    10\n",
       "2.0     10\n",
       "7.0     10\n",
       "3.0     10\n",
       "9.0     10\n",
       "1.0     10\n",
       "6.0     10\n",
       "Name: pill_count, dtype: int64"
      ]
     },
     "execution_count": 17,
     "metadata": {},
     "output_type": "execute_result"
    }
   ],
   "source": [
    "processed_df[\"pill_count\"].value_counts()"
   ]
  },
  {
   "cell_type": "markdown",
   "metadata": {},
   "source": [
    "### Regression"
   ]
  },
  {
   "cell_type": "code",
   "execution_count": 18,
   "metadata": {},
   "outputs": [
    {
     "data": {
      "text/html": [
       "<div>\n",
       "<style scoped>\n",
       "    .dataframe tbody tr th:only-of-type {\n",
       "        vertical-align: middle;\n",
       "    }\n",
       "\n",
       "    .dataframe tbody tr th {\n",
       "        vertical-align: top;\n",
       "    }\n",
       "\n",
       "    .dataframe thead th {\n",
       "        text-align: right;\n",
       "    }\n",
       "</style>\n",
       "<table border=\"1\" class=\"dataframe\">\n",
       "  <thead>\n",
       "    <tr style=\"text-align: right;\">\n",
       "      <th></th>\n",
       "      <th>gyro_x_median_1</th>\n",
       "      <th>gyro_x_median_2</th>\n",
       "      <th>gyro_x_median_3</th>\n",
       "      <th>gyro_x_median_4</th>\n",
       "      <th>gyro_x_median_5</th>\n",
       "      <th>gyro_x_min_1</th>\n",
       "      <th>gyro_x_min_2</th>\n",
       "      <th>gyro_x_min_3</th>\n",
       "      <th>gyro_x_min_4</th>\n",
       "      <th>gyro_x_min_5</th>\n",
       "      <th>...</th>\n",
       "      <th>accel_z_max_4</th>\n",
       "      <th>accel_z_max_5</th>\n",
       "      <th>accel_z_std_1</th>\n",
       "      <th>accel_z_std_2</th>\n",
       "      <th>accel_z_std_3</th>\n",
       "      <th>accel_z_std_4</th>\n",
       "      <th>accel_z_std_5</th>\n",
       "      <th>pill_count</th>\n",
       "      <th>pills_low</th>\n",
       "      <th>activity</th>\n",
       "    </tr>\n",
       "  </thead>\n",
       "  <tbody>\n",
       "    <tr>\n",
       "      <td>0</td>\n",
       "      <td>-0.367935</td>\n",
       "      <td>-0.074074</td>\n",
       "      <td>0.043672</td>\n",
       "      <td>0.232942</td>\n",
       "      <td>0.527233</td>\n",
       "      <td>-11.518023</td>\n",
       "      <td>-12.162574</td>\n",
       "      <td>-0.595670</td>\n",
       "      <td>-2.333485</td>\n",
       "      <td>-1.492186</td>\n",
       "      <td>...</td>\n",
       "      <td>0.512223</td>\n",
       "      <td>0.131544</td>\n",
       "      <td>0.173853</td>\n",
       "      <td>0.101226</td>\n",
       "      <td>0.198305</td>\n",
       "      <td>0.247110</td>\n",
       "      <td>0.062755</td>\n",
       "      <td>6.0</td>\n",
       "      <td>1.0</td>\n",
       "      <td>pill</td>\n",
       "    </tr>\n",
       "    <tr>\n",
       "      <td>3</td>\n",
       "      <td>-0.233266</td>\n",
       "      <td>-0.005641</td>\n",
       "      <td>1.015926</td>\n",
       "      <td>-0.515116</td>\n",
       "      <td>0.093410</td>\n",
       "      <td>-2.617697</td>\n",
       "      <td>-10.054420</td>\n",
       "      <td>-2.838974</td>\n",
       "      <td>-3.884917</td>\n",
       "      <td>-0.249898</td>\n",
       "      <td>...</td>\n",
       "      <td>0.227304</td>\n",
       "      <td>0.208025</td>\n",
       "      <td>0.187443</td>\n",
       "      <td>0.211181</td>\n",
       "      <td>0.208041</td>\n",
       "      <td>0.070130</td>\n",
       "      <td>0.067465</td>\n",
       "      <td>1.0</td>\n",
       "      <td>1.0</td>\n",
       "      <td>pill</td>\n",
       "    </tr>\n",
       "    <tr>\n",
       "      <td>4</td>\n",
       "      <td>-0.554068</td>\n",
       "      <td>-0.236736</td>\n",
       "      <td>1.485785</td>\n",
       "      <td>-0.323291</td>\n",
       "      <td>0.579958</td>\n",
       "      <td>-4.953338</td>\n",
       "      <td>-11.776284</td>\n",
       "      <td>0.217840</td>\n",
       "      <td>-2.587376</td>\n",
       "      <td>-0.235746</td>\n",
       "      <td>...</td>\n",
       "      <td>0.265844</td>\n",
       "      <td>0.151806</td>\n",
       "      <td>0.163725</td>\n",
       "      <td>0.106234</td>\n",
       "      <td>0.158480</td>\n",
       "      <td>0.112807</td>\n",
       "      <td>0.054894</td>\n",
       "      <td>9.0</td>\n",
       "      <td>1.0</td>\n",
       "      <td>pill</td>\n",
       "    </tr>\n",
       "    <tr>\n",
       "      <td>5</td>\n",
       "      <td>-0.173755</td>\n",
       "      <td>-0.117661</td>\n",
       "      <td>1.429057</td>\n",
       "      <td>-0.273822</td>\n",
       "      <td>0.638555</td>\n",
       "      <td>-5.859836</td>\n",
       "      <td>-10.901626</td>\n",
       "      <td>-0.203829</td>\n",
       "      <td>-1.994986</td>\n",
       "      <td>-0.036500</td>\n",
       "      <td>...</td>\n",
       "      <td>0.253822</td>\n",
       "      <td>0.111044</td>\n",
       "      <td>0.235336</td>\n",
       "      <td>0.209178</td>\n",
       "      <td>0.129835</td>\n",
       "      <td>0.132793</td>\n",
       "      <td>0.046530</td>\n",
       "      <td>9.0</td>\n",
       "      <td>1.0</td>\n",
       "      <td>pill</td>\n",
       "    </tr>\n",
       "    <tr>\n",
       "      <td>8</td>\n",
       "      <td>-0.303467</td>\n",
       "      <td>-0.192580</td>\n",
       "      <td>0.064904</td>\n",
       "      <td>0.278077</td>\n",
       "      <td>0.218809</td>\n",
       "      <td>-2.886006</td>\n",
       "      <td>-10.914850</td>\n",
       "      <td>-0.255372</td>\n",
       "      <td>-2.978877</td>\n",
       "      <td>-1.057929</td>\n",
       "      <td>...</td>\n",
       "      <td>0.216209</td>\n",
       "      <td>0.219264</td>\n",
       "      <td>0.106576</td>\n",
       "      <td>0.118045</td>\n",
       "      <td>0.146715</td>\n",
       "      <td>0.103779</td>\n",
       "      <td>0.074444</td>\n",
       "      <td>3.0</td>\n",
       "      <td>1.0</td>\n",
       "      <td>pill</td>\n",
       "    </tr>\n",
       "    <tr>\n",
       "      <td>...</td>\n",
       "      <td>...</td>\n",
       "      <td>...</td>\n",
       "      <td>...</td>\n",
       "      <td>...</td>\n",
       "      <td>...</td>\n",
       "      <td>...</td>\n",
       "      <td>...</td>\n",
       "      <td>...</td>\n",
       "      <td>...</td>\n",
       "      <td>...</td>\n",
       "      <td>...</td>\n",
       "      <td>...</td>\n",
       "      <td>...</td>\n",
       "      <td>...</td>\n",
       "      <td>...</td>\n",
       "      <td>...</td>\n",
       "      <td>...</td>\n",
       "      <td>...</td>\n",
       "      <td>...</td>\n",
       "      <td>...</td>\n",
       "      <td>...</td>\n",
       "    </tr>\n",
       "    <tr>\n",
       "      <td>208</td>\n",
       "      <td>-0.176335</td>\n",
       "      <td>-0.145327</td>\n",
       "      <td>0.215947</td>\n",
       "      <td>-0.136826</td>\n",
       "      <td>0.542623</td>\n",
       "      <td>-3.217016</td>\n",
       "      <td>-12.030450</td>\n",
       "      <td>-0.332189</td>\n",
       "      <td>-2.806397</td>\n",
       "      <td>-0.409238</td>\n",
       "      <td>...</td>\n",
       "      <td>0.254120</td>\n",
       "      <td>0.110802</td>\n",
       "      <td>0.185588</td>\n",
       "      <td>0.180482</td>\n",
       "      <td>0.174955</td>\n",
       "      <td>0.125244</td>\n",
       "      <td>0.050065</td>\n",
       "      <td>6.0</td>\n",
       "      <td>1.0</td>\n",
       "      <td>pill</td>\n",
       "    </tr>\n",
       "    <tr>\n",
       "      <td>209</td>\n",
       "      <td>-0.317895</td>\n",
       "      <td>-0.204468</td>\n",
       "      <td>0.532504</td>\n",
       "      <td>0.241862</td>\n",
       "      <td>0.200731</td>\n",
       "      <td>-4.743906</td>\n",
       "      <td>-10.060389</td>\n",
       "      <td>-0.194610</td>\n",
       "      <td>-2.731018</td>\n",
       "      <td>-1.151409</td>\n",
       "      <td>...</td>\n",
       "      <td>0.289740</td>\n",
       "      <td>0.134189</td>\n",
       "      <td>0.219623</td>\n",
       "      <td>0.148236</td>\n",
       "      <td>0.125828</td>\n",
       "      <td>0.159148</td>\n",
       "      <td>0.052309</td>\n",
       "      <td>14.0</td>\n",
       "      <td>0.0</td>\n",
       "      <td>pill</td>\n",
       "    </tr>\n",
       "    <tr>\n",
       "      <td>211</td>\n",
       "      <td>-0.280273</td>\n",
       "      <td>-0.314979</td>\n",
       "      <td>0.675794</td>\n",
       "      <td>-0.180135</td>\n",
       "      <td>0.163862</td>\n",
       "      <td>-2.518000</td>\n",
       "      <td>-10.336287</td>\n",
       "      <td>-0.267164</td>\n",
       "      <td>-2.809045</td>\n",
       "      <td>-1.331136</td>\n",
       "      <td>...</td>\n",
       "      <td>0.199607</td>\n",
       "      <td>0.103696</td>\n",
       "      <td>0.179829</td>\n",
       "      <td>0.172772</td>\n",
       "      <td>0.132402</td>\n",
       "      <td>0.174332</td>\n",
       "      <td>0.055122</td>\n",
       "      <td>13.0</td>\n",
       "      <td>0.0</td>\n",
       "      <td>pill</td>\n",
       "    </tr>\n",
       "    <tr>\n",
       "      <td>212</td>\n",
       "      <td>-0.342428</td>\n",
       "      <td>-0.663958</td>\n",
       "      <td>1.182321</td>\n",
       "      <td>0.629328</td>\n",
       "      <td>0.018379</td>\n",
       "      <td>-3.538319</td>\n",
       "      <td>-10.908702</td>\n",
       "      <td>-0.482931</td>\n",
       "      <td>-4.496098</td>\n",
       "      <td>-6.702565</td>\n",
       "      <td>...</td>\n",
       "      <td>0.127886</td>\n",
       "      <td>0.311013</td>\n",
       "      <td>0.252768</td>\n",
       "      <td>0.174930</td>\n",
       "      <td>0.217101</td>\n",
       "      <td>0.073176</td>\n",
       "      <td>0.089824</td>\n",
       "      <td>2.0</td>\n",
       "      <td>1.0</td>\n",
       "      <td>pill</td>\n",
       "    </tr>\n",
       "    <tr>\n",
       "      <td>214</td>\n",
       "      <td>-0.487766</td>\n",
       "      <td>-0.083561</td>\n",
       "      <td>0.473874</td>\n",
       "      <td>0.207503</td>\n",
       "      <td>0.064328</td>\n",
       "      <td>-6.207327</td>\n",
       "      <td>-10.278506</td>\n",
       "      <td>0.016571</td>\n",
       "      <td>-2.762378</td>\n",
       "      <td>-1.449418</td>\n",
       "      <td>...</td>\n",
       "      <td>0.177450</td>\n",
       "      <td>0.197609</td>\n",
       "      <td>0.178643</td>\n",
       "      <td>0.083631</td>\n",
       "      <td>0.096888</td>\n",
       "      <td>0.118196</td>\n",
       "      <td>0.052125</td>\n",
       "      <td>11.0</td>\n",
       "      <td>0.0</td>\n",
       "      <td>pill</td>\n",
       "    </tr>\n",
       "  </tbody>\n",
       "</table>\n",
       "<p>150 rows × 123 columns</p>\n",
       "</div>"
      ],
      "text/plain": [
       "     gyro_x_median_1  gyro_x_median_2  gyro_x_median_3  gyro_x_median_4  \\\n",
       "0          -0.367935        -0.074074         0.043672         0.232942   \n",
       "3          -0.233266        -0.005641         1.015926        -0.515116   \n",
       "4          -0.554068        -0.236736         1.485785        -0.323291   \n",
       "5          -0.173755        -0.117661         1.429057        -0.273822   \n",
       "8          -0.303467        -0.192580         0.064904         0.278077   \n",
       "..               ...              ...              ...              ...   \n",
       "208        -0.176335        -0.145327         0.215947        -0.136826   \n",
       "209        -0.317895        -0.204468         0.532504         0.241862   \n",
       "211        -0.280273        -0.314979         0.675794        -0.180135   \n",
       "212        -0.342428        -0.663958         1.182321         0.629328   \n",
       "214        -0.487766        -0.083561         0.473874         0.207503   \n",
       "\n",
       "     gyro_x_median_5  gyro_x_min_1  gyro_x_min_2  gyro_x_min_3  gyro_x_min_4  \\\n",
       "0           0.527233    -11.518023    -12.162574     -0.595670     -2.333485   \n",
       "3           0.093410     -2.617697    -10.054420     -2.838974     -3.884917   \n",
       "4           0.579958     -4.953338    -11.776284      0.217840     -2.587376   \n",
       "5           0.638555     -5.859836    -10.901626     -0.203829     -1.994986   \n",
       "8           0.218809     -2.886006    -10.914850     -0.255372     -2.978877   \n",
       "..               ...           ...           ...           ...           ...   \n",
       "208         0.542623     -3.217016    -12.030450     -0.332189     -2.806397   \n",
       "209         0.200731     -4.743906    -10.060389     -0.194610     -2.731018   \n",
       "211         0.163862     -2.518000    -10.336287     -0.267164     -2.809045   \n",
       "212         0.018379     -3.538319    -10.908702     -0.482931     -4.496098   \n",
       "214         0.064328     -6.207327    -10.278506      0.016571     -2.762378   \n",
       "\n",
       "     gyro_x_min_5  ...  accel_z_max_4  accel_z_max_5  accel_z_std_1  \\\n",
       "0       -1.492186  ...       0.512223       0.131544       0.173853   \n",
       "3       -0.249898  ...       0.227304       0.208025       0.187443   \n",
       "4       -0.235746  ...       0.265844       0.151806       0.163725   \n",
       "5       -0.036500  ...       0.253822       0.111044       0.235336   \n",
       "8       -1.057929  ...       0.216209       0.219264       0.106576   \n",
       "..            ...  ...            ...            ...            ...   \n",
       "208     -0.409238  ...       0.254120       0.110802       0.185588   \n",
       "209     -1.151409  ...       0.289740       0.134189       0.219623   \n",
       "211     -1.331136  ...       0.199607       0.103696       0.179829   \n",
       "212     -6.702565  ...       0.127886       0.311013       0.252768   \n",
       "214     -1.449418  ...       0.177450       0.197609       0.178643   \n",
       "\n",
       "     accel_z_std_2  accel_z_std_3  accel_z_std_4  accel_z_std_5  pill_count  \\\n",
       "0         0.101226       0.198305       0.247110       0.062755         6.0   \n",
       "3         0.211181       0.208041       0.070130       0.067465         1.0   \n",
       "4         0.106234       0.158480       0.112807       0.054894         9.0   \n",
       "5         0.209178       0.129835       0.132793       0.046530         9.0   \n",
       "8         0.118045       0.146715       0.103779       0.074444         3.0   \n",
       "..             ...            ...            ...            ...         ...   \n",
       "208       0.180482       0.174955       0.125244       0.050065         6.0   \n",
       "209       0.148236       0.125828       0.159148       0.052309        14.0   \n",
       "211       0.172772       0.132402       0.174332       0.055122        13.0   \n",
       "212       0.174930       0.217101       0.073176       0.089824         2.0   \n",
       "214       0.083631       0.096888       0.118196       0.052125        11.0   \n",
       "\n",
       "     pills_low  activity  \n",
       "0          1.0      pill  \n",
       "3          1.0      pill  \n",
       "4          1.0      pill  \n",
       "5          1.0      pill  \n",
       "8          1.0      pill  \n",
       "..         ...       ...  \n",
       "208        1.0      pill  \n",
       "209        0.0      pill  \n",
       "211        0.0      pill  \n",
       "212        1.0      pill  \n",
       "214        0.0      pill  \n",
       "\n",
       "[150 rows x 123 columns]"
      ]
     },
     "execution_count": 18,
     "metadata": {},
     "output_type": "execute_result"
    }
   ],
   "source": [
    "processed_df_reg = processed_df.loc[~processed_df.pill_count.isna()]\n",
    "processed_df_reg"
   ]
  },
  {
   "cell_type": "code",
   "execution_count": 19,
   "metadata": {},
   "outputs": [],
   "source": [
    "X = processed_df_reg.drop([\"pill_count\", \"pills_low\", \"activity\"], axis=1).to_numpy()\n",
    "X = ss.fit_transform(X)\n",
    "\n",
    "y = processed_df_reg[[\"pill_count\"]].to_numpy()"
   ]
  },
  {
   "cell_type": "code",
   "execution_count": 20,
   "metadata": {},
   "outputs": [
    {
     "data": {
      "image/png": "[encoded data removed]",
      "text/plain": [
       "<Figure size 432x288 with 1 Axes>"
      ]
     },
     "metadata": {
      "needs_background": "light"
     },
     "output_type": "display_data"
    }
   ],
   "source": [
    "import seaborn as sns\n",
    "import matplotlib.pyplot as plt\n",
    "\n",
    "plt.xlabel(\"Number of Pills\")\n",
    "plt.ylabel(\"Count\")\n",
    "sns.distplot(y, hist=True, kde=False, bins=31)\n",
    "plt.show()"
   ]
  },
  {
   "cell_type": "code",
   "execution_count": 21,
   "metadata": {},
   "outputs": [],
   "source": [
    "X_train, X_val, y_train, y_val = train_test_split(X, y, test_size=0.20, random_state=42)"
   ]
  },
  {
   "cell_type": "markdown",
   "metadata": {},
   "source": [
    "### Tree Based Regression"
   ]
  },
  {
   "cell_type": "code",
   "execution_count": 22,
   "metadata": {},
   "outputs": [
    {
     "data": {
      "text/plain": [
       "0.9999757676249538"
      ]
     },
     "execution_count": 22,
     "metadata": {},
     "output_type": "execute_result"
    }
   ],
   "source": [
    "# XGB Regressor\n",
    "xgb_reg = xgb.XGBRegressor(objective=\"reg:squarederror\", n_jobs=-1, n_estimators=150)\n",
    "xgb_reg.fit(X_train, y_train)\n",
    "xgb_reg.score(X_train, y_train)"
   ]
  },
  {
   "cell_type": "code",
   "execution_count": 23,
   "metadata": {},
   "outputs": [
    {
     "data": {
      "text/plain": [
       "0.01307058334350586"
      ]
     },
     "execution_count": 23,
     "metadata": {},
     "output_type": "execute_result"
    }
   ],
   "source": [
    "median_absolute_error(xgb_reg.predict(X_train), y_train)"
   ]
  },
  {
   "cell_type": "code",
   "execution_count": 24,
   "metadata": {},
   "outputs": [
    {
     "data": {
      "text/plain": [
       "0.7937600295705209"
      ]
     },
     "execution_count": 24,
     "metadata": {},
     "output_type": "execute_result"
    }
   ],
   "source": [
    "# Much worse on the val data \n",
    "xgb_reg.score(X_val, y_val)"
   ]
  },
  {
   "cell_type": "code",
   "execution_count": 25,
   "metadata": {
    "scrolled": true
   },
   "outputs": [
    {
     "data": {
      "text/plain": [
       "array([ 3.6680865,  8.127433 , 12.636044 ,  6.364836 ,  7.5458436,\n",
       "        6.229485 , 11.294411 , 12.089233 ,  8.798457 , 12.318484 ,\n",
       "        3.6231644,  4.4016867, 13.499495 ,  5.9232154,  8.200504 ,\n",
       "       12.454609 , 11.396478 ,  3.7832382,  7.151154 ,  8.646724 ,\n",
       "       14.136813 ,  7.495645 , 13.816497 ,  7.1959214,  9.009367 ,\n",
       "        8.314953 , 10.535794 ,  7.161952 ,  2.4158254,  3.901614 ],\n",
       "      dtype=float32)"
      ]
     },
     "execution_count": 25,
     "metadata": {},
     "output_type": "execute_result"
    }
   ],
   "source": [
    "y_pred = xgb_reg.predict(X_val)\n",
    "y_pred[:50]"
   ]
  },
  {
   "cell_type": "code",
   "execution_count": 26,
   "metadata": {},
   "outputs": [
    {
     "data": {
      "text/plain": [
       "array([ 4.,  6., 15.,  5., 10.,  9., 15., 11.,  7., 12.,  3.,  5., 14.,\n",
       "        4.,  7., 14., 11.,  1., 10., 13., 14.,  8., 13.,  6.,  7.,  6.,\n",
       "       10.,  7.,  2.,  1.])"
      ]
     },
     "execution_count": 26,
     "metadata": {},
     "output_type": "execute_result"
    }
   ],
   "source": [
    "y_val[:50].reshape([-1])"
   ]
  },
  {
   "cell_type": "code",
   "execution_count": 27,
   "metadata": {},
   "outputs": [
    {
     "data": {
      "text/plain": [
       "0.7937600295705209"
      ]
     },
     "execution_count": 27,
     "metadata": {},
     "output_type": "execute_result"
    }
   ],
   "source": [
    "r2_score(y_val, y_pred)"
   ]
  },
  {
   "cell_type": "code",
   "execution_count": 28,
   "metadata": {},
   "outputs": [
    {
     "data": {
      "text/plain": [
       "1.282670259475708"
      ]
     },
     "execution_count": 28,
     "metadata": {},
     "output_type": "execute_result"
    }
   ],
   "source": [
    "median_absolute_error(y_val, y_pred)"
   ]
  },
  {
   "cell_type": "code",
   "execution_count": 29,
   "metadata": {},
   "outputs": [
    {
     "data": {
      "text/plain": [
       "1.5363532781600953"
      ]
     },
     "execution_count": 29,
     "metadata": {},
     "output_type": "execute_result"
    }
   ],
   "source": [
    "mean_absolute_error(y_val, y_pred)"
   ]
  },
  {
   "cell_type": "markdown",
   "metadata": {},
   "source": [
    "### Feature Importance"
   ]
  },
  {
   "cell_type": "code",
   "execution_count": 30,
   "metadata": {},
   "outputs": [
    {
     "data": {
      "text/plain": [
       "<matplotlib.axes._subplots.AxesSubplot at 0x7fe1012a9590>"
      ]
     },
     "execution_count": 30,
     "metadata": {},
     "output_type": "execute_result"
    },
    {
     "data": {
      "text/plain": [
       "<Figure size 1440x720 with 0 Axes>"
      ]
     },
     "metadata": {},
     "output_type": "display_data"
    },
    {
     "data": {
      "image/png": "[encoded data removed]",
      "text/plain": [
       "<Figure size 432x288 with 1 Axes>"
      ]
     },
     "metadata": {
      "needs_background": "light"
     },
     "output_type": "display_data"
    }
   ],
   "source": [
    "plt.figure(figsize=(20,10))\n",
    "xgb.plot_importance(xgb_reg, max_num_features=30)"
   ]
  },
  {
   "cell_type": "code",
   "execution_count": 31,
   "metadata": {},
   "outputs": [
    {
     "data": {
      "text/plain": [
       "[('accel_x_max_3', 0.31267488),\n",
       " ('accel_y_std_3', 0.13562506),\n",
       " ('accel_x_std_3', 0.07795378),\n",
       " ('gyro_z_max_4', 0.045513704),\n",
       " ('gyro_z_std_4', 0.04115245),\n",
       " ('gyro_y_std_1', 0.038967475),\n",
       " ('gyro_x_max_5', 0.037232377),\n",
       " ('gyro_y_min_2', 0.029417543),\n",
       " ('gyro_y_median_2', 0.029116346),\n",
       " ('gyro_z_min_3', 0.027039882),\n",
       " ('gyro_y_min_3', 0.018214935),\n",
       " ('gyro_x_min_2', 0.01761645),\n",
       " ('accel_z_std_1', 0.01516513),\n",
       " ('gyro_x_std_3', 0.013952189),\n",
       " ('gyro_z_median_2', 0.013309225),\n",
       " ('gyro_y_max_1', 0.008976798),\n",
       " ('gyro_y_min_5', 0.008781866),\n",
       " ('accel_z_min_4', 0.0071097095),\n",
       " ('gyro_z_median_5', 0.007065165),\n",
       " ('gyro_y_std_5', 0.006863867),\n",
       " ('gyro_y_median_1', 0.006692111),\n",
       " ('accel_x_std_4', 0.006553136),\n",
       " ('gyro_z_min_2', 0.005617425),\n",
       " ('gyro_x_std_5', 0.005615172),\n",
       " ('gyro_x_max_2', 0.005024202),\n",
       " ('gyro_z_min_1', 0.0045566023),\n",
       " ('gyro_y_median_3', 0.0042933384),\n",
       " ('accel_z_max_3', 0.0035307948),\n",
       " ('gyro_y_median_5', 0.00318374),\n",
       " ('gyro_y_max_3', 0.0030792458),\n",
       " ('gyro_y_std_2', 0.0030422593),\n",
       " ('gyro_x_max_1', 0.0028823197),\n",
       " ('gyro_x_median_5', 0.0025794765),\n",
       " ('accel_z_min_2', 0.0023528351),\n",
       " ('gyro_y_std_4', 0.0023389133),\n",
       " ('accel_y_max_1', 0.002299986),\n",
       " ('gyro_z_std_2', 0.0021374347),\n",
       " ('accel_z_max_4', 0.0021012477),\n",
       " ('accel_x_median_4', 0.002093558),\n",
       " ('accel_z_std_5', 0.0020037012),\n",
       " ('gyro_x_std_2', 0.0017580306),\n",
       " ('gyro_z_min_4', 0.0017568825),\n",
       " ('accel_x_max_1', 0.001698107),\n",
       " ('gyro_z_max_1', 0.0016048967),\n",
       " ('gyro_x_min_4', 0.0014703614),\n",
       " ('accel_x_max_4', 0.0013894378),\n",
       " ('gyro_x_min_1', 0.0013322935),\n",
       " ('gyro_z_median_3', 0.0013217087),\n",
       " ('gyro_y_std_3', 0.0013148738),\n",
       " ('accel_z_min_3', 0.0012829084),\n",
       " ('gyro_x_median_2', 0.001226539),\n",
       " ('accel_x_std_2', 0.0011916484),\n",
       " ('accel_z_std_2', 0.0011124894),\n",
       " ('gyro_z_std_5', 0.001083486),\n",
       " ('accel_x_min_3', 0.0010618308),\n",
       " ('accel_y_median_4', 0.0010447917),\n",
       " ('accel_z_std_3', 0.0010341118),\n",
       " ('accel_x_min_4', 0.00094846456),\n",
       " ('accel_x_min_1', 0.0008444198),\n",
       " ('gyro_y_max_5', 0.00077797624),\n",
       " ('accel_x_median_2', 0.0007680185),\n",
       " ('gyro_x_min_3', 0.00069547945),\n",
       " ('gyro_z_median_1', 0.0006303438),\n",
       " ('accel_z_median_4', 0.0005968977),\n",
       " ('accel_z_min_1', 0.00059650815),\n",
       " ('accel_x_min_5', 0.00059327245),\n",
       " ('gyro_z_max_5', 0.0005641824),\n",
       " ('accel_y_min_2', 0.00052657764),\n",
       " ('accel_y_max_2', 0.00050625234),\n",
       " ('accel_x_min_2', 0.00048381957),\n",
       " ('gyro_x_max_4', 0.00037316143),\n",
       " ('gyro_z_max_2', 0.00031331737),\n",
       " ('accel_y_max_4', 0.00029780745),\n",
       " ('gyro_y_median_4', 0.00029284504),\n",
       " ('accel_x_std_5', 0.0002838224),\n",
       " ('gyro_x_median_4', 0.0002553029),\n",
       " ('accel_y_min_3', 0.00024251394),\n",
       " ('gyro_x_median_3', 0.0002240739),\n",
       " ('accel_z_max_1', 0.00020144304),\n",
       " ('accel_y_median_1', 0.00020090282),\n",
       " ('gyro_y_max_4', 0.00017874074),\n",
       " ('gyro_x_median_1', 0.0001681818),\n",
       " ('accel_y_std_1', 0.00016030887),\n",
       " ('gyro_x_max_3', 0.00014052121),\n",
       " ('gyro_x_min_5', 0.0001288021),\n",
       " ('accel_y_std_4', 0.00012792205),\n",
       " ('gyro_y_max_2', 0.000120752506),\n",
       " ('accel_z_median_2', 0.000119776836),\n",
       " ('accel_y_std_2', 0.00010940699),\n",
       " ('accel_x_median_3', 0.000108692155),\n",
       " ('gyro_z_std_1', 9.452634e-05),\n",
       " ('accel_z_std_4', 9.4240524e-05),\n",
       " ('gyro_z_min_5', 8.551139e-05),\n",
       " ('accel_x_max_5', 7.595057e-05),\n",
       " ('accel_z_median_3', 7.407234e-05),\n",
       " ('accel_y_min_4', 6.3321575e-05),\n",
       " ('accel_y_median_2', 6.1622006e-05),\n",
       " ('accel_y_min_5', 5.0100123e-05),\n",
       " ('accel_z_median_5', 4.9561357e-05),\n",
       " ('gyro_z_median_4', 4.7111822e-05),\n",
       " ('accel_x_std_1', 4.309214e-05),\n",
       " ('accel_x_median_1', 4.1018142e-05),\n",
       " ('accel_y_median_3', 3.7996233e-05),\n",
       " ('gyro_x_std_4', 2.8566441e-05),\n",
       " ('gyro_y_min_1', 2.8279539e-05),\n",
       " ('gyro_y_min_4', 2.6699332e-05),\n",
       " ('accel_z_min_5', 2.57283e-05),\n",
       " ('accel_x_median_5', 2.100062e-05),\n",
       " ('accel_y_std_5', 1.4028949e-05),\n",
       " ('accel_z_max_5', 1.2782546e-05),\n",
       " ('gyro_z_max_3', 8.914855e-06),\n",
       " ('accel_x_max_2', 8.906005e-06),\n",
       " ('gyro_x_std_1', 8.424484e-06),\n",
       " ('accel_y_max_5', 7.300377e-06),\n",
       " ('gyro_z_std_3', 0.0),\n",
       " ('accel_y_median_5', 0.0),\n",
       " ('accel_y_min_1', 0.0),\n",
       " ('accel_y_max_3', 0.0),\n",
       " ('accel_z_median_1', 0.0),\n",
       " ('accel_z_max_2', 0.0)]"
      ]
     },
     "execution_count": 31,
     "metadata": {},
     "output_type": "execute_result"
    }
   ],
   "source": [
    "sorted(list(zip(processed_df_reg.drop([\"pill_count\", \"pills_low\", \"activity\"], axis=1).columns,\n",
    "         xgb_reg.feature_importances_)), key=lambda x: x[1], reverse=True)"
   ]
  },
  {
   "cell_type": "code",
   "execution_count": 32,
   "metadata": {},
   "outputs": [
    {
     "data": {
      "text/plain": [
       "array([0.00016818, 0.00122654, 0.00022407, 0.0002553 , 0.00257948,\n",
       "       0.00133229, 0.01761645, 0.00069548, 0.00147036, 0.0001288 ],\n",
       "      dtype=float32)"
      ]
     },
     "execution_count": 32,
     "metadata": {},
     "output_type": "execute_result"
    }
   ],
   "source": [
    "xgb_reg.feature_importances_[:10]"
   ]
  },
  {
   "cell_type": "code",
   "execution_count": 33,
   "metadata": {
    "scrolled": true
   },
   "outputs": [
    {
     "name": "stdout",
     "output_type": "stream",
     "text": [
      "Thresh=0.313, n=1, R2: 0.22, MAE: 2.0, MeanAE: 2.9\n",
      "Thresh=0.136, n=2, R2: 0.36, MAE: 1.8, MeanAE: 2.7\n",
      "Thresh=0.078, n=3, R2: 0.47, MAE: 1.8, MeanAE: 2.4\n",
      "Thresh=0.046, n=4, R2: 0.48, MAE: 1.9, MeanAE: 2.4\n",
      "Thresh=0.041, n=5, R2: 0.52, MAE: 1.6, MeanAE: 2.2\n",
      "Thresh=0.039, n=6, R2: 0.74, MAE: 1.4, MeanAE: 1.7\n",
      "Thresh=0.037, n=7, R2: 0.72, MAE: 1.6, MeanAE: 1.8\n",
      "Thresh=0.029, n=8, R2: 0.76, MAE: 1.4, MeanAE: 1.6\n",
      "Thresh=0.029, n=9, R2: 0.78, MAE: 1.2, MeanAE: 1.6\n",
      "Thresh=0.027, n=10, R2: 0.86, MAE: 0.9, MeanAE: 1.2\n",
      "Thresh=0.018, n=11, R2: 0.83, MAE: 1.2, MeanAE: 1.4\n",
      "Thresh=0.018, n=12, R2: 0.84, MAE: 1.1, MeanAE: 1.3\n",
      "Thresh=0.015, n=13, R2: 0.82, MAE: 1.1, MeanAE: 1.4\n",
      "Thresh=0.014, n=14, R2: 0.80, MAE: 1.1, MeanAE: 1.4\n",
      "Thresh=0.013, n=15, R2: 0.80, MAE: 1.1, MeanAE: 1.5\n",
      "Thresh=0.009, n=16, R2: 0.80, MAE: 1.2, MeanAE: 1.5\n",
      "Thresh=0.009, n=17, R2: 0.77, MAE: 1.2, MeanAE: 1.5\n",
      "Thresh=0.007, n=18, R2: 0.77, MAE: 1.4, MeanAE: 1.6\n",
      "Thresh=0.007, n=19, R2: 0.79, MAE: 1.2, MeanAE: 1.6\n",
      "Thresh=0.007, n=20, R2: 0.79, MAE: 1.3, MeanAE: 1.5\n",
      "Thresh=0.007, n=21, R2: 0.77, MAE: 1.2, MeanAE: 1.6\n",
      "Thresh=0.007, n=22, R2: 0.78, MAE: 1.1, MeanAE: 1.5\n",
      "Thresh=0.006, n=23, R2: 0.77, MAE: 1.0, MeanAE: 1.5\n",
      "Thresh=0.006, n=24, R2: 0.79, MAE: 1.2, MeanAE: 1.5\n",
      "Thresh=0.005, n=25, R2: 0.80, MAE: 1.0, MeanAE: 1.4\n",
      "Thresh=0.005, n=26, R2: 0.79, MAE: 1.0, MeanAE: 1.4\n",
      "Thresh=0.004, n=27, R2: 0.80, MAE: 1.5, MeanAE: 1.5\n",
      "Thresh=0.004, n=28, R2: 0.80, MAE: 1.5, MeanAE: 1.5\n",
      "Thresh=0.003, n=29, R2: 0.80, MAE: 1.5, MeanAE: 1.5\n",
      "Thresh=0.003, n=30, R2: 0.80, MAE: 1.4, MeanAE: 1.5\n",
      "Thresh=0.003, n=31, R2: 0.79, MAE: 1.3, MeanAE: 1.6\n",
      "Thresh=0.003, n=32, R2: 0.79, MAE: 1.4, MeanAE: 1.5\n",
      "Thresh=0.003, n=33, R2: 0.80, MAE: 1.5, MeanAE: 1.5\n",
      "Thresh=0.002, n=34, R2: 0.80, MAE: 1.5, MeanAE: 1.5\n",
      "Thresh=0.002, n=35, R2: 0.80, MAE: 1.5, MeanAE: 1.5\n",
      "Thresh=0.002, n=36, R2: 0.79, MAE: 1.4, MeanAE: 1.6\n",
      "Thresh=0.002, n=37, R2: 0.79, MAE: 1.3, MeanAE: 1.6\n",
      "Thresh=0.002, n=38, R2: 0.80, MAE: 1.3, MeanAE: 1.5\n",
      "Thresh=0.002, n=39, R2: 0.79, MAE: 1.5, MeanAE: 1.6\n",
      "Thresh=0.002, n=40, R2: 0.79, MAE: 1.4, MeanAE: 1.5\n",
      "Thresh=0.002, n=41, R2: 0.78, MAE: 1.4, MeanAE: 1.6\n",
      "Thresh=0.002, n=42, R2: 0.78, MAE: 1.3, MeanAE: 1.6\n",
      "Thresh=0.002, n=43, R2: 0.78, MAE: 1.3, MeanAE: 1.6\n",
      "Thresh=0.002, n=44, R2: 0.79, MAE: 1.2, MeanAE: 1.5\n",
      "Thresh=0.001, n=45, R2: 0.79, MAE: 1.2, MeanAE: 1.5\n",
      "Thresh=0.001, n=46, R2: 0.79, MAE: 1.2, MeanAE: 1.5\n",
      "Thresh=0.001, n=47, R2: 0.78, MAE: 1.2, MeanAE: 1.6\n",
      "Thresh=0.001, n=48, R2: 0.78, MAE: 1.1, MeanAE: 1.5\n",
      "Thresh=0.001, n=49, R2: 0.79, MAE: 1.1, MeanAE: 1.5\n",
      "Thresh=0.001, n=50, R2: 0.78, MAE: 1.2, MeanAE: 1.6\n",
      "Thresh=0.001, n=51, R2: 0.79, MAE: 1.3, MeanAE: 1.6\n",
      "Thresh=0.001, n=52, R2: 0.79, MAE: 1.2, MeanAE: 1.6\n",
      "Thresh=0.001, n=53, R2: 0.78, MAE: 1.4, MeanAE: 1.6\n",
      "Thresh=0.001, n=54, R2: 0.79, MAE: 1.4, MeanAE: 1.5\n",
      "Thresh=0.001, n=55, R2: 0.78, MAE: 1.2, MeanAE: 1.6\n",
      "Thresh=0.001, n=56, R2: 0.77, MAE: 1.2, MeanAE: 1.6\n",
      "Thresh=0.001, n=57, R2: 0.78, MAE: 1.2, MeanAE: 1.6\n",
      "Thresh=0.001, n=58, R2: 0.78, MAE: 1.3, MeanAE: 1.6\n",
      "Thresh=0.001, n=59, R2: 0.76, MAE: 1.4, MeanAE: 1.6\n",
      "Thresh=0.001, n=60, R2: 0.77, MAE: 1.3, MeanAE: 1.6\n",
      "Thresh=0.001, n=61, R2: 0.76, MAE: 1.4, MeanAE: 1.7\n",
      "Thresh=0.001, n=62, R2: 0.77, MAE: 1.4, MeanAE: 1.6\n",
      "Thresh=0.001, n=63, R2: 0.77, MAE: 1.3, MeanAE: 1.6\n",
      "Thresh=0.001, n=64, R2: 0.78, MAE: 1.3, MeanAE: 1.6\n",
      "Thresh=0.001, n=65, R2: 0.78, MAE: 1.3, MeanAE: 1.6\n",
      "Thresh=0.001, n=66, R2: 0.78, MAE: 1.4, MeanAE: 1.6\n",
      "Thresh=0.001, n=67, R2: 0.78, MAE: 1.4, MeanAE: 1.6\n",
      "Thresh=0.001, n=68, R2: 0.77, MAE: 1.3, MeanAE: 1.6\n",
      "Thresh=0.001, n=69, R2: 0.78, MAE: 1.3, MeanAE: 1.6\n",
      "Thresh=0.000, n=70, R2: 0.78, MAE: 1.3, MeanAE: 1.5\n",
      "Thresh=0.000, n=71, R2: 0.78, MAE: 1.4, MeanAE: 1.6\n",
      "Thresh=0.000, n=72, R2: 0.78, MAE: 1.4, MeanAE: 1.6\n",
      "Thresh=0.000, n=73, R2: 0.78, MAE: 1.3, MeanAE: 1.6\n",
      "Thresh=0.000, n=74, R2: 0.78, MAE: 1.3, MeanAE: 1.6\n",
      "Thresh=0.000, n=75, R2: 0.78, MAE: 1.3, MeanAE: 1.6\n",
      "Thresh=0.000, n=76, R2: 0.79, MAE: 1.3, MeanAE: 1.5\n",
      "Thresh=0.000, n=77, R2: 0.79, MAE: 1.3, MeanAE: 1.6\n",
      "Thresh=0.000, n=78, R2: 0.79, MAE: 1.3, MeanAE: 1.6\n",
      "Thresh=0.000, n=79, R2: 0.79, MAE: 1.3, MeanAE: 1.6\n",
      "Thresh=0.000, n=80, R2: 0.79, MAE: 1.2, MeanAE: 1.5\n",
      "Thresh=0.000, n=81, R2: 0.79, MAE: 1.2, MeanAE: 1.5\n",
      "Thresh=0.000, n=82, R2: 0.79, MAE: 1.2, MeanAE: 1.5\n",
      "Thresh=0.000, n=83, R2: 0.79, MAE: 1.2, MeanAE: 1.5\n",
      "Thresh=0.000, n=84, R2: 0.79, MAE: 1.2, MeanAE: 1.5\n",
      "Thresh=0.000, n=85, R2: 0.80, MAE: 1.2, MeanAE: 1.5\n",
      "Thresh=0.000, n=86, R2: 0.80, MAE: 1.2, MeanAE: 1.5\n",
      "Thresh=0.000, n=87, R2: 0.79, MAE: 1.2, MeanAE: 1.5\n",
      "Thresh=0.000, n=88, R2: 0.80, MAE: 1.3, MeanAE: 1.5\n",
      "Thresh=0.000, n=89, R2: 0.80, MAE: 1.2, MeanAE: 1.5\n",
      "Thresh=0.000, n=90, R2: 0.80, MAE: 1.3, MeanAE: 1.5\n",
      "Thresh=0.000, n=91, R2: 0.80, MAE: 1.3, MeanAE: 1.5\n",
      "Thresh=0.000, n=92, R2: 0.80, MAE: 1.2, MeanAE: 1.5\n",
      "Thresh=0.000, n=93, R2: 0.80, MAE: 1.2, MeanAE: 1.5\n",
      "Thresh=0.000, n=94, R2: 0.80, MAE: 1.2, MeanAE: 1.5\n",
      "Thresh=0.000, n=95, R2: 0.80, MAE: 1.3, MeanAE: 1.5\n",
      "Thresh=0.000, n=96, R2: 0.79, MAE: 1.3, MeanAE: 1.5\n",
      "Thresh=0.000, n=97, R2: 0.79, MAE: 1.3, MeanAE: 1.5\n",
      "Thresh=0.000, n=98, R2: 0.79, MAE: 1.3, MeanAE: 1.5\n",
      "Thresh=0.000, n=99, R2: 0.79, MAE: 1.3, MeanAE: 1.5\n",
      "Thresh=0.000, n=100, R2: 0.79, MAE: 1.3, MeanAE: 1.5\n"
     ]
    }
   ],
   "source": [
    "from sklearn.feature_selection import SelectFromModel\n",
    "\n",
    "features, scores, med_errors, mean_errors = [], [], [], []\n",
    "\n",
    "thresholds = sorted(xgb_reg.feature_importances_, reverse=True)[:100]\n",
    "#print(thresholds)\n",
    "for thresh in thresholds:\n",
    "    selection = SelectFromModel(xgb_reg, threshold=thresh, prefit=True)\n",
    "    select_X_train = selection.transform(X_train)\n",
    "    \n",
    "    n = select_X_train.shape[1]\n",
    "    features += [n]\n",
    "    \n",
    "    selection_model = xgb.XGBRegressor(objective=\"reg:squarederror\", n_jobs=-1, n_estimators=100)\n",
    "    selection_model.fit(select_X_train, y_train)\n",
    "    \n",
    "    select_X_val = selection.transform(X_val)\n",
    "    y_pred = selection_model.predict(select_X_val)\n",
    "    \n",
    "    r2 = r2_score(y_val, y_pred)\n",
    "    scores += [r2]\n",
    "    \n",
    "    mae = median_absolute_error(y_val, y_pred)\n",
    "    med_errors += [mae]\n",
    "    \n",
    "    mean_error = mean_absolute_error(y_val, y_pred)\n",
    "    mean_errors += [mean_error]\n",
    "    \n",
    "    print(f'Thresh={thresh:.3f}, n={n}, R2: {r2:.2f}, MAE: {mae:.1f}, MeanAE: {mean_error:.1f}')"
   ]
  },
  {
   "cell_type": "code",
   "execution_count": 34,
   "metadata": {},
   "outputs": [
    {
     "data": {
      "image/png": "[encoded data removed]",
      "text/plain": [
       "<Figure size 1080x504 with 1 Axes>"
      ]
     },
     "metadata": {},
     "output_type": "display_data"
    }
   ],
   "source": [
    "plt.style.use('ggplot')\n",
    "plt.figure(figsize=(15,7))\n",
    "plt.plot(features, scores, linewidth=2, color=\"dodgerblue\")\n",
    "plt.xlabel(\"num top features included\")\n",
    "plt.ylabel(\"val R2 score\")\n",
    "plt.title(\"Feature Selection Model Scores\")\n",
    "plt.show()"
   ]
  },
  {
   "cell_type": "code",
   "execution_count": 35,
   "metadata": {},
   "outputs": [
    {
     "data": {
      "image/png": "[encoded data removed]",
      "text/plain": [
       "<Figure size 1080x504 with 1 Axes>"
      ]
     },
     "metadata": {},
     "output_type": "display_data"
    }
   ],
   "source": [
    "plt.style.use('ggplot')\n",
    "plt.figure(figsize=(15,7))\n",
    "plt.plot(features, med_errors, linewidth=2, color=\"teal\")\n",
    "plt.plot(features, mean_errors, linewidth=2, color=\"red\")\n",
    "plt.xlabel(\"num top features included\")\n",
    "plt.ylabel(\"val MAE\")\n",
    "plt.title(\"Feature Selection Model Scores\")\n",
    "plt.show()"
   ]
  },
  {
   "cell_type": "markdown",
   "metadata": {},
   "source": [
    "### Selecting the Best Model"
   ]
  },
  {
   "cell_type": "code",
   "execution_count": 36,
   "metadata": {},
   "outputs": [
    {
     "data": {
      "text/plain": [
       "XGBRegressor(base_score=0.5, booster='gbtree', colsample_bylevel=1,\n",
       "             colsample_bynode=1, colsample_bytree=1, gamma=0,\n",
       "             importance_type='gain', learning_rate=0.1, max_delta_step=0,\n",
       "             max_depth=3, min_child_weight=1, missing=None, n_estimators=100,\n",
       "             n_jobs=-1, nthread=None, objective='reg:squarederror',\n",
       "             random_state=0, reg_alpha=0, reg_lambda=1, scale_pos_weight=1,\n",
       "             seed=None, silent=None, subsample=1, verbosity=1)"
      ]
     },
     "execution_count": 36,
     "metadata": {},
     "output_type": "execute_result"
    }
   ],
   "source": [
    "selection = SelectFromModel(xgb_reg, threshold=thresholds[9], prefit=True)\n",
    "select_X_train = selection.transform(X_train)\n",
    "\n",
    "selection_model = xgb.XGBRegressor(objective=\"reg:squarederror\", n_jobs=-1, n_estimators=100)\n",
    "selection_model.fit(select_X_train, y_train)"
   ]
  },
  {
   "cell_type": "code",
   "execution_count": 37,
   "metadata": {},
   "outputs": [
    {
     "data": {
      "text/plain": [
       "0.859760180539099"
      ]
     },
     "execution_count": 37,
     "metadata": {},
     "output_type": "execute_result"
    }
   ],
   "source": [
    "select_X_val = selection.transform(X_val)\n",
    "y_pred = selection_model.predict(select_X_val)\n",
    "    \n",
    "r2_score(y_val, y_pred)"
   ]
  },
  {
   "cell_type": "code",
   "execution_count": 38,
   "metadata": {},
   "outputs": [
    {
     "data": {
      "text/plain": [
       "0.8914990425109863"
      ]
     },
     "execution_count": 38,
     "metadata": {},
     "output_type": "execute_result"
    }
   ],
   "source": [
    "median_absolute_error(y_val, y_pred)"
   ]
  },
  {
   "cell_type": "code",
   "execution_count": 39,
   "metadata": {},
   "outputs": [
    {
     "data": {
      "text/plain": [
       "1.2212233583132426"
      ]
     },
     "execution_count": 39,
     "metadata": {},
     "output_type": "execute_result"
    }
   ],
   "source": [
    "mean_absolute_error(y_val, y_pred)"
   ]
  },
  {
   "cell_type": "code",
   "execution_count": 40,
   "metadata": {},
   "outputs": [
    {
     "data": {
      "text/plain": [
       "(150, 10)"
      ]
     },
     "execution_count": 40,
     "metadata": {},
     "output_type": "execute_result"
    }
   ],
   "source": [
    "# on all data\n",
    "select_X_all = selection.transform(X)\n",
    "select_X_all.shape"
   ]
  },
  {
   "cell_type": "code",
   "execution_count": 41,
   "metadata": {},
   "outputs": [
    {
     "data": {
      "text/plain": [
       "XGBRegressor(base_score=0.5, booster='gbtree', colsample_bylevel=1,\n",
       "             colsample_bynode=1, colsample_bytree=1, gamma=0,\n",
       "             importance_type='gain', learning_rate=0.1, max_delta_step=0,\n",
       "             max_depth=3, min_child_weight=1, missing=None, n_estimators=100,\n",
       "             n_jobs=-1, nthread=None, objective='reg:squarederror',\n",
       "             random_state=0, reg_alpha=0, reg_lambda=1, scale_pos_weight=1,\n",
       "             seed=None, silent=None, subsample=1, verbosity=1)"
      ]
     },
     "execution_count": 41,
     "metadata": {},
     "output_type": "execute_result"
    }
   ],
   "source": [
    "selection_model.fit(select_X_all, y)"
   ]
  },
  {
   "cell_type": "code",
   "execution_count": 42,
   "metadata": {},
   "outputs": [
    {
     "data": {
      "text/plain": [
       "(0.9926141930534922, 0.20571792125701904, 0.27212159911791484)"
      ]
     },
     "execution_count": 42,
     "metadata": {},
     "output_type": "execute_result"
    }
   ],
   "source": [
    "y_pred_all = selection_model.predict(select_X_all)\n",
    "\n",
    "r2_score(y, y_pred_all), median_absolute_error(y, y_pred_all), mean_absolute_error(y, y_pred_all)"
   ]
  },
  {
   "cell_type": "markdown",
   "metadata": {},
   "source": [
    "### Parameter Tuning"
   ]
  },
  {
   "cell_type": "code",
   "execution_count": 43,
   "metadata": {},
   "outputs": [
    {
     "name": "stdout",
     "output_type": "stream",
     "text": [
      "Fitting 3 folds for each of 36 candidates, totalling 108 fits\n"
     ]
    },
    {
     "name": "stderr",
     "output_type": "stream",
     "text": [
      "/Users/kevin/opt/anaconda3/envs/DistributedComputing/lib/python3.7/site-packages/sklearn/model_selection/_search.py:281: UserWarning: The total space of parameters 36 is smaller than n_iter=50. Running 36 iterations. For exhaustive searches, use GridSearchCV.\n",
      "  % (grid_size, self.n_iter, grid_size), UserWarning)\n",
      "[Parallel(n_jobs=-1)]: Using backend LokyBackend with 12 concurrent workers.\n",
      "[Parallel(n_jobs=-1)]: Done  26 tasks      | elapsed:    1.9s\n",
      "[Parallel(n_jobs=-1)]: Done 108 out of 108 | elapsed:    2.1s finished\n"
     ]
    },
    {
     "data": {
      "text/plain": [
       "RandomizedSearchCV(cv=3, error_score=nan,\n",
       "                   estimator=XGBRegressor(base_score=0.5, booster='gbtree',\n",
       "                                          colsample_bylevel=1,\n",
       "                                          colsample_bynode=1,\n",
       "                                          colsample_bytree=1, gamma=0,\n",
       "                                          importance_type='gain',\n",
       "                                          learning_rate=0.1, max_delta_step=0,\n",
       "                                          max_depth=3, min_child_weight=1,\n",
       "                                          missing=None, n_estimators=100,\n",
       "                                          n_jobs=-1, nthread=None,\n",
       "                                          objective='reg:squarederror',\n",
       "                                          random_state=0, reg_alpha=0,\n",
       "                                          reg_lambda=1, scale_pos_weight=1,\n",
       "                                          seed=None, silent=None, subsample=1,\n",
       "                                          verbosity=1),\n",
       "                   iid='deprecated', n_iter=50, n_jobs=-1,\n",
       "                   param_distributions={'max_depth': [2, 3, 4],\n",
       "                                        'min_child_weight': [1, 2, 3],\n",
       "                                        'reg_alpha': [0, 0.1, 0.2, 0.3]},\n",
       "                   pre_dispatch='2*n_jobs', random_state=None, refit=True,\n",
       "                   return_train_score=False, scoring=None, verbose=1)"
      ]
     },
     "execution_count": 43,
     "metadata": {},
     "output_type": "execute_result"
    }
   ],
   "source": [
    "from sklearn.model_selection import RandomizedSearchCV\n",
    "\n",
    "params = {\n",
    " 'max_depth':[2, 3, 4],\n",
    " 'min_child_weight':[1, 2, 3],\n",
    " 'reg_alpha':[0, 0.1, 0.2, 0.3],\n",
    "}\n",
    "\n",
    "searchCV = RandomizedSearchCV(estimator=selection_model,\n",
    "                                 param_distributions=params, \n",
    "                                 n_iter=50,\n",
    "                                 cv=3,\n",
    "                                 verbose=1,\n",
    "                                 n_jobs=-1,)\n",
    "\n",
    "searchCV.fit(select_X_all, y)"
   ]
  },
  {
   "cell_type": "code",
   "execution_count": 44,
   "metadata": {},
   "outputs": [
    {
     "data": {
      "text/plain": [
       "({'reg_alpha': 0.1, 'min_child_weight': 2, 'max_depth': 2}, 0.7750643884711909)"
      ]
     },
     "execution_count": 44,
     "metadata": {},
     "output_type": "execute_result"
    }
   ],
   "source": [
    "searchCV.best_params_, searchCV.best_score_"
   ]
  },
  {
   "cell_type": "code",
   "execution_count": 45,
   "metadata": {},
   "outputs": [
    {
     "data": {
      "text/plain": [
       "array([ 7.5830574,  1.2229048,  9.342248 ,  8.166186 ,  3.204576 ,\n",
       "        7.4401364,  2.146822 ,  3.4726758, 13.376556 ,  4.6950474,\n",
       "       13.692878 , 14.849176 ,  5.141668 ,  7.0641418, 11.582694 ,\n",
       "        4.376859 ,  7.9841976, 12.703887 ,  7.276604 ,  8.95806  ,\n",
       "       13.415504 ,  5.292848 ,  9.174677 ,  9.098328 ,  3.2086594,\n",
       "        7.1080256, 13.211847 , 12.3405285, 11.338369 , 12.945315 ,\n",
       "        1.4139955,  6.3620377,  1.1679335, 11.42053  , 10.472956 ,\n",
       "        1.3299692, 13.898721 ,  8.155804 ,  4.049815 ,  1.7133282,\n",
       "       13.40218  ,  4.6954007,  7.794911 , 11.851221 ,  2.152098 ,\n",
       "        2.1827834,  8.903045 , 13.7726965,  4.578752 , 14.886282 ,\n",
       "        6.9341383, 13.092024 ,  1.2250409,  8.765871 , 11.474141 ,\n",
       "        9.277174 , 14.375199 ,  6.3671594,  8.998992 ,  2.5801928,\n",
       "        4.006976 ,  3.8114014,  6.6513815,  6.5411954, 13.82664  ,\n",
       "       12.109283 ,  4.0740976,  8.24841  ,  7.479132 ,  1.1040344,\n",
       "        4.381653 , 11.216117 ,  8.167815 ,  3.7159362, 13.841722 ,\n",
       "        8.256392 ,  8.861921 ,  8.05379  ,  4.9419265, 13.473873 ,\n",
       "       12.311131 , 13.06463  , 12.556511 , 11.600908 ,  9.998541 ,\n",
       "       12.188225 ,  8.715318 , 11.868986 ,  3.3427997,  3.5428684,\n",
       "       13.470355 , 12.801205 ,  2.7402246,  2.2373734,  8.875088 ,\n",
       "       14.2115135, 12.221122 ,  7.8966413,  1.1641147, 12.511765 ,\n",
       "        1.648859 , 11.145728 , 12.787572 , 13.934475 , 10.445265 ,\n",
       "        6.524365 ,  5.2262907,  2.4042592, 10.084569 ,  7.7139773,\n",
       "        3.2744021,  2.8471494, 13.4694195, 11.677888 , 12.380646 ,\n",
       "       13.61435  ,  4.0008097,  3.6883175, 14.343249 ,  6.689412 ,\n",
       "        9.10256  ,  7.9099913,  3.5298278,  1.9758655,  2.3796077,\n",
       "        8.347288 ,  8.952452 ,  7.887945 ,  6.187273 , 13.923816 ,\n",
       "        7.4076443,  7.3579936, 12.477711 ,  4.685899 ,  8.56479  ,\n",
       "        8.538719 ,  5.999543 ,  3.036425 ,  6.3393145,  2.4741075,\n",
       "        4.2750273, 10.996331 ,  1.4120698,  6.1979527,  6.6430435,\n",
       "        7.027854 , 14.466369 , 12.017498 ,  2.2239358, 10.843697 ],\n",
       "      dtype=float32)"
      ]
     },
     "execution_count": 45,
     "metadata": {},
     "output_type": "execute_result"
    }
   ],
   "source": [
    "y_pred = searchCV.predict(select_X_all)\n",
    "y_pred"
   ]
  },
  {
   "cell_type": "code",
   "execution_count": 46,
   "metadata": {},
   "outputs": [
    {
     "data": {
      "text/plain": [
       "0.9662110558961924"
      ]
     },
     "execution_count": 46,
     "metadata": {},
     "output_type": "execute_result"
    }
   ],
   "source": [
    "# actually not as good\n",
    "r2_score(y, y_pred)"
   ]
  },
  {
   "cell_type": "code",
   "execution_count": 47,
   "metadata": {},
   "outputs": [
    {
     "data": {
      "text/plain": [
       "0.5170269012451172"
      ]
     },
     "execution_count": 47,
     "metadata": {},
     "output_type": "execute_result"
    }
   ],
   "source": [
    "median_absolute_error(y, y_pred)"
   ]
  },
  {
   "cell_type": "code",
   "execution_count": 48,
   "metadata": {},
   "outputs": [
    {
     "name": "stdout",
     "output_type": "stream",
     "text": [
      "Fitting 3 folds for each of 10 candidates, totalling 30 fits\n"
     ]
    },
    {
     "name": "stderr",
     "output_type": "stream",
     "text": [
      "[Parallel(n_jobs=-1)]: Using backend LokyBackend with 12 concurrent workers.\n",
      "[Parallel(n_jobs=-1)]: Done   1 tasks      | elapsed:    0.2s\n",
      "[Parallel(n_jobs=-1)]: Batch computation too fast (0.1903s.) Setting batch_size=2.\n",
      "[Parallel(n_jobs=-1)]: Done   2 tasks      | elapsed:    0.2s\n",
      "[Parallel(n_jobs=-1)]: Done   3 tasks      | elapsed:    0.2s\n",
      "[Parallel(n_jobs=-1)]: Done   4 tasks      | elapsed:    0.2s\n",
      "[Parallel(n_jobs=-1)]: Done   5 tasks      | elapsed:    0.2s\n",
      "[Parallel(n_jobs=-1)]: Done   6 tasks      | elapsed:    0.2s\n",
      "[Parallel(n_jobs=-1)]: Done   7 tasks      | elapsed:    0.3s\n",
      "[Parallel(n_jobs=-1)]: Done  10 out of  30 | elapsed:    0.3s remaining:    0.6s\n",
      "[Parallel(n_jobs=-1)]: Done  13 out of  30 | elapsed:    0.4s remaining:    0.6s\n",
      "[Parallel(n_jobs=-1)]: Done  16 out of  30 | elapsed:    0.5s remaining:    0.4s\n",
      "[Parallel(n_jobs=-1)]: Done  19 out of  30 | elapsed:    0.5s remaining:    0.3s\n",
      "[Parallel(n_jobs=-1)]: Done  22 out of  30 | elapsed:    0.5s remaining:    0.2s\n",
      "[Parallel(n_jobs=-1)]: Done  25 out of  30 | elapsed:    0.6s remaining:    0.1s\n",
      "[Parallel(n_jobs=-1)]: Done  28 out of  30 | elapsed:    0.7s remaining:    0.0s\n",
      "[Parallel(n_jobs=-1)]: Done  30 out of  30 | elapsed:    0.7s finished\n"
     ]
    },
    {
     "data": {
      "text/plain": [
       "RandomizedSearchCV(cv=3, error_score=nan,\n",
       "                   estimator=XGBRegressor(base_score=0.5, booster='gbtree',\n",
       "                                          colsample_bylevel=1,\n",
       "                                          colsample_bynode=1,\n",
       "                                          colsample_bytree=1, gamma=0,\n",
       "                                          importance_type='gain',\n",
       "                                          learning_rate=0.1, max_delta_step=0,\n",
       "                                          max_depth=3, min_child_weight=1,\n",
       "                                          missing=None, n_estimators=150,\n",
       "                                          n_jobs=-1, nthread=None,\n",
       "                                          objective='reg:squarederror',\n",
       "                                          random_state=0, reg_alpha=0,\n",
       "                                          reg_lambda=1, scale_pos_weight=1,\n",
       "                                          seed=None, silent=None, subsample=1,\n",
       "                                          verbosity=1),\n",
       "                   iid='deprecated', n_iter=10, n_jobs=-1,\n",
       "                   param_distributions={'max_depth': [2, 3, 4],\n",
       "                                        'min_child_weight': [1, 2, 3],\n",
       "                                        'reg_alpha': [0, 0.1, 0.2, 0.3]},\n",
       "                   pre_dispatch='2*n_jobs', random_state=None, refit=True,\n",
       "                   return_train_score=False, scoring=None, verbose=12)"
      ]
     },
     "execution_count": 48,
     "metadata": {},
     "output_type": "execute_result"
    }
   ],
   "source": [
    "# using a holdout set\n",
    "searchCV_val = RandomizedSearchCV(estimator=xgb_reg,\n",
    "                                  param_distributions=params, \n",
    "                                  n_iter=10,\n",
    "                                  cv=3,\n",
    "                                  verbose=12,\n",
    "                                  n_jobs=-1,)\n",
    "\n",
    "searchCV_val.fit(X_train, y_train)"
   ]
  },
  {
   "cell_type": "code",
   "execution_count": 49,
   "metadata": {},
   "outputs": [
    {
     "data": {
      "text/plain": [
       "({'reg_alpha': 0, 'min_child_weight': 1, 'max_depth': 3}, 0.7228232028386081)"
      ]
     },
     "execution_count": 49,
     "metadata": {},
     "output_type": "execute_result"
    }
   ],
   "source": [
    "searchCV_val.best_params_, searchCV_val.best_score_"
   ]
  },
  {
   "cell_type": "code",
   "execution_count": 50,
   "metadata": {},
   "outputs": [
    {
     "data": {
      "text/plain": [
       "array([ 3,  8, 12,  6,  7,  6, 11, 12,  8, 12,  3,  4, 13,  5,  8, 12, 11,\n",
       "        3,  7,  8, 14,  7, 13,  7,  9,  8, 10,  7,  2,  3])"
      ]
     },
     "execution_count": 50,
     "metadata": {},
     "output_type": "execute_result"
    }
   ],
   "source": [
    "y_pred = searchCV_val.predict(X_val)\n",
    "y_pred.astype('int')"
   ]
  },
  {
   "cell_type": "code",
   "execution_count": 51,
   "metadata": {},
   "outputs": [
    {
     "data": {
      "text/plain": [
       "0.7937600295705209"
      ]
     },
     "execution_count": 51,
     "metadata": {},
     "output_type": "execute_result"
    }
   ],
   "source": [
    "r2_score(y_val, y_pred)"
   ]
  },
  {
   "cell_type": "code",
   "execution_count": 52,
   "metadata": {},
   "outputs": [
    {
     "data": {
      "text/plain": [
       "1.282670259475708"
      ]
     },
     "execution_count": 52,
     "metadata": {},
     "output_type": "execute_result"
    }
   ],
   "source": [
    "median_absolute_error(y_val, y_pred)"
   ]
  },
  {
   "cell_type": "markdown",
   "metadata": {},
   "source": [
    "### Scitkit-learn Random Forest "
   ]
  },
  {
   "cell_type": "code",
   "execution_count": 53,
   "metadata": {},
   "outputs": [
    {
     "name": "stderr",
     "output_type": "stream",
     "text": [
      "/Users/kevin/opt/anaconda3/envs/DistributedComputing/lib/python3.7/site-packages/ipykernel_launcher.py:5: DataConversionWarning: A column-vector y was passed when a 1d array was expected. Please change the shape of y to (n_samples,), for example using ravel().\n",
      "  \"\"\"\n"
     ]
    },
    {
     "data": {
      "text/plain": [
       "0.9632012475232994"
      ]
     },
     "execution_count": 53,
     "metadata": {},
     "output_type": "execute_result"
    }
   ],
   "source": [
    "from sklearn.ensemble import RandomForestRegressor\n",
    "\n",
    "rf_reg = RandomForestRegressor(n_jobs=-1)\n",
    "\n",
    "rf_reg.fit(X_train, y_train)\n",
    "rf_reg.score(X_train, y_train)"
   ]
  },
  {
   "cell_type": "code",
   "execution_count": 54,
   "metadata": {},
   "outputs": [
    {
     "data": {
      "text/plain": [
       "0.8409088945362135"
      ]
     },
     "execution_count": 54,
     "metadata": {},
     "output_type": "execute_result"
    }
   ],
   "source": [
    "rf_reg.score(X_val, y_val)"
   ]
  },
  {
   "cell_type": "code",
   "execution_count": 55,
   "metadata": {},
   "outputs": [
    {
     "name": "stdout",
     "output_type": "stream",
     "text": [
      "Fitting 3 folds for each of 10 candidates, totalling 30 fits\n"
     ]
    },
    {
     "name": "stderr",
     "output_type": "stream",
     "text": [
      "[Parallel(n_jobs=-1)]: Using backend LokyBackend with 12 concurrent workers.\n",
      "[Parallel(n_jobs=-1)]: Done   1 tasks      | elapsed:    0.5s\n",
      "[Parallel(n_jobs=-1)]: Done   2 tasks      | elapsed:    0.5s\n",
      "[Parallel(n_jobs=-1)]: Done   3 tasks      | elapsed:    0.5s\n",
      "[Parallel(n_jobs=-1)]: Done   4 tasks      | elapsed:    0.8s\n",
      "[Parallel(n_jobs=-1)]: Done   5 tasks      | elapsed:    0.8s\n",
      "[Parallel(n_jobs=-1)]: Done   6 tasks      | elapsed:    0.8s\n",
      "[Parallel(n_jobs=-1)]: Done   7 tasks      | elapsed:    0.9s\n",
      "[Parallel(n_jobs=-1)]: Done  10 out of  30 | elapsed:    1.3s remaining:    2.7s\n",
      "[Parallel(n_jobs=-1)]: Done  13 out of  30 | elapsed:    1.6s remaining:    2.1s\n",
      "[Parallel(n_jobs=-1)]: Done  16 out of  30 | elapsed:    1.7s remaining:    1.5s\n",
      "[Parallel(n_jobs=-1)]: Done  19 out of  30 | elapsed:    2.0s remaining:    1.2s\n",
      "[Parallel(n_jobs=-1)]: Done  22 out of  30 | elapsed:    2.2s remaining:    0.8s\n",
      "[Parallel(n_jobs=-1)]: Done  25 out of  30 | elapsed:    2.3s remaining:    0.5s\n",
      "[Parallel(n_jobs=-1)]: Done  28 out of  30 | elapsed:    2.7s remaining:    0.2s\n",
      "[Parallel(n_jobs=-1)]: Done  30 out of  30 | elapsed:    2.9s finished\n",
      "/Users/kevin/opt/anaconda3/envs/DistributedComputing/lib/python3.7/site-packages/sklearn/model_selection/_search.py:739: DataConversionWarning: A column-vector y was passed when a 1d array was expected. Please change the shape of y to (n_samples,), for example using ravel().\n",
      "  self.best_estimator_.fit(X, y, **fit_params)\n"
     ]
    },
    {
     "data": {
      "text/plain": [
       "RandomizedSearchCV(cv=3, error_score=nan,\n",
       "                   estimator=RandomForestRegressor(bootstrap=True,\n",
       "                                                   ccp_alpha=0.0,\n",
       "                                                   criterion='mse',\n",
       "                                                   max_depth=None,\n",
       "                                                   max_features='auto',\n",
       "                                                   max_leaf_nodes=None,\n",
       "                                                   max_samples=None,\n",
       "                                                   min_impurity_decrease=0.0,\n",
       "                                                   min_impurity_split=None,\n",
       "                                                   min_samples_leaf=1,\n",
       "                                                   min_samples_split=2,\n",
       "                                                   min_weight_fraction_leaf=0.0,\n",
       "                                                   n_estimators=100, n_jobs=-1,\n",
       "                                                   oob_score=False,\n",
       "                                                   random_state=None, verbose=0,\n",
       "                                                   warm_start=False),\n",
       "                   iid='deprecated', n_iter=10, n_jobs=-1,\n",
       "                   param_distributions={'max_depth': [5, 10, 15],\n",
       "                                        'max_features': ['auto', 'sqrt',\n",
       "                                                         'log2'],\n",
       "                                        'min_samples_leaf': [3, 5, 10],\n",
       "                                        'n_estimators': [100, 250, 500]},\n",
       "                   pre_dispatch='2*n_jobs', random_state=None, refit=True,\n",
       "                   return_train_score=False, scoring=None, verbose=12)"
      ]
     },
     "execution_count": 55,
     "metadata": {},
     "output_type": "execute_result"
    }
   ],
   "source": [
    "params = {'min_samples_leaf':[3,5,10], \n",
    "          'max_depth':[5,10,15],\n",
    "          'n_estimators':[100,250,500],\n",
    "          'max_features':[\"auto\",\"sqrt\",\"log2\"]\n",
    "          }\n",
    "\n",
    "searchCV = RandomizedSearchCV(estimator=rf_reg,\n",
    "                                  param_distributions=params, \n",
    "                                  n_iter=10,\n",
    "                                  cv=3,\n",
    "                                  verbose=12,\n",
    "                                  n_jobs=-1,)\n",
    "\n",
    "searchCV.fit(X_train, y_train)"
   ]
  },
  {
   "cell_type": "code",
   "execution_count": 56,
   "metadata": {},
   "outputs": [
    {
     "data": {
      "text/plain": [
       "({'n_estimators': 250,\n",
       "  'min_samples_leaf': 3,\n",
       "  'max_features': 'auto',\n",
       "  'max_depth': 15},\n",
       " 0.7387750465568926)"
      ]
     },
     "execution_count": 56,
     "metadata": {},
     "output_type": "execute_result"
    }
   ],
   "source": [
    "searchCV.best_params_, searchCV.best_score_"
   ]
  },
  {
   "cell_type": "code",
   "execution_count": 57,
   "metadata": {},
   "outputs": [
    {
     "data": {
      "text/plain": [
       "0.9466845786873999"
      ]
     },
     "execution_count": 57,
     "metadata": {},
     "output_type": "execute_result"
    }
   ],
   "source": [
    "searchCV.score(X_train, y_train)"
   ]
  },
  {
   "cell_type": "code",
   "execution_count": 58,
   "metadata": {},
   "outputs": [
    {
     "data": {
      "text/plain": [
       "0.8475331564536316"
      ]
     },
     "execution_count": 58,
     "metadata": {},
     "output_type": "execute_result"
    }
   ],
   "source": [
    "searchCV.score(X_val, y_val)"
   ]
  },
  {
   "cell_type": "code",
   "execution_count": 59,
   "metadata": {},
   "outputs": [
    {
     "data": {
      "text/plain": [
       "1.0983924242424195"
      ]
     },
     "execution_count": 59,
     "metadata": {},
     "output_type": "execute_result"
    }
   ],
   "source": [
    "median_absolute_error(searchCV.predict(X_val), y_val)"
   ]
  },
  {
   "cell_type": "markdown",
   "metadata": {},
   "source": [
    "## Keras Regression"
   ]
  },
  {
   "cell_type": "code",
   "execution_count": 60,
   "metadata": {},
   "outputs": [
    {
     "name": "stderr",
     "output_type": "stream",
     "text": [
      "Using TensorFlow backend.\n"
     ]
    }
   ],
   "source": [
    "from keras.models import Sequential"
   ]
  },
  {
   "cell_type": "code",
   "execution_count": 61,
   "metadata": {},
   "outputs": [],
   "source": [
    "from keras.layers import Dense\n",
    "from keras import optimizers"
   ]
  },
  {
   "cell_type": "code",
   "execution_count": 62,
   "metadata": {},
   "outputs": [],
   "source": [
    "model = Sequential()\n",
    "\n",
    "model.add(Dense(units=32, activation='relu', input_dim=X_train.shape[1]))\n",
    "model.add(Dense(units=16, activation='relu'))\n",
    "model.add(Dense(units=1))"
   ]
  },
  {
   "cell_type": "code",
   "execution_count": 63,
   "metadata": {},
   "outputs": [
    {
     "name": "stdout",
     "output_type": "stream",
     "text": [
      "Train on 120 samples, validate on 30 samples\n",
      "Epoch 1/500\n",
      "120/120 [==============================] - 0s 1ms/step - loss: 42.0304 - val_loss: 7.0871\n",
      "Epoch 2/500\n",
      "120/120 [==============================] - 0s 52us/step - loss: 14.7841 - val_loss: 17.7304\n",
      "Epoch 3/500\n",
      "120/120 [==============================] - 0s 52us/step - loss: 7.0570 - val_loss: 10.6076\n",
      "Epoch 4/500\n",
      "120/120 [==============================] - 0s 63us/step - loss: 5.8970 - val_loss: 12.7618\n",
      "Epoch 5/500\n",
      "120/120 [==============================] - 0s 55us/step - loss: 4.1264 - val_loss: 10.0619\n",
      "Epoch 6/500\n",
      "120/120 [==============================] - 0s 54us/step - loss: 3.1673 - val_loss: 10.2020\n",
      "Epoch 7/500\n",
      "120/120 [==============================] - 0s 58us/step - loss: 2.0394 - val_loss: 6.4682\n",
      "Epoch 8/500\n",
      "120/120 [==============================] - 0s 58us/step - loss: 1.3539 - val_loss: 7.3084\n",
      "Epoch 9/500\n",
      "120/120 [==============================] - 0s 57us/step - loss: 1.0341 - val_loss: 6.5609\n",
      "Epoch 10/500\n",
      "120/120 [==============================] - 0s 54us/step - loss: 0.8126 - val_loss: 6.0634\n",
      "Epoch 11/500\n",
      "120/120 [==============================] - 0s 59us/step - loss: 0.4219 - val_loss: 5.3666\n",
      "Epoch 12/500\n",
      "120/120 [==============================] - 0s 63us/step - loss: 0.3607 - val_loss: 5.8337\n",
      "Epoch 13/500\n",
      "120/120 [==============================] - 0s 53us/step - loss: 0.2892 - val_loss: 5.3158\n",
      "Epoch 14/500\n",
      "120/120 [==============================] - 0s 52us/step - loss: 0.2405 - val_loss: 5.7039\n",
      "Epoch 15/500\n",
      "120/120 [==============================] - 0s 53us/step - loss: 0.2159 - val_loss: 5.3819\n",
      "Epoch 16/500\n",
      "120/120 [==============================] - 0s 64us/step - loss: 0.1777 - val_loss: 5.4380\n",
      "Epoch 17/500\n",
      "120/120 [==============================] - 0s 53us/step - loss: 0.1492 - val_loss: 5.0478\n",
      "Epoch 18/500\n",
      "120/120 [==============================] - 0s 57us/step - loss: 0.1350 - val_loss: 5.7620\n",
      "Epoch 19/500\n",
      "120/120 [==============================] - 0s 51us/step - loss: 0.1138 - val_loss: 5.0093\n",
      "Epoch 20/500\n",
      "120/120 [==============================] - 0s 67us/step - loss: 0.1124 - val_loss: 5.3251\n",
      "Epoch 21/500\n",
      "120/120 [==============================] - 0s 57us/step - loss: 0.1027 - val_loss: 5.3079\n",
      "Epoch 22/500\n",
      "120/120 [==============================] - 0s 56us/step - loss: 0.0939 - val_loss: 5.2611\n",
      "Epoch 23/500\n",
      "120/120 [==============================] - 0s 54us/step - loss: 0.0803 - val_loss: 5.1906\n",
      "Epoch 24/500\n",
      "120/120 [==============================] - 0s 54us/step - loss: 0.0657 - val_loss: 5.1727\n",
      "Epoch 25/500\n",
      "120/120 [==============================] - 0s 71us/step - loss: 0.0551 - val_loss: 5.2302\n",
      "Epoch 26/500\n",
      "120/120 [==============================] - 0s 57us/step - loss: 0.0424 - val_loss: 5.1168\n",
      "Epoch 27/500\n",
      "120/120 [==============================] - 0s 51us/step - loss: 0.0425 - val_loss: 5.1758\n",
      "Epoch 28/500\n",
      "120/120 [==============================] - 0s 53us/step - loss: 0.0362 - val_loss: 5.2104\n",
      "Epoch 29/500\n",
      "120/120 [==============================] - 0s 53us/step - loss: 0.0292 - val_loss: 5.0992\n",
      "Epoch 30/500\n",
      "120/120 [==============================] - 0s 55us/step - loss: 0.0307 - val_loss: 5.1355\n",
      "Epoch 31/500\n",
      "120/120 [==============================] - 0s 61us/step - loss: 0.0272 - val_loss: 5.1338\n",
      "Epoch 32/500\n",
      "120/120 [==============================] - 0s 54us/step - loss: 0.0243 - val_loss: 5.0721\n",
      "Epoch 33/500\n",
      "120/120 [==============================] - 0s 51us/step - loss: 0.0250 - val_loss: 5.1773\n",
      "Epoch 34/500\n",
      "120/120 [==============================] - 0s 64us/step - loss: 0.0250 - val_loss: 5.2194\n",
      "Epoch 35/500\n",
      "120/120 [==============================] - 0s 55us/step - loss: 0.0227 - val_loss: 5.1341\n",
      "Epoch 36/500\n",
      "120/120 [==============================] - 0s 48us/step - loss: 0.0228 - val_loss: 5.2097\n",
      "Epoch 37/500\n",
      "120/120 [==============================] - 0s 47us/step - loss: 0.0236 - val_loss: 5.1709\n",
      "Epoch 38/500\n",
      "120/120 [==============================] - 0s 60us/step - loss: 0.0235 - val_loss: 5.1171\n",
      "Epoch 39/500\n",
      "120/120 [==============================] - 0s 57us/step - loss: 0.0214 - val_loss: 5.1356\n",
      "Epoch 40/500\n",
      "120/120 [==============================] - 0s 52us/step - loss: 0.0201 - val_loss: 5.1119\n",
      "Epoch 41/500\n",
      "120/120 [==============================] - 0s 56us/step - loss: 0.0202 - val_loss: 5.1405\n",
      "Epoch 42/500\n",
      "120/120 [==============================] - 0s 52us/step - loss: 0.0192 - val_loss: 5.1343\n",
      "Epoch 43/500\n",
      "120/120 [==============================] - 0s 60us/step - loss: 0.0198 - val_loss: 5.1718\n",
      "Epoch 44/500\n",
      "120/120 [==============================] - 0s 48us/step - loss: 0.0189 - val_loss: 5.1673\n",
      "Epoch 45/500\n",
      "120/120 [==============================] - 0s 50us/step - loss: 0.0184 - val_loss: 5.1163\n",
      "Epoch 46/500\n",
      "120/120 [==============================] - 0s 61us/step - loss: 0.0180 - val_loss: 5.1596\n",
      "Epoch 47/500\n",
      "120/120 [==============================] - 0s 53us/step - loss: 0.0185 - val_loss: 5.1593\n",
      "Epoch 48/500\n",
      "120/120 [==============================] - 0s 57us/step - loss: 0.0181 - val_loss: 5.0634\n",
      "Epoch 49/500\n",
      "120/120 [==============================] - 0s 54us/step - loss: 0.0208 - val_loss: 5.1586\n",
      "Epoch 50/500\n",
      "120/120 [==============================] - 0s 54us/step - loss: 0.0199 - val_loss: 5.2138\n",
      "Epoch 51/500\n",
      "120/120 [==============================] - 0s 50us/step - loss: 0.0205 - val_loss: 5.1331\n",
      "Epoch 52/500\n",
      "120/120 [==============================] - 0s 51us/step - loss: 0.0184 - val_loss: 5.1702\n",
      "Epoch 53/500\n",
      "120/120 [==============================] - 0s 98us/step - loss: 0.0200 - val_loss: 5.1474\n",
      "Epoch 54/500\n",
      "120/120 [==============================] - 0s 71us/step - loss: 0.0188 - val_loss: 5.0869\n",
      "Epoch 55/500\n",
      "120/120 [==============================] - 0s 70us/step - loss: 0.0177 - val_loss: 5.0754\n",
      "Epoch 56/500\n",
      "120/120 [==============================] - 0s 61us/step - loss: 0.0172 - val_loss: 5.1133\n",
      "Epoch 57/500\n",
      "120/120 [==============================] - 0s 55us/step - loss: 0.0169 - val_loss: 5.1154\n",
      "Epoch 58/500\n",
      "120/120 [==============================] - 0s 49us/step - loss: 0.0163 - val_loss: 5.1801\n",
      "Epoch 59/500\n",
      "120/120 [==============================] - 0s 48us/step - loss: 0.0157 - val_loss: 5.1274\n",
      "Epoch 60/500\n",
      "120/120 [==============================] - 0s 52us/step - loss: 0.0154 - val_loss: 5.1283\n",
      "Epoch 61/500\n",
      "120/120 [==============================] - 0s 48us/step - loss: 0.0150 - val_loss: 5.1041\n",
      "Epoch 62/500\n",
      "120/120 [==============================] - 0s 51us/step - loss: 0.0145 - val_loss: 5.1026\n",
      "Epoch 63/500\n",
      "120/120 [==============================] - 0s 46us/step - loss: 0.0147 - val_loss: 5.1027\n",
      "Epoch 64/500\n",
      "120/120 [==============================] - 0s 47us/step - loss: 0.0143 - val_loss: 5.1207\n",
      "Epoch 65/500\n",
      "120/120 [==============================] - 0s 55us/step - loss: 0.0141 - val_loss: 5.0705\n",
      "Epoch 66/500\n",
      "120/120 [==============================] - 0s 49us/step - loss: 0.0139 - val_loss: 5.1115\n",
      "Epoch 67/500\n",
      "120/120 [==============================] - 0s 49us/step - loss: 0.0136 - val_loss: 5.0846\n",
      "Epoch 68/500\n",
      "120/120 [==============================] - 0s 56us/step - loss: 0.0135 - val_loss: 5.0952\n",
      "Epoch 69/500\n",
      "120/120 [==============================] - 0s 50us/step - loss: 0.0133 - val_loss: 5.0788\n",
      "Epoch 70/500\n",
      "120/120 [==============================] - 0s 49us/step - loss: 0.0132 - val_loss: 5.1210\n",
      "Epoch 71/500\n",
      "120/120 [==============================] - 0s 54us/step - loss: 0.0137 - val_loss: 5.0840\n",
      "Epoch 72/500\n",
      "120/120 [==============================] - 0s 48us/step - loss: 0.0143 - val_loss: 5.1171\n",
      "Epoch 73/500\n",
      "120/120 [==============================] - 0s 50us/step - loss: 0.0155 - val_loss: 5.0424\n",
      "Epoch 74/500\n",
      "120/120 [==============================] - 0s 48us/step - loss: 0.0156 - val_loss: 5.2076\n",
      "Epoch 75/500\n",
      "120/120 [==============================] - 0s 48us/step - loss: 0.0270 - val_loss: 5.0142\n",
      "Epoch 76/500\n",
      "120/120 [==============================] - 0s 61us/step - loss: 0.0290 - val_loss: 5.1811\n",
      "Epoch 77/500\n",
      "120/120 [==============================] - 0s 48us/step - loss: 0.0585 - val_loss: 4.8721\n",
      "Epoch 78/500\n",
      "120/120 [==============================] - 0s 48us/step - loss: 0.0659 - val_loss: 5.5725\n",
      "Epoch 79/500\n",
      "120/120 [==============================] - 0s 58us/step - loss: 0.1002 - val_loss: 4.9727\n",
      "Epoch 80/500\n"
     ]
    },
    {
     "name": "stdout",
     "output_type": "stream",
     "text": [
      "120/120 [==============================] - 0s 61us/step - loss: 0.1287 - val_loss: 5.4830\n",
      "Epoch 81/500\n",
      "120/120 [==============================] - 0s 98us/step - loss: 0.0998 - val_loss: 5.4660\n",
      "Epoch 82/500\n",
      "120/120 [==============================] - 0s 56us/step - loss: 0.1310 - val_loss: 5.5395\n",
      "Epoch 83/500\n",
      "120/120 [==============================] - 0s 48us/step - loss: 0.0993 - val_loss: 4.9939\n",
      "Epoch 84/500\n",
      "120/120 [==============================] - 0s 61us/step - loss: 0.1465 - val_loss: 5.4089\n",
      "Epoch 85/500\n",
      "120/120 [==============================] - 0s 53us/step - loss: 0.2027 - val_loss: 4.7056\n",
      "Epoch 86/500\n",
      "120/120 [==============================] - 0s 50us/step - loss: 0.1885 - val_loss: 5.3643\n",
      "Epoch 87/500\n",
      "120/120 [==============================] - 0s 58us/step - loss: 0.3079 - val_loss: 5.0080\n",
      "Epoch 88/500\n",
      "120/120 [==============================] - 0s 55us/step - loss: 0.6296 - val_loss: 4.8071\n",
      "Epoch 89/500\n",
      "120/120 [==============================] - 0s 56us/step - loss: 0.7880 - val_loss: 6.4271\n",
      "Epoch 90/500\n",
      "120/120 [==============================] - 0s 46us/step - loss: 0.6721 - val_loss: 4.5891\n",
      "Epoch 91/500\n",
      "120/120 [==============================] - 0s 48us/step - loss: 0.8706 - val_loss: 4.4046\n",
      "Epoch 92/500\n",
      "120/120 [==============================] - 0s 46us/step - loss: 0.9364 - val_loss: 5.2830\n",
      "Epoch 93/500\n",
      "120/120 [==============================] - 0s 44us/step - loss: 0.9534 - val_loss: 7.0386\n",
      "Epoch 94/500\n",
      "120/120 [==============================] - 0s 63us/step - loss: 1.9151 - val_loss: 5.3970\n",
      "Epoch 95/500\n",
      "120/120 [==============================] - 0s 46us/step - loss: 2.8129 - val_loss: 7.3753\n",
      "Epoch 96/500\n",
      "120/120 [==============================] - 0s 54us/step - loss: 2.9054 - val_loss: 6.1166\n",
      "Epoch 97/500\n",
      "120/120 [==============================] - 0s 51us/step - loss: 2.2092 - val_loss: 4.0905\n",
      "Epoch 98/500\n",
      "120/120 [==============================] - 0s 55us/step - loss: 0.9487 - val_loss: 5.4423\n",
      "Epoch 99/500\n",
      "120/120 [==============================] - 0s 56us/step - loss: 1.1301 - val_loss: 4.5358\n",
      "Epoch 100/500\n",
      "120/120 [==============================] - 0s 46us/step - loss: 0.7998 - val_loss: 4.8653\n",
      "Epoch 101/500\n",
      "120/120 [==============================] - 0s 55us/step - loss: 0.6588 - val_loss: 4.3352\n",
      "Epoch 102/500\n",
      "120/120 [==============================] - 0s 49us/step - loss: 0.4275 - val_loss: 4.8708\n",
      "Epoch 103/500\n",
      "120/120 [==============================] - 0s 56us/step - loss: 0.3110 - val_loss: 4.0248\n",
      "Epoch 104/500\n",
      "120/120 [==============================] - 0s 55us/step - loss: 0.3254 - val_loss: 3.9595\n",
      "Epoch 105/500\n",
      "120/120 [==============================] - 0s 43us/step - loss: 0.2335 - val_loss: 4.5728\n",
      "Epoch 106/500\n",
      "120/120 [==============================] - 0s 49us/step - loss: 0.1704 - val_loss: 4.3640\n",
      "Epoch 107/500\n",
      "120/120 [==============================] - 0s 50us/step - loss: 0.1990 - val_loss: 3.9370\n",
      "Epoch 108/500\n",
      "120/120 [==============================] - 0s 51us/step - loss: 0.1633 - val_loss: 3.6191\n",
      "Epoch 109/500\n",
      "120/120 [==============================] - 0s 61us/step - loss: 0.1361 - val_loss: 3.9293\n",
      "Epoch 110/500\n",
      "120/120 [==============================] - 0s 49us/step - loss: 0.0868 - val_loss: 3.6837\n",
      "Epoch 111/500\n",
      "120/120 [==============================] - 0s 53us/step - loss: 0.0829 - val_loss: 3.6519\n",
      "Epoch 112/500\n",
      "120/120 [==============================] - 0s 49us/step - loss: 0.0415 - val_loss: 3.7914\n",
      "Epoch 113/500\n",
      "120/120 [==============================] - 0s 58us/step - loss: 0.0401 - val_loss: 3.7271\n",
      "Epoch 114/500\n",
      "120/120 [==============================] - 0s 51us/step - loss: 0.0338 - val_loss: 3.6927\n",
      "Epoch 115/500\n",
      "120/120 [==============================] - 0s 49us/step - loss: 0.0328 - val_loss: 3.8817\n",
      "Epoch 116/500\n",
      "120/120 [==============================] - 0s 57us/step - loss: 0.0277 - val_loss: 3.8255\n",
      "Epoch 117/500\n",
      "120/120 [==============================] - 0s 49us/step - loss: 0.0244 - val_loss: 3.6885\n",
      "Epoch 118/500\n",
      "120/120 [==============================] - 0s 66us/step - loss: 0.0230 - val_loss: 3.8261\n",
      "Epoch 119/500\n",
      "120/120 [==============================] - 0s 43us/step - loss: 0.0194 - val_loss: 3.8201\n",
      "Epoch 120/500\n",
      "120/120 [==============================] - 0s 51us/step - loss: 0.0155 - val_loss: 3.7602\n",
      "Epoch 121/500\n",
      "120/120 [==============================] - 0s 53us/step - loss: 0.0143 - val_loss: 3.7454\n",
      "Epoch 122/500\n",
      "120/120 [==============================] - 0s 55us/step - loss: 0.0128 - val_loss: 3.7712\n",
      "Epoch 123/500\n",
      "120/120 [==============================] - 0s 53us/step - loss: 0.0123 - val_loss: 3.7952\n",
      "Epoch 124/500\n",
      "120/120 [==============================] - 0s 45us/step - loss: 0.0114 - val_loss: 3.7895\n",
      "Epoch 125/500\n",
      "120/120 [==============================] - 0s 52us/step - loss: 0.0110 - val_loss: 3.7855\n",
      "Epoch 126/500\n",
      "120/120 [==============================] - 0s 60us/step - loss: 0.0109 - val_loss: 3.8002\n",
      "Epoch 127/500\n",
      "120/120 [==============================] - 0s 53us/step - loss: 0.0108 - val_loss: 3.7745\n",
      "Epoch 128/500\n",
      "120/120 [==============================] - 0s 49us/step - loss: 0.0105 - val_loss: 3.7490\n",
      "Epoch 129/500\n",
      "120/120 [==============================] - 0s 44us/step - loss: 0.0108 - val_loss: 3.7908\n",
      "Epoch 130/500\n",
      "120/120 [==============================] - 0s 57us/step - loss: 0.0105 - val_loss: 3.7902\n",
      "Epoch 131/500\n",
      "120/120 [==============================] - 0s 48us/step - loss: 0.0108 - val_loss: 3.8010\n",
      "Epoch 132/500\n",
      "120/120 [==============================] - 0s 54us/step - loss: 0.0107 - val_loss: 3.7709\n",
      "Epoch 133/500\n",
      "120/120 [==============================] - 0s 54us/step - loss: 0.0111 - val_loss: 3.7694\n",
      "Epoch 134/500\n",
      "120/120 [==============================] - 0s 43us/step - loss: 0.0105 - val_loss: 3.8108\n",
      "Epoch 135/500\n",
      "120/120 [==============================] - 0s 49us/step - loss: 0.0105 - val_loss: 3.7734\n",
      "Epoch 136/500\n",
      "120/120 [==============================] - 0s 45us/step - loss: 0.0101 - val_loss: 3.7668\n",
      "Epoch 137/500\n",
      "120/120 [==============================] - 0s 52us/step - loss: 0.0112 - val_loss: 3.7865\n",
      "Epoch 138/500\n",
      "120/120 [==============================] - 0s 54us/step - loss: 0.0104 - val_loss: 3.8542\n",
      "Epoch 139/500\n",
      "120/120 [==============================] - 0s 47us/step - loss: 0.0120 - val_loss: 3.8060\n",
      "Epoch 140/500\n",
      "120/120 [==============================] - 0s 55us/step - loss: 0.0128 - val_loss: 3.7165\n",
      "Epoch 141/500\n",
      "120/120 [==============================] - 0s 46us/step - loss: 0.0173 - val_loss: 3.7835\n",
      "Epoch 142/500\n",
      "120/120 [==============================] - 0s 59us/step - loss: 0.0155 - val_loss: 3.8122\n",
      "Epoch 143/500\n",
      "120/120 [==============================] - 0s 50us/step - loss: 0.0121 - val_loss: 3.7795\n",
      "Epoch 144/500\n",
      "120/120 [==============================] - 0s 51us/step - loss: 0.0113 - val_loss: 3.7462\n",
      "Epoch 145/500\n",
      "120/120 [==============================] - 0s 53us/step - loss: 0.0098 - val_loss: 3.7674\n",
      "Epoch 146/500\n",
      "120/120 [==============================] - 0s 52us/step - loss: 0.0096 - val_loss: 3.7711\n",
      "Epoch 147/500\n",
      "120/120 [==============================] - 0s 45us/step - loss: 0.0091 - val_loss: 3.7808\n",
      "Epoch 148/500\n",
      "120/120 [==============================] - 0s 49us/step - loss: 0.0089 - val_loss: 3.7932\n",
      "Epoch 149/500\n",
      "120/120 [==============================] - 0s 43us/step - loss: 0.0093 - val_loss: 3.7912\n",
      "Epoch 150/500\n",
      "120/120 [==============================] - 0s 47us/step - loss: 0.0093 - val_loss: 3.7458\n",
      "Epoch 151/500\n",
      "120/120 [==============================] - 0s 53us/step - loss: 0.0105 - val_loss: 3.8039\n",
      "Epoch 152/500\n",
      "120/120 [==============================] - 0s 48us/step - loss: 0.0100 - val_loss: 3.8123\n",
      "Epoch 153/500\n",
      "120/120 [==============================] - 0s 50us/step - loss: 0.0093 - val_loss: 3.7738\n",
      "Epoch 154/500\n",
      "120/120 [==============================] - 0s 47us/step - loss: 0.0095 - val_loss: 3.8134\n",
      "Epoch 155/500\n",
      "120/120 [==============================] - 0s 50us/step - loss: 0.0096 - val_loss: 3.7939\n",
      "Epoch 156/500\n",
      "120/120 [==============================] - 0s 45us/step - loss: 0.0088 - val_loss: 3.7940\n",
      "Epoch 157/500\n",
      "120/120 [==============================] - 0s 54us/step - loss: 0.0083 - val_loss: 3.7722\n",
      "Epoch 158/500\n",
      "120/120 [==============================] - 0s 52us/step - loss: 0.0084 - val_loss: 3.8110\n",
      "Epoch 159/500\n"
     ]
    },
    {
     "name": "stdout",
     "output_type": "stream",
     "text": [
      "120/120 [==============================] - 0s 47us/step - loss: 0.0086 - val_loss: 3.7810\n",
      "Epoch 160/500\n",
      "120/120 [==============================] - 0s 52us/step - loss: 0.0085 - val_loss: 3.8015\n",
      "Epoch 161/500\n",
      "120/120 [==============================] - 0s 47us/step - loss: 0.0089 - val_loss: 3.7694\n",
      "Epoch 162/500\n",
      "120/120 [==============================] - 0s 54us/step - loss: 0.0088 - val_loss: 3.8178\n",
      "Epoch 163/500\n",
      "120/120 [==============================] - 0s 51us/step - loss: 0.0092 - val_loss: 3.7480\n",
      "Epoch 164/500\n",
      "120/120 [==============================] - 0s 46us/step - loss: 0.0104 - val_loss: 3.7895\n",
      "Epoch 165/500\n",
      "120/120 [==============================] - 0s 50us/step - loss: 0.0121 - val_loss: 3.7561\n",
      "Epoch 166/500\n",
      "120/120 [==============================] - 0s 55us/step - loss: 0.0101 - val_loss: 3.8553\n",
      "Epoch 167/500\n",
      "120/120 [==============================] - 0s 52us/step - loss: 0.0109 - val_loss: 3.7667\n",
      "Epoch 168/500\n",
      "120/120 [==============================] - 0s 50us/step - loss: 0.0110 - val_loss: 3.7964\n",
      "Epoch 169/500\n",
      "120/120 [==============================] - 0s 46us/step - loss: 0.0109 - val_loss: 3.7588\n",
      "Epoch 170/500\n",
      "120/120 [==============================] - 0s 51us/step - loss: 0.0102 - val_loss: 3.8624\n",
      "Epoch 171/500\n",
      "120/120 [==============================] - 0s 54us/step - loss: 0.0125 - val_loss: 3.7462\n",
      "Epoch 172/500\n",
      "120/120 [==============================] - 0s 48us/step - loss: 0.0143 - val_loss: 3.8161\n",
      "Epoch 173/500\n",
      "120/120 [==============================] - 0s 49us/step - loss: 0.0147 - val_loss: 3.6639\n",
      "Epoch 174/500\n",
      "120/120 [==============================] - 0s 50us/step - loss: 0.0161 - val_loss: 3.8564\n",
      "Epoch 175/500\n",
      "120/120 [==============================] - 0s 52us/step - loss: 0.0166 - val_loss: 3.6709\n",
      "Epoch 176/500\n",
      "120/120 [==============================] - 0s 48us/step - loss: 0.0254 - val_loss: 3.9168\n",
      "Epoch 177/500\n",
      "120/120 [==============================] - 0s 60us/step - loss: 0.0435 - val_loss: 3.7473\n",
      "Epoch 178/500\n",
      "120/120 [==============================] - 0s 48us/step - loss: 0.0672 - val_loss: 4.2212\n",
      "Epoch 179/500\n",
      "120/120 [==============================] - 0s 49us/step - loss: 0.0876 - val_loss: 3.6311\n",
      "Epoch 180/500\n",
      "120/120 [==============================] - 0s 47us/step - loss: 0.0937 - val_loss: 3.8716\n",
      "Epoch 181/500\n",
      "120/120 [==============================] - 0s 47us/step - loss: 0.0852 - val_loss: 3.5445\n",
      "Epoch 182/500\n",
      "120/120 [==============================] - 0s 58us/step - loss: 0.1446 - val_loss: 3.9312\n",
      "Epoch 183/500\n",
      "120/120 [==============================] - 0s 44us/step - loss: 0.1334 - val_loss: 3.7319\n",
      "Epoch 184/500\n",
      "120/120 [==============================] - 0s 48us/step - loss: 0.1122 - val_loss: 4.1872\n",
      "Epoch 185/500\n",
      "120/120 [==============================] - 0s 50us/step - loss: 0.1390 - val_loss: 3.7411\n",
      "Epoch 186/500\n",
      "120/120 [==============================] - 0s 54us/step - loss: 0.0920 - val_loss: 3.4385\n",
      "Epoch 187/500\n",
      "120/120 [==============================] - 0s 49us/step - loss: 0.0795 - val_loss: 3.5270\n",
      "Epoch 188/500\n",
      "120/120 [==============================] - 0s 44us/step - loss: 0.0590 - val_loss: 3.9156\n",
      "Epoch 189/500\n",
      "120/120 [==============================] - 0s 46us/step - loss: 0.0416 - val_loss: 3.6417\n",
      "Epoch 190/500\n",
      "120/120 [==============================] - 0s 54us/step - loss: 0.0389 - val_loss: 3.6079\n",
      "Epoch 191/500\n",
      "120/120 [==============================] - 0s 58us/step - loss: 0.0313 - val_loss: 3.6088\n",
      "Epoch 192/500\n",
      "120/120 [==============================] - 0s 48us/step - loss: 0.0253 - val_loss: 3.6494\n",
      "Epoch 193/500\n",
      "120/120 [==============================] - 0s 44us/step - loss: 0.0278 - val_loss: 3.7290\n",
      "Epoch 194/500\n",
      "120/120 [==============================] - 0s 45us/step - loss: 0.0251 - val_loss: 3.7128\n",
      "Epoch 195/500\n",
      "120/120 [==============================] - 0s 52us/step - loss: 0.0237 - val_loss: 3.8064\n",
      "Epoch 196/500\n",
      "120/120 [==============================] - 0s 45us/step - loss: 0.0255 - val_loss: 3.7059\n",
      "Epoch 197/500\n",
      "120/120 [==============================] - 0s 61us/step - loss: 0.0254 - val_loss: 3.7599\n",
      "Epoch 198/500\n",
      "120/120 [==============================] - 0s 47us/step - loss: 0.0318 - val_loss: 3.6037\n",
      "Epoch 199/500\n",
      "120/120 [==============================] - 0s 48us/step - loss: 0.0270 - val_loss: 3.6483\n",
      "Epoch 200/500\n",
      "120/120 [==============================] - 0s 54us/step - loss: 0.0402 - val_loss: 3.5783\n",
      "Epoch 201/500\n",
      "120/120 [==============================] - 0s 48us/step - loss: 0.0489 - val_loss: 3.6455\n",
      "Epoch 202/500\n",
      "120/120 [==============================] - 0s 58us/step - loss: 0.0480 - val_loss: 3.3897\n",
      "Epoch 203/500\n",
      "120/120 [==============================] - 0s 44us/step - loss: 0.0697 - val_loss: 3.9542\n",
      "Epoch 204/500\n",
      "120/120 [==============================] - 0s 46us/step - loss: 0.0847 - val_loss: 3.8628\n",
      "Epoch 205/500\n",
      "120/120 [==============================] - 0s 51us/step - loss: 0.1009 - val_loss: 3.9119\n",
      "Epoch 206/500\n",
      "120/120 [==============================] - 0s 53us/step - loss: 0.1366 - val_loss: 3.4059\n",
      "Epoch 207/500\n",
      "120/120 [==============================] - 0s 53us/step - loss: 0.1491 - val_loss: 4.0437\n",
      "Epoch 208/500\n",
      "120/120 [==============================] - 0s 46us/step - loss: 0.1482 - val_loss: 3.4729\n",
      "Epoch 209/500\n",
      "120/120 [==============================] - 0s 48us/step - loss: 0.1190 - val_loss: 3.7540\n",
      "Epoch 210/500\n",
      "120/120 [==============================] - 0s 52us/step - loss: 0.1152 - val_loss: 3.5017\n",
      "Epoch 211/500\n",
      "120/120 [==============================] - 0s 52us/step - loss: 0.0715 - val_loss: 3.5549\n",
      "Epoch 212/500\n",
      "120/120 [==============================] - 0s 53us/step - loss: 0.0731 - val_loss: 3.7436\n",
      "Epoch 213/500\n",
      "120/120 [==============================] - 0s 46us/step - loss: 0.0802 - val_loss: 3.4860\n",
      "Epoch 214/500\n",
      "120/120 [==============================] - 0s 45us/step - loss: 0.0500 - val_loss: 3.4545\n",
      "Epoch 215/500\n",
      "120/120 [==============================] - 0s 56us/step - loss: 0.0531 - val_loss: 3.4627\n",
      "Epoch 216/500\n",
      "120/120 [==============================] - 0s 48us/step - loss: 0.0607 - val_loss: 3.5611\n",
      "Epoch 217/500\n",
      "120/120 [==============================] - 0s 52us/step - loss: 0.0516 - val_loss: 3.7166\n",
      "Epoch 218/500\n",
      "120/120 [==============================] - 0s 45us/step - loss: 0.0778 - val_loss: 4.2549\n",
      "Epoch 219/500\n",
      "120/120 [==============================] - 0s 45us/step - loss: 0.2277 - val_loss: 4.0856\n",
      "Epoch 220/500\n",
      "120/120 [==============================] - 0s 54us/step - loss: 0.3752 - val_loss: 3.8536\n",
      "Epoch 221/500\n",
      "120/120 [==============================] - 0s 48us/step - loss: 0.4430 - val_loss: 3.5842\n",
      "Epoch 222/500\n",
      "120/120 [==============================] - 0s 61us/step - loss: 0.8937 - val_loss: 4.6453\n",
      "Epoch 223/500\n",
      "120/120 [==============================] - 0s 45us/step - loss: 1.4558 - val_loss: 3.3576\n",
      "Epoch 224/500\n",
      "120/120 [==============================] - 0s 47us/step - loss: 1.3368 - val_loss: 5.1822\n",
      "Epoch 225/500\n",
      "120/120 [==============================] - 0s 51us/step - loss: 1.1359 - val_loss: 5.1816\n",
      "Epoch 226/500\n",
      "120/120 [==============================] - 0s 50us/step - loss: 1.1112 - val_loss: 3.9318\n",
      "Epoch 227/500\n",
      "120/120 [==============================] - 0s 50us/step - loss: 0.7595 - val_loss: 3.5278\n",
      "Epoch 228/500\n",
      "120/120 [==============================] - 0s 47us/step - loss: 0.7225 - val_loss: 5.7979\n",
      "Epoch 229/500\n",
      "120/120 [==============================] - 0s 47us/step - loss: 0.7784 - val_loss: 4.3721\n",
      "Epoch 230/500\n",
      "120/120 [==============================] - 0s 52us/step - loss: 0.4373 - val_loss: 3.5252\n",
      "Epoch 231/500\n",
      "120/120 [==============================] - 0s 56us/step - loss: 0.2357 - val_loss: 4.1299\n",
      "Epoch 232/500\n",
      "120/120 [==============================] - 0s 54us/step - loss: 0.2269 - val_loss: 4.2353\n",
      "Epoch 233/500\n",
      "120/120 [==============================] - 0s 46us/step - loss: 0.1652 - val_loss: 4.4119\n",
      "Epoch 234/500\n",
      "120/120 [==============================] - 0s 46us/step - loss: 0.1573 - val_loss: 4.1010\n",
      "Epoch 235/500\n",
      "120/120 [==============================] - 0s 61us/step - loss: 0.1601 - val_loss: 3.6382\n",
      "Epoch 236/500\n",
      "120/120 [==============================] - 0s 47us/step - loss: 0.2760 - val_loss: 3.7193\n",
      "Epoch 237/500\n",
      "120/120 [==============================] - 0s 50us/step - loss: 0.2181 - val_loss: 4.3420\n"
     ]
    },
    {
     "name": "stdout",
     "output_type": "stream",
     "text": [
      "Epoch 238/500\n",
      "120/120 [==============================] - 0s 47us/step - loss: 0.2695 - val_loss: 4.5391\n",
      "Epoch 239/500\n",
      "120/120 [==============================] - 0s 47us/step - loss: 0.2813 - val_loss: 4.3612\n",
      "Epoch 240/500\n",
      "120/120 [==============================] - 0s 60us/step - loss: 0.1426 - val_loss: 3.4532\n",
      "Epoch 241/500\n",
      "120/120 [==============================] - 0s 56us/step - loss: 0.2257 - val_loss: 3.5893\n",
      "Epoch 242/500\n",
      "120/120 [==============================] - 0s 48us/step - loss: 0.2397 - val_loss: 3.7812\n",
      "Epoch 243/500\n",
      "120/120 [==============================] - 0s 48us/step - loss: 0.2081 - val_loss: 4.6559\n",
      "Epoch 244/500\n",
      "120/120 [==============================] - 0s 46us/step - loss: 0.1871 - val_loss: 4.1683\n",
      "Epoch 245/500\n",
      "120/120 [==============================] - 0s 46us/step - loss: 0.1979 - val_loss: 4.5037\n",
      "Epoch 246/500\n",
      "120/120 [==============================] - 0s 55us/step - loss: 0.2004 - val_loss: 4.2969\n",
      "Epoch 247/500\n",
      "120/120 [==============================] - 0s 52us/step - loss: 0.1678 - val_loss: 3.9142\n",
      "Epoch 248/500\n",
      "120/120 [==============================] - 0s 44us/step - loss: 0.1826 - val_loss: 3.5603\n",
      "Epoch 249/500\n",
      "120/120 [==============================] - 0s 51us/step - loss: 0.1355 - val_loss: 4.1668\n",
      "Epoch 250/500\n",
      "120/120 [==============================] - 0s 44us/step - loss: 0.1095 - val_loss: 4.2428\n",
      "Epoch 251/500\n",
      "120/120 [==============================] - 0s 60us/step - loss: 0.1398 - val_loss: 3.8744\n",
      "Epoch 252/500\n",
      "120/120 [==============================] - 0s 49us/step - loss: 0.1427 - val_loss: 3.5960\n",
      "Epoch 253/500\n",
      "120/120 [==============================] - 0s 44us/step - loss: 0.1815 - val_loss: 3.4284\n",
      "Epoch 254/500\n",
      "120/120 [==============================] - 0s 52us/step - loss: 0.2368 - val_loss: 3.7358\n",
      "Epoch 255/500\n",
      "120/120 [==============================] - 0s 50us/step - loss: 0.2093 - val_loss: 4.3906\n",
      "Epoch 256/500\n",
      "120/120 [==============================] - 0s 51us/step - loss: 0.2175 - val_loss: 4.5734\n",
      "Epoch 257/500\n",
      "120/120 [==============================] - 0s 48us/step - loss: 0.2302 - val_loss: 4.2712\n",
      "Epoch 258/500\n",
      "120/120 [==============================] - 0s 45us/step - loss: 0.1106 - val_loss: 3.7242\n",
      "Epoch 259/500\n",
      "120/120 [==============================] - 0s 52us/step - loss: 0.1079 - val_loss: 3.8593\n",
      "Epoch 260/500\n",
      "120/120 [==============================] - 0s 55us/step - loss: 0.0814 - val_loss: 4.3114\n",
      "Epoch 261/500\n",
      "120/120 [==============================] - 0s 48us/step - loss: 0.0613 - val_loss: 4.1599\n",
      "Epoch 262/500\n",
      "120/120 [==============================] - 0s 49us/step - loss: 0.0640 - val_loss: 3.8891\n",
      "Epoch 263/500\n",
      "120/120 [==============================] - 0s 46us/step - loss: 0.0936 - val_loss: 4.1288\n",
      "Epoch 264/500\n",
      "120/120 [==============================] - 0s 50us/step - loss: 0.0629 - val_loss: 3.9399\n",
      "Epoch 265/500\n",
      "120/120 [==============================] - 0s 49us/step - loss: 0.0791 - val_loss: 3.9593\n",
      "Epoch 266/500\n",
      "120/120 [==============================] - 0s 56us/step - loss: 0.0896 - val_loss: 4.3181\n",
      "Epoch 267/500\n",
      "120/120 [==============================] - 0s 53us/step - loss: 0.1212 - val_loss: 4.0521\n",
      "Epoch 268/500\n",
      "120/120 [==============================] - 0s 45us/step - loss: 0.1785 - val_loss: 3.6912\n",
      "Epoch 269/500\n",
      "120/120 [==============================] - 0s 50us/step - loss: 0.2014 - val_loss: 3.8268\n",
      "Epoch 270/500\n",
      "120/120 [==============================] - 0s 47us/step - loss: 0.2459 - val_loss: 3.9333\n",
      "Epoch 271/500\n",
      "120/120 [==============================] - 0s 52us/step - loss: 0.3905 - val_loss: 4.7880\n",
      "Epoch 272/500\n",
      "120/120 [==============================] - 0s 50us/step - loss: 0.3645 - val_loss: 4.5722\n",
      "Epoch 273/500\n",
      "120/120 [==============================] - 0s 47us/step - loss: 0.3118 - val_loss: 3.6085\n",
      "Epoch 274/500\n",
      "120/120 [==============================] - 0s 50us/step - loss: 0.2705 - val_loss: 3.5194\n",
      "Epoch 275/500\n",
      "120/120 [==============================] - 0s 55us/step - loss: 0.4714 - val_loss: 4.8816\n",
      "Epoch 276/500\n",
      "120/120 [==============================] - 0s 70us/step - loss: 0.6525 - val_loss: 5.2187\n",
      "Epoch 277/500\n",
      "120/120 [==============================] - 0s 46us/step - loss: 0.5989 - val_loss: 4.3068\n",
      "Epoch 278/500\n",
      "120/120 [==============================] - 0s 45us/step - loss: 0.8176 - val_loss: 3.9387\n",
      "Epoch 279/500\n",
      "120/120 [==============================] - 0s 50us/step - loss: 0.6618 - val_loss: 4.9403\n",
      "Epoch 280/500\n",
      "120/120 [==============================] - 0s 43us/step - loss: 0.7500 - val_loss: 4.5982\n",
      "Epoch 281/500\n",
      "120/120 [==============================] - 0s 53us/step - loss: 1.2099 - val_loss: 5.6721\n",
      "Epoch 282/500\n",
      "120/120 [==============================] - 0s 59us/step - loss: 1.4456 - val_loss: 5.4907\n",
      "Epoch 283/500\n",
      "120/120 [==============================] - 0s 47us/step - loss: 1.3989 - val_loss: 4.5204\n",
      "Epoch 284/500\n",
      "120/120 [==============================] - 0s 51us/step - loss: 0.8941 - val_loss: 4.0980\n",
      "Epoch 285/500\n",
      "120/120 [==============================] - 0s 45us/step - loss: 1.6985 - val_loss: 4.4872\n",
      "Epoch 286/500\n",
      "120/120 [==============================] - 0s 55us/step - loss: 1.5382 - val_loss: 9.0480\n",
      "Epoch 287/500\n",
      "120/120 [==============================] - 0s 49us/step - loss: 2.3448 - val_loss: 4.4202\n",
      "Epoch 288/500\n",
      "120/120 [==============================] - 0s 47us/step - loss: 1.8430 - val_loss: 3.7976\n",
      "Epoch 289/500\n",
      "120/120 [==============================] - 0s 57us/step - loss: 1.5850 - val_loss: 3.9989\n",
      "Epoch 290/500\n",
      "120/120 [==============================] - 0s 81us/step - loss: 0.8369 - val_loss: 4.4778\n",
      "Epoch 291/500\n",
      "120/120 [==============================] - 0s 76us/step - loss: 0.6286 - val_loss: 3.5244\n",
      "Epoch 292/500\n",
      "120/120 [==============================] - 0s 62us/step - loss: 0.5657 - val_loss: 3.2425\n",
      "Epoch 293/500\n",
      "120/120 [==============================] - 0s 60us/step - loss: 0.5413 - val_loss: 4.1869\n",
      "Epoch 294/500\n",
      "120/120 [==============================] - 0s 51us/step - loss: 0.5924 - val_loss: 3.6734\n",
      "Epoch 295/500\n",
      "120/120 [==============================] - 0s 50us/step - loss: 0.3345 - val_loss: 3.7193\n",
      "Epoch 296/500\n",
      "120/120 [==============================] - 0s 49us/step - loss: 0.3280 - val_loss: 3.7096\n",
      "Epoch 297/500\n",
      "120/120 [==============================] - 0s 48us/step - loss: 0.2759 - val_loss: 3.7633\n",
      "Epoch 298/500\n",
      "120/120 [==============================] - 0s 61us/step - loss: 0.2696 - val_loss: 3.6904\n",
      "Epoch 299/500\n",
      "120/120 [==============================] - 0s 66us/step - loss: 0.1708 - val_loss: 3.4983\n",
      "Epoch 300/500\n",
      "120/120 [==============================] - 0s 48us/step - loss: 0.1753 - val_loss: 3.4847\n",
      "Epoch 301/500\n",
      "120/120 [==============================] - 0s 51us/step - loss: 0.2423 - val_loss: 3.6033\n",
      "Epoch 302/500\n",
      "120/120 [==============================] - 0s 50us/step - loss: 0.1924 - val_loss: 3.5991\n",
      "Epoch 303/500\n",
      "120/120 [==============================] - 0s 45us/step - loss: 0.1968 - val_loss: 3.7227\n",
      "Epoch 304/500\n",
      "120/120 [==============================] - 0s 52us/step - loss: 0.0920 - val_loss: 3.5503\n",
      "Epoch 305/500\n",
      "120/120 [==============================] - 0s 47us/step - loss: 0.0819 - val_loss: 3.6185\n",
      "Epoch 306/500\n",
      "120/120 [==============================] - 0s 48us/step - loss: 0.0917 - val_loss: 3.6122\n",
      "Epoch 307/500\n",
      "120/120 [==============================] - 0s 55us/step - loss: 0.0943 - val_loss: 3.6559\n",
      "Epoch 308/500\n",
      "120/120 [==============================] - 0s 49us/step - loss: 0.0950 - val_loss: 3.5957\n",
      "Epoch 309/500\n",
      "120/120 [==============================] - 0s 54us/step - loss: 0.0536 - val_loss: 3.3697\n",
      "Epoch 310/500\n",
      "120/120 [==============================] - 0s 45us/step - loss: 0.0519 - val_loss: 3.4902\n",
      "Epoch 311/500\n",
      "120/120 [==============================] - 0s 48us/step - loss: 0.0515 - val_loss: 3.5622\n",
      "Epoch 312/500\n",
      "120/120 [==============================] - 0s 55us/step - loss: 0.0863 - val_loss: 3.3958\n",
      "Epoch 313/500\n",
      "120/120 [==============================] - 0s 53us/step - loss: 0.1123 - val_loss: 3.3581\n",
      "Epoch 314/500\n",
      "120/120 [==============================] - 0s 47us/step - loss: 0.1151 - val_loss: 3.6344\n",
      "Epoch 315/500\n",
      "120/120 [==============================] - 0s 47us/step - loss: 0.0873 - val_loss: 3.5782\n",
      "Epoch 316/500\n",
      "120/120 [==============================] - 0s 45us/step - loss: 0.0576 - val_loss: 3.3526\n"
     ]
    },
    {
     "name": "stdout",
     "output_type": "stream",
     "text": [
      "Epoch 317/500\n",
      "120/120 [==============================] - 0s 54us/step - loss: 0.1409 - val_loss: 3.3852\n",
      "Epoch 318/500\n",
      "120/120 [==============================] - 0s 47us/step - loss: 0.0819 - val_loss: 3.6596\n",
      "Epoch 319/500\n",
      "120/120 [==============================] - 0s 53us/step - loss: 0.0807 - val_loss: 3.5847\n",
      "Epoch 320/500\n",
      "120/120 [==============================] - 0s 52us/step - loss: 0.0655 - val_loss: 3.3158\n",
      "Epoch 321/500\n",
      "120/120 [==============================] - 0s 52us/step - loss: 0.0520 - val_loss: 3.3886\n",
      "Epoch 322/500\n",
      "120/120 [==============================] - 0s 53us/step - loss: 0.0600 - val_loss: 3.6416\n",
      "Epoch 323/500\n",
      "120/120 [==============================] - 0s 45us/step - loss: 0.0625 - val_loss: 3.7141\n",
      "Epoch 324/500\n",
      "120/120 [==============================] - 0s 49us/step - loss: 0.0582 - val_loss: 3.3888\n",
      "Epoch 325/500\n",
      "120/120 [==============================] - 0s 43us/step - loss: 0.0412 - val_loss: 3.1997\n",
      "Epoch 326/500\n",
      "120/120 [==============================] - 0s 45us/step - loss: 0.0508 - val_loss: 3.4898\n",
      "Epoch 327/500\n",
      "120/120 [==============================] - 0s 49us/step - loss: 0.0361 - val_loss: 3.5855\n",
      "Epoch 328/500\n",
      "120/120 [==============================] - 0s 51us/step - loss: 0.0316 - val_loss: 3.3354\n",
      "Epoch 329/500\n",
      "120/120 [==============================] - 0s 54us/step - loss: 0.0296 - val_loss: 3.3340\n",
      "Epoch 330/500\n",
      "120/120 [==============================] - 0s 46us/step - loss: 0.0294 - val_loss: 3.4614\n",
      "Epoch 331/500\n",
      "120/120 [==============================] - 0s 46us/step - loss: 0.0240 - val_loss: 3.4342\n",
      "Epoch 332/500\n",
      "120/120 [==============================] - 0s 54us/step - loss: 0.0247 - val_loss: 3.4058\n",
      "Epoch 333/500\n",
      "120/120 [==============================] - 0s 56us/step - loss: 0.0224 - val_loss: 3.4441\n",
      "Epoch 334/500\n",
      "120/120 [==============================] - 0s 49us/step - loss: 0.0222 - val_loss: 3.4282\n",
      "Epoch 335/500\n",
      "120/120 [==============================] - 0s 48us/step - loss: 0.0216 - val_loss: 3.4800\n",
      "Epoch 336/500\n",
      "120/120 [==============================] - 0s 49us/step - loss: 0.0208 - val_loss: 3.4722\n",
      "Epoch 337/500\n",
      "120/120 [==============================] - 0s 57us/step - loss: 0.0201 - val_loss: 3.4022\n",
      "Epoch 338/500\n",
      "120/120 [==============================] - 0s 48us/step - loss: 0.0210 - val_loss: 3.4171\n",
      "Epoch 339/500\n",
      "120/120 [==============================] - 0s 62us/step - loss: 0.0200 - val_loss: 3.4471\n",
      "Epoch 340/500\n",
      "120/120 [==============================] - 0s 45us/step - loss: 0.0198 - val_loss: 3.4337\n",
      "Epoch 341/500\n",
      "120/120 [==============================] - 0s 49us/step - loss: 0.0198 - val_loss: 3.4364\n",
      "Epoch 342/500\n",
      "120/120 [==============================] - 0s 47us/step - loss: 0.0193 - val_loss: 3.4746\n",
      "Epoch 343/500\n",
      "120/120 [==============================] - 0s 44us/step - loss: 0.0194 - val_loss: 3.4350\n",
      "Epoch 344/500\n",
      "120/120 [==============================] - 0s 57us/step - loss: 0.0196 - val_loss: 3.4146\n",
      "Epoch 345/500\n",
      "120/120 [==============================] - 0s 46us/step - loss: 0.0199 - val_loss: 3.4549\n",
      "Epoch 346/500\n",
      "120/120 [==============================] - 0s 46us/step - loss: 0.0198 - val_loss: 3.4588\n",
      "Epoch 347/500\n",
      "120/120 [==============================] - 0s 50us/step - loss: 0.0195 - val_loss: 3.4793\n",
      "Epoch 348/500\n",
      "120/120 [==============================] - 0s 54us/step - loss: 0.0195 - val_loss: 3.4545\n",
      "Epoch 349/500\n",
      "120/120 [==============================] - 0s 49us/step - loss: 0.0193 - val_loss: 3.4270\n",
      "Epoch 350/500\n",
      "120/120 [==============================] - 0s 45us/step - loss: 0.0191 - val_loss: 3.4137\n",
      "Epoch 351/500\n",
      "120/120 [==============================] - 0s 48us/step - loss: 0.0199 - val_loss: 3.4484\n",
      "Epoch 352/500\n",
      "120/120 [==============================] - 0s 53us/step - loss: 0.0195 - val_loss: 3.4667\n",
      "Epoch 353/500\n",
      "120/120 [==============================] - 0s 56us/step - loss: 0.0192 - val_loss: 3.4291\n",
      "Epoch 354/500\n",
      "120/120 [==============================] - 0s 53us/step - loss: 0.0196 - val_loss: 3.4594\n",
      "Epoch 355/500\n",
      "120/120 [==============================] - 0s 44us/step - loss: 0.0198 - val_loss: 3.4900\n",
      "Epoch 356/500\n",
      "120/120 [==============================] - 0s 47us/step - loss: 0.0232 - val_loss: 3.4834\n",
      "Epoch 357/500\n",
      "120/120 [==============================] - 0s 54us/step - loss: 0.0233 - val_loss: 3.4702\n",
      "Epoch 358/500\n",
      "120/120 [==============================] - 0s 47us/step - loss: 0.0225 - val_loss: 3.4231\n",
      "Epoch 359/500\n",
      "120/120 [==============================] - 0s 50us/step - loss: 0.0226 - val_loss: 3.4916\n",
      "Epoch 360/500\n",
      "120/120 [==============================] - 0s 45us/step - loss: 0.0216 - val_loss: 3.6086\n",
      "Epoch 361/500\n",
      "120/120 [==============================] - 0s 47us/step - loss: 0.0267 - val_loss: 3.5241\n",
      "Epoch 362/500\n",
      "120/120 [==============================] - 0s 53us/step - loss: 0.0304 - val_loss: 3.3202\n",
      "Epoch 363/500\n",
      "120/120 [==============================] - 0s 45us/step - loss: 0.0530 - val_loss: 3.3212\n",
      "Epoch 364/500\n",
      "120/120 [==============================] - 0s 57us/step - loss: 0.0463 - val_loss: 3.4199\n",
      "Epoch 365/500\n",
      "120/120 [==============================] - 0s 51us/step - loss: 0.0456 - val_loss: 3.7341\n",
      "Epoch 366/500\n",
      "120/120 [==============================] - 0s 48us/step - loss: 0.0488 - val_loss: 3.4649\n",
      "Epoch 367/500\n",
      "120/120 [==============================] - 0s 52us/step - loss: 0.0318 - val_loss: 3.3606\n",
      "Epoch 368/500\n",
      "120/120 [==============================] - 0s 54us/step - loss: 0.0250 - val_loss: 3.4051\n",
      "Epoch 369/500\n",
      "120/120 [==============================] - 0s 49us/step - loss: 0.0275 - val_loss: 3.5084\n",
      "Epoch 370/500\n",
      "120/120 [==============================] - 0s 44us/step - loss: 0.0299 - val_loss: 3.5669\n",
      "Epoch 371/500\n",
      "120/120 [==============================] - 0s 45us/step - loss: 0.0303 - val_loss: 3.5103\n",
      "Epoch 372/500\n",
      "120/120 [==============================] - 0s 57us/step - loss: 0.0293 - val_loss: 3.4021\n",
      "Epoch 373/500\n",
      "120/120 [==============================] - 0s 55us/step - loss: 0.0296 - val_loss: 3.4544\n",
      "Epoch 374/500\n",
      "120/120 [==============================] - 0s 51us/step - loss: 0.0293 - val_loss: 3.5996\n",
      "Epoch 375/500\n",
      "120/120 [==============================] - 0s 46us/step - loss: 0.0441 - val_loss: 3.5813\n",
      "Epoch 376/500\n",
      "120/120 [==============================] - 0s 47us/step - loss: 0.0515 - val_loss: 3.2920\n",
      "Epoch 377/500\n",
      "120/120 [==============================] - 0s 61us/step - loss: 0.0406 - val_loss: 3.5007\n",
      "Epoch 378/500\n",
      "120/120 [==============================] - 0s 48us/step - loss: 0.0541 - val_loss: 3.7611\n",
      "Epoch 379/500\n",
      "120/120 [==============================] - 0s 50us/step - loss: 0.0603 - val_loss: 3.6249\n",
      "Epoch 380/500\n",
      "120/120 [==============================] - 0s 45us/step - loss: 0.0535 - val_loss: 3.7032\n",
      "Epoch 381/500\n",
      "120/120 [==============================] - 0s 47us/step - loss: 0.0483 - val_loss: 3.5038\n",
      "Epoch 382/500\n",
      "120/120 [==============================] - 0s 52us/step - loss: 0.0352 - val_loss: 3.3837\n",
      "Epoch 383/500\n",
      "120/120 [==============================] - 0s 54us/step - loss: 0.0309 - val_loss: 3.4987\n",
      "Epoch 384/500\n",
      "120/120 [==============================] - 0s 56us/step - loss: 0.0326 - val_loss: 3.6255\n",
      "Epoch 385/500\n",
      "120/120 [==============================] - 0s 44us/step - loss: 0.0434 - val_loss: 3.5366\n",
      "Epoch 386/500\n",
      "120/120 [==============================] - 0s 46us/step - loss: 0.0359 - val_loss: 3.4446\n",
      "Epoch 387/500\n",
      "120/120 [==============================] - 0s 52us/step - loss: 0.0311 - val_loss: 3.4508\n",
      "Epoch 388/500\n",
      "120/120 [==============================] - 0s 51us/step - loss: 0.0324 - val_loss: 3.3983\n",
      "Epoch 389/500\n",
      "120/120 [==============================] - 0s 54us/step - loss: 0.0439 - val_loss: 3.4865\n",
      "Epoch 390/500\n",
      "120/120 [==============================] - 0s 44us/step - loss: 0.0357 - val_loss: 3.5325\n",
      "Epoch 391/500\n",
      "120/120 [==============================] - 0s 45us/step - loss: 0.0394 - val_loss: 3.5816\n",
      "Epoch 392/500\n",
      "120/120 [==============================] - 0s 56us/step - loss: 0.0484 - val_loss: 3.5285\n",
      "Epoch 393/500\n",
      "120/120 [==============================] - 0s 54us/step - loss: 0.0446 - val_loss: 3.3255\n",
      "Epoch 394/500\n",
      "120/120 [==============================] - 0s 51us/step - loss: 0.0553 - val_loss: 3.2053\n",
      "Epoch 395/500\n",
      "120/120 [==============================] - 0s 44us/step - loss: 0.0708 - val_loss: 3.2655\n"
     ]
    },
    {
     "name": "stdout",
     "output_type": "stream",
     "text": [
      "Epoch 396/500\n",
      "120/120 [==============================] - 0s 45us/step - loss: 0.0620 - val_loss: 3.3909\n",
      "Epoch 397/500\n",
      "120/120 [==============================] - 0s 61us/step - loss: 0.0508 - val_loss: 3.5198\n",
      "Epoch 398/500\n",
      "120/120 [==============================] - 0s 48us/step - loss: 0.0487 - val_loss: 3.5869\n",
      "Epoch 399/500\n",
      "120/120 [==============================] - 0s 53us/step - loss: 0.0435 - val_loss: 3.2821\n",
      "Epoch 400/500\n",
      "120/120 [==============================] - 0s 44us/step - loss: 0.0486 - val_loss: 3.2300\n",
      "Epoch 401/500\n",
      "120/120 [==============================] - 0s 48us/step - loss: 0.0465 - val_loss: 3.4573\n",
      "Epoch 402/500\n",
      "120/120 [==============================] - 0s 52us/step - loss: 0.0508 - val_loss: 3.5450\n",
      "Epoch 403/500\n",
      "120/120 [==============================] - 0s 53us/step - loss: 0.0338 - val_loss: 3.5153\n",
      "Epoch 404/500\n",
      "120/120 [==============================] - 0s 55us/step - loss: 0.0284 - val_loss: 3.3696\n",
      "Epoch 405/500\n",
      "120/120 [==============================] - 0s 45us/step - loss: 0.0296 - val_loss: 3.5844\n",
      "Epoch 406/500\n",
      "120/120 [==============================] - 0s 47us/step - loss: 0.0281 - val_loss: 3.5262\n",
      "Epoch 407/500\n",
      "120/120 [==============================] - 0s 46us/step - loss: 0.0239 - val_loss: 3.4170\n",
      "Epoch 408/500\n",
      "120/120 [==============================] - 0s 57us/step - loss: 0.0246 - val_loss: 3.4156\n",
      "Epoch 409/500\n",
      "120/120 [==============================] - 0s 53us/step - loss: 0.0272 - val_loss: 3.4523\n",
      "Epoch 410/500\n",
      "120/120 [==============================] - 0s 43us/step - loss: 0.0238 - val_loss: 3.4407\n",
      "Epoch 411/500\n",
      "120/120 [==============================] - 0s 52us/step - loss: 0.0217 - val_loss: 3.4528\n",
      "Epoch 412/500\n",
      "120/120 [==============================] - 0s 51us/step - loss: 0.0209 - val_loss: 3.4704\n",
      "Epoch 413/500\n",
      "120/120 [==============================] - 0s 50us/step - loss: 0.0210 - val_loss: 3.4814\n",
      "Epoch 414/500\n",
      "120/120 [==============================] - 0s 50us/step - loss: 0.0201 - val_loss: 3.4236\n",
      "Epoch 415/500\n",
      "120/120 [==============================] - 0s 44us/step - loss: 0.0202 - val_loss: 3.4005\n",
      "Epoch 416/500\n",
      "120/120 [==============================] - 0s 46us/step - loss: 0.0202 - val_loss: 3.4373\n",
      "Epoch 417/500\n",
      "120/120 [==============================] - 0s 54us/step - loss: 0.0217 - val_loss: 3.5046\n",
      "Epoch 418/500\n",
      "120/120 [==============================] - 0s 45us/step - loss: 0.0266 - val_loss: 3.5999\n",
      "Epoch 419/500\n",
      "120/120 [==============================] - 0s 51us/step - loss: 0.0346 - val_loss: 3.4810\n",
      "Epoch 420/500\n",
      "120/120 [==============================] - 0s 50us/step - loss: 0.0266 - val_loss: 3.4242\n",
      "Epoch 421/500\n",
      "120/120 [==============================] - 0s 48us/step - loss: 0.0231 - val_loss: 3.4787\n",
      "Epoch 422/500\n",
      "120/120 [==============================] - 0s 49us/step - loss: 0.0235 - val_loss: 3.5104\n",
      "Epoch 423/500\n",
      "120/120 [==============================] - 0s 50us/step - loss: 0.0235 - val_loss: 3.4436\n",
      "Epoch 424/500\n",
      "120/120 [==============================] - 0s 55us/step - loss: 0.0218 - val_loss: 3.3866\n",
      "Epoch 425/500\n",
      "120/120 [==============================] - 0s 46us/step - loss: 0.0227 - val_loss: 3.4500\n",
      "Epoch 426/500\n",
      "120/120 [==============================] - 0s 54us/step - loss: 0.0220 - val_loss: 3.5012\n",
      "Epoch 427/500\n",
      "120/120 [==============================] - 0s 43us/step - loss: 0.0242 - val_loss: 3.5113\n",
      "Epoch 428/500\n",
      "120/120 [==============================] - 0s 51us/step - loss: 0.0221 - val_loss: 3.4321\n",
      "Epoch 429/500\n",
      "120/120 [==============================] - 0s 53us/step - loss: 0.0207 - val_loss: 3.4328\n",
      "Epoch 430/500\n",
      "120/120 [==============================] - 0s 45us/step - loss: 0.0212 - val_loss: 3.4417\n",
      "Epoch 431/500\n",
      "120/120 [==============================] - 0s 52us/step - loss: 0.0212 - val_loss: 3.3638\n",
      "Epoch 432/500\n",
      "120/120 [==============================] - 0s 50us/step - loss: 0.0243 - val_loss: 3.4478\n",
      "Epoch 433/500\n",
      "120/120 [==============================] - 0s 60us/step - loss: 0.0235 - val_loss: 3.4133\n",
      "Epoch 434/500\n",
      "120/120 [==============================] - 0s 51us/step - loss: 0.0221 - val_loss: 3.3804\n",
      "Epoch 435/500\n",
      "120/120 [==============================] - 0s 48us/step - loss: 0.0210 - val_loss: 3.4727\n",
      "Epoch 436/500\n",
      "120/120 [==============================] - 0s 52us/step - loss: 0.0216 - val_loss: 3.4659\n",
      "Epoch 437/500\n",
      "120/120 [==============================] - 0s 53us/step - loss: 0.0219 - val_loss: 3.4579\n",
      "Epoch 438/500\n",
      "120/120 [==============================] - 0s 48us/step - loss: 0.0207 - val_loss: 3.4586\n",
      "Epoch 439/500\n",
      "120/120 [==============================] - 0s 53us/step - loss: 0.0211 - val_loss: 3.4500\n",
      "Epoch 440/500\n",
      "120/120 [==============================] - 0s 45us/step - loss: 0.0228 - val_loss: 3.4410\n",
      "Epoch 441/500\n",
      "120/120 [==============================] - 0s 49us/step - loss: 0.0222 - val_loss: 3.3674\n",
      "Epoch 442/500\n",
      "120/120 [==============================] - 0s 52us/step - loss: 0.0235 - val_loss: 3.3877\n",
      "Epoch 443/500\n",
      "120/120 [==============================] - 0s 45us/step - loss: 0.0232 - val_loss: 3.4236\n",
      "Epoch 444/500\n",
      "120/120 [==============================] - 0s 51us/step - loss: 0.0273 - val_loss: 3.4273\n",
      "Epoch 445/500\n",
      "120/120 [==============================] - 0s 42us/step - loss: 0.0301 - val_loss: 3.4843\n",
      "Epoch 446/500\n",
      "120/120 [==============================] - 0s 49us/step - loss: 0.0357 - val_loss: 3.5877\n",
      "Epoch 447/500\n",
      "120/120 [==============================] - 0s 47us/step - loss: 0.0514 - val_loss: 3.6674\n",
      "Epoch 448/500\n",
      "120/120 [==============================] - 0s 58us/step - loss: 0.0700 - val_loss: 3.5335\n",
      "Epoch 449/500\n",
      "120/120 [==============================] - 0s 51us/step - loss: 0.0697 - val_loss: 3.2651\n",
      "Epoch 450/500\n",
      "120/120 [==============================] - 0s 46us/step - loss: 0.1030 - val_loss: 3.4959\n",
      "Epoch 451/500\n",
      "120/120 [==============================] - 0s 47us/step - loss: 0.1349 - val_loss: 3.3241\n",
      "Epoch 452/500\n",
      "120/120 [==============================] - 0s 46us/step - loss: 0.1714 - val_loss: 3.6865\n",
      "Epoch 453/500\n",
      "120/120 [==============================] - 0s 54us/step - loss: 0.2576 - val_loss: 4.0171\n",
      "Epoch 454/500\n",
      "120/120 [==============================] - 0s 50us/step - loss: 0.2605 - val_loss: 3.7335\n",
      "Epoch 455/500\n",
      "120/120 [==============================] - 0s 45us/step - loss: 0.1888 - val_loss: 3.7947\n",
      "Epoch 456/500\n",
      "120/120 [==============================] - 0s 50us/step - loss: 0.2555 - val_loss: 3.6060\n",
      "Epoch 457/500\n",
      "120/120 [==============================] - 0s 59us/step - loss: 0.1996 - val_loss: 2.9308\n",
      "Epoch 458/500\n",
      "120/120 [==============================] - 0s 47us/step - loss: 0.1788 - val_loss: 3.1751\n",
      "Epoch 459/500\n",
      "120/120 [==============================] - 0s 53us/step - loss: 0.2278 - val_loss: 3.4873\n",
      "Epoch 460/500\n",
      "120/120 [==============================] - 0s 44us/step - loss: 0.1672 - val_loss: 4.1906\n",
      "Epoch 461/500\n",
      "120/120 [==============================] - 0s 48us/step - loss: 0.2954 - val_loss: 3.7305\n",
      "Epoch 462/500\n",
      "120/120 [==============================] - 0s 57us/step - loss: 0.2817 - val_loss: 3.8177\n",
      "Epoch 463/500\n",
      "120/120 [==============================] - 0s 49us/step - loss: 0.6357 - val_loss: 4.1981\n",
      "Epoch 464/500\n",
      "120/120 [==============================] - 0s 51us/step - loss: 0.5928 - val_loss: 4.0832\n",
      "Epoch 465/500\n",
      "120/120 [==============================] - 0s 47us/step - loss: 0.4405 - val_loss: 4.8641\n",
      "Epoch 466/500\n",
      "120/120 [==============================] - 0s 49us/step - loss: 0.6148 - val_loss: 3.8706\n",
      "Epoch 467/500\n",
      "120/120 [==============================] - 0s 46us/step - loss: 0.5187 - val_loss: 4.0574\n",
      "Epoch 468/500\n",
      "120/120 [==============================] - 0s 60us/step - loss: 0.9046 - val_loss: 5.2455\n",
      "Epoch 469/500\n",
      "120/120 [==============================] - 0s 58us/step - loss: 1.5299 - val_loss: 5.9324\n",
      "Epoch 470/500\n",
      "120/120 [==============================] - 0s 51us/step - loss: 1.7168 - val_loss: 5.8646\n",
      "Epoch 471/500\n",
      "120/120 [==============================] - 0s 52us/step - loss: 1.5264 - val_loss: 3.8437\n",
      "Epoch 472/500\n",
      "120/120 [==============================] - 0s 56us/step - loss: 1.4226 - val_loss: 3.8195\n",
      "Epoch 473/500\n",
      "120/120 [==============================] - 0s 50us/step - loss: 0.6624 - val_loss: 4.9988\n",
      "Epoch 474/500\n",
      "120/120 [==============================] - 0s 46us/step - loss: 1.4118 - val_loss: 3.0270\n"
     ]
    },
    {
     "name": "stdout",
     "output_type": "stream",
     "text": [
      "Epoch 475/500\n",
      "120/120 [==============================] - 0s 45us/step - loss: 1.6581 - val_loss: 4.1937\n",
      "Epoch 476/500\n",
      "120/120 [==============================] - 0s 57us/step - loss: 1.1895 - val_loss: 5.0871\n",
      "Epoch 477/500\n",
      "120/120 [==============================] - 0s 53us/step - loss: 0.9799 - val_loss: 5.3810\n",
      "Epoch 478/500\n",
      "120/120 [==============================] - 0s 45us/step - loss: 1.2056 - val_loss: 5.9846\n",
      "Epoch 479/500\n",
      "120/120 [==============================] - 0s 49us/step - loss: 0.8760 - val_loss: 4.7245\n",
      "Epoch 480/500\n",
      "120/120 [==============================] - 0s 45us/step - loss: 0.5025 - val_loss: 4.7553\n",
      "Epoch 481/500\n",
      "120/120 [==============================] - 0s 48us/step - loss: 0.4292 - val_loss: 4.0776\n",
      "Epoch 482/500\n",
      "120/120 [==============================] - 0s 49us/step - loss: 0.3932 - val_loss: 3.5960\n",
      "Epoch 483/500\n",
      "120/120 [==============================] - 0s 47us/step - loss: 0.2509 - val_loss: 3.6994\n",
      "Epoch 484/500\n",
      "120/120 [==============================] - 0s 45us/step - loss: 0.2385 - val_loss: 3.5265\n",
      "Epoch 485/500\n",
      "120/120 [==============================] - 0s 46us/step - loss: 0.2308 - val_loss: 3.5756\n",
      "Epoch 486/500\n",
      "120/120 [==============================] - 0s 51us/step - loss: 0.1895 - val_loss: 3.6579\n",
      "Epoch 487/500\n",
      "120/120 [==============================] - 0s 46us/step - loss: 0.1972 - val_loss: 3.4852\n",
      "Epoch 488/500\n",
      "120/120 [==============================] - 0s 56us/step - loss: 0.1198 - val_loss: 3.5722\n",
      "Epoch 489/500\n",
      "120/120 [==============================] - 0s 49us/step - loss: 0.1818 - val_loss: 3.4945\n",
      "Epoch 490/500\n",
      "120/120 [==============================] - 0s 48us/step - loss: 0.1405 - val_loss: 3.4218\n",
      "Epoch 491/500\n",
      "120/120 [==============================] - 0s 52us/step - loss: 0.1053 - val_loss: 3.3372\n",
      "Epoch 492/500\n",
      "120/120 [==============================] - 0s 45us/step - loss: 0.0730 - val_loss: 3.2551\n",
      "Epoch 493/500\n",
      "120/120 [==============================] - 0s 57us/step - loss: 0.0766 - val_loss: 3.3563\n",
      "Epoch 494/500\n",
      "120/120 [==============================] - 0s 51us/step - loss: 0.0861 - val_loss: 3.3496\n",
      "Epoch 495/500\n",
      "120/120 [==============================] - 0s 47us/step - loss: 0.0611 - val_loss: 3.3300\n",
      "Epoch 496/500\n",
      "120/120 [==============================] - 0s 55us/step - loss: 0.0561 - val_loss: 3.3554\n",
      "Epoch 497/500\n",
      "120/120 [==============================] - 0s 48us/step - loss: 0.0606 - val_loss: 3.3662\n",
      "Epoch 498/500\n",
      "120/120 [==============================] - 0s 51us/step - loss: 0.0716 - val_loss: 3.3354\n",
      "Epoch 499/500\n",
      "120/120 [==============================] - 0s 47us/step - loss: 0.0675 - val_loss: 3.5738\n",
      "Epoch 500/500\n",
      "120/120 [==============================] - 0s 50us/step - loss: 0.0582 - val_loss: 3.6296\n"
     ]
    },
    {
     "data": {
      "text/plain": [
       "<keras.callbacks.callbacks.History at 0x7fe10a0bf8d0>"
      ]
     },
     "execution_count": 63,
     "metadata": {},
     "output_type": "execute_result"
    }
   ],
   "source": [
    "adam = optimizers.Adam(learning_rate=0.05, amsgrad=False)\n",
    "\n",
    "model.compile(loss='mean_squared_error',optimizer=adam)\n",
    "model.fit(X_train,y_train,epochs=500, validation_data=(X_val, y_val))"
   ]
  },
  {
   "cell_type": "code",
   "execution_count": 64,
   "metadata": {},
   "outputs": [
    {
     "data": {
      "text/plain": [
       "0.7924608064887843"
      ]
     },
     "execution_count": 64,
     "metadata": {},
     "output_type": "execute_result"
    }
   ],
   "source": [
    "r2_score(y_val, model.predict(X_val))"
   ]
  },
  {
   "cell_type": "code",
   "execution_count": 65,
   "metadata": {},
   "outputs": [
    {
     "data": {
      "text/plain": [
       "array([[ 5.],\n",
       "       [ 9.],\n",
       "       [13.],\n",
       "       [ 5.],\n",
       "       [ 9.],\n",
       "       [ 7.],\n",
       "       [14.],\n",
       "       [ 9.],\n",
       "       [ 7.],\n",
       "       [11.],\n",
       "       [ 3.],\n",
       "       [ 4.],\n",
       "       [14.],\n",
       "       [ 6.],\n",
       "       [ 8.],\n",
       "       [15.],\n",
       "       [11.],\n",
       "       [ 2.],\n",
       "       [ 7.],\n",
       "       [11.],\n",
       "       [ 9.],\n",
       "       [ 8.],\n",
       "       [14.],\n",
       "       [ 2.],\n",
       "       [ 6.],\n",
       "       [ 7.],\n",
       "       [10.],\n",
       "       [ 4.],\n",
       "       [ 3.],\n",
       "       [ 3.]], dtype=float32)"
      ]
     },
     "execution_count": 65,
     "metadata": {},
     "output_type": "execute_result"
    }
   ],
   "source": [
    "model.predict(X_val).round()"
   ]
  },
  {
   "cell_type": "code",
   "execution_count": 66,
   "metadata": {},
   "outputs": [
    {
     "data": {
      "text/plain": [
       "array([[ 4.],\n",
       "       [ 6.],\n",
       "       [15.],\n",
       "       [ 5.],\n",
       "       [10.],\n",
       "       [ 9.],\n",
       "       [15.],\n",
       "       [11.],\n",
       "       [ 7.],\n",
       "       [12.],\n",
       "       [ 3.],\n",
       "       [ 5.],\n",
       "       [14.],\n",
       "       [ 4.],\n",
       "       [ 7.],\n",
       "       [14.],\n",
       "       [11.],\n",
       "       [ 1.],\n",
       "       [10.],\n",
       "       [13.],\n",
       "       [14.],\n",
       "       [ 8.],\n",
       "       [13.],\n",
       "       [ 6.],\n",
       "       [ 7.],\n",
       "       [ 6.],\n",
       "       [10.],\n",
       "       [ 7.],\n",
       "       [ 2.],\n",
       "       [ 1.]])"
      ]
     },
     "execution_count": 66,
     "metadata": {},
     "output_type": "execute_result"
    }
   ],
   "source": [
    "y_val"
   ]
  },
  {
   "cell_type": "markdown",
   "metadata": {},
   "source": [
    "## Pytorch Regression"
   ]
  },
  {
   "cell_type": "code",
   "execution_count": 67,
   "metadata": {},
   "outputs": [],
   "source": [
    "X_train = torch.tensor(X_train).float()\n",
    "X_val = torch.tensor(X_val).float()\n",
    "\n",
    "y_train = torch.tensor(y_train).float()\n",
    "y_val = torch.tensor(y_val).float()"
   ]
  },
  {
   "cell_type": "code",
   "execution_count": 68,
   "metadata": {},
   "outputs": [
    {
     "name": "stdout",
     "output_type": "stream",
     "text": [
      "epoch 0:  train loss: 78.42 val loss: 51.95\n",
      "epoch 500:  train loss: 0.0 val loss: 5.16\n",
      "epoch 1000:  train loss: 0.0 val loss: 5.16\n",
      "epoch 1500:  train loss: 0.0 val loss: 4.94\n",
      "epoch 2000:  train loss: 0.0 val loss: 5.03\n",
      "epoch 2500:  train loss: 0.0 val loss: 5.12\n",
      "epoch 3000:  train loss: 0.0 val loss: 5.36\n",
      "epoch 3500:  train loss: 0.0 val loss: 5.09\n",
      "epoch 4000:  train loss: 0.0 val loss: 4.79\n",
      "epoch 4500:  train loss: 0.0 val loss: 4.85\n",
      "epoch 5000:  train loss: 0.0 val loss: 4.75\n"
     ]
    }
   ],
   "source": [
    "input_shape = X_train.shape[1]\n",
    "\n",
    "model = nn.Sequential(nn.Linear(input_shape, 32),\n",
    "                      nn.ReLU(),\n",
    "                      nn.Linear(32, 16),\n",
    "                      nn.ReLU(),\n",
    "                      nn.Linear(16, 1))\n",
    "\n",
    "epochs = 5000\n",
    "lr = 0.05\n",
    "\n",
    "optimizer = torch.optim.Adam(model.parameters(), lr=lr)\n",
    "\n",
    "for e in range(epochs+1):\n",
    "    \n",
    "    \n",
    "    model.train()\n",
    "    y_hat_train = model(X_train)\n",
    "    train_loss = F.mse_loss(y_hat_train.squeeze(1), y_train.flatten())\n",
    "    optimizer.zero_grad()\n",
    "    train_loss.backward()\n",
    "    optimizer.step()\n",
    "    \n",
    "    model.eval()\n",
    "    y_hat_val = model(X_val)\n",
    "    val_loss = F.mse_loss(y_hat_val.squeeze(1), y_val.flatten())\n",
    "\n",
    "    if e%500==0: \n",
    "        print(f\"epoch {e}:  train loss: {round(train_loss.item(), 2)} val loss: {round(val_loss.item(), 2)}\")"
   ]
  },
  {
   "cell_type": "code",
   "execution_count": 69,
   "metadata": {},
   "outputs": [
    {
     "data": {
      "text/plain": [
       "array([[ 3.3670592],\n",
       "       [ 9.644978 ],\n",
       "       [13.6261425],\n",
       "       [ 4.509898 ],\n",
       "       [ 8.039896 ],\n",
       "       [ 8.625872 ],\n",
       "       [14.865141 ],\n",
       "       [ 9.076654 ],\n",
       "       [ 7.67096  ],\n",
       "       [ 9.107134 ]], dtype=float32)"
      ]
     },
     "execution_count": 69,
     "metadata": {},
     "output_type": "execute_result"
    }
   ],
   "source": [
    "y_pred = model(X_val).detach().numpy()\n",
    "y_pred[:10]"
   ]
  },
  {
   "cell_type": "code",
   "execution_count": 70,
   "metadata": {},
   "outputs": [
    {
     "data": {
      "text/plain": [
       "tensor([[ 4.],\n",
       "        [ 6.],\n",
       "        [15.],\n",
       "        [ 5.],\n",
       "        [10.],\n",
       "        [ 9.],\n",
       "        [15.],\n",
       "        [11.],\n",
       "        [ 7.],\n",
       "        [12.]])"
      ]
     },
     "execution_count": 70,
     "metadata": {},
     "output_type": "execute_result"
    }
   ],
   "source": [
    "y_val[:10]"
   ]
  },
  {
   "cell_type": "code",
   "execution_count": 71,
   "metadata": {},
   "outputs": [
    {
     "data": {
      "text/plain": [
       "tensor(8.3333)"
      ]
     },
     "execution_count": 71,
     "metadata": {},
     "output_type": "execute_result"
    }
   ],
   "source": [
    "y_val.mean()"
   ]
  },
  {
   "cell_type": "code",
   "execution_count": 72,
   "metadata": {},
   "outputs": [
    {
     "data": {
      "text/plain": [
       "0.7281209974999652"
      ]
     },
     "execution_count": 72,
     "metadata": {},
     "output_type": "execute_result"
    }
   ],
   "source": [
    "r2_score(y_val.detach().numpy(), y_pred)"
   ]
  },
  {
   "cell_type": "code",
   "execution_count": 73,
   "metadata": {},
   "outputs": [
    {
     "data": {
      "text/plain": [
       "1.2959805"
      ]
     },
     "execution_count": 73,
     "metadata": {},
     "output_type": "execute_result"
    }
   ],
   "source": [
    "median_absolute_error(y_val.detach().numpy(), y_pred)"
   ]
  },
  {
   "cell_type": "markdown",
   "metadata": {},
   "source": [
    "# Classification"
   ]
  },
  {
   "cell_type": "code",
   "execution_count": 74,
   "metadata": {},
   "outputs": [
    {
     "data": {
      "text/html": [
       "<div>\n",
       "<style scoped>\n",
       "    .dataframe tbody tr th:only-of-type {\n",
       "        vertical-align: middle;\n",
       "    }\n",
       "\n",
       "    .dataframe tbody tr th {\n",
       "        vertical-align: top;\n",
       "    }\n",
       "\n",
       "    .dataframe thead th {\n",
       "        text-align: right;\n",
       "    }\n",
       "</style>\n",
       "<table border=\"1\" class=\"dataframe\">\n",
       "  <thead>\n",
       "    <tr style=\"text-align: right;\">\n",
       "      <th></th>\n",
       "      <th>gyro_x_median_1</th>\n",
       "      <th>gyro_x_median_2</th>\n",
       "      <th>gyro_x_median_3</th>\n",
       "      <th>gyro_x_median_4</th>\n",
       "      <th>gyro_x_median_5</th>\n",
       "      <th>gyro_x_min_1</th>\n",
       "      <th>gyro_x_min_2</th>\n",
       "      <th>gyro_x_min_3</th>\n",
       "      <th>gyro_x_min_4</th>\n",
       "      <th>gyro_x_min_5</th>\n",
       "      <th>...</th>\n",
       "      <th>accel_z_max_4</th>\n",
       "      <th>accel_z_max_5</th>\n",
       "      <th>accel_z_std_1</th>\n",
       "      <th>accel_z_std_2</th>\n",
       "      <th>accel_z_std_3</th>\n",
       "      <th>accel_z_std_4</th>\n",
       "      <th>accel_z_std_5</th>\n",
       "      <th>pill_count</th>\n",
       "      <th>pills_low</th>\n",
       "      <th>activity</th>\n",
       "    </tr>\n",
       "  </thead>\n",
       "  <tbody>\n",
       "    <tr>\n",
       "      <td>0</td>\n",
       "      <td>-0.367935</td>\n",
       "      <td>-0.074074</td>\n",
       "      <td>0.043672</td>\n",
       "      <td>0.232942</td>\n",
       "      <td>0.527233</td>\n",
       "      <td>-11.518023</td>\n",
       "      <td>-12.162574</td>\n",
       "      <td>-0.595670</td>\n",
       "      <td>-2.333485</td>\n",
       "      <td>-1.492186</td>\n",
       "      <td>...</td>\n",
       "      <td>0.512223</td>\n",
       "      <td>0.131544</td>\n",
       "      <td>0.173853</td>\n",
       "      <td>0.101226</td>\n",
       "      <td>0.198305</td>\n",
       "      <td>0.247110</td>\n",
       "      <td>0.062755</td>\n",
       "      <td>6.0</td>\n",
       "      <td>1.0</td>\n",
       "      <td>pill</td>\n",
       "    </tr>\n",
       "    <tr>\n",
       "      <td>3</td>\n",
       "      <td>-0.233266</td>\n",
       "      <td>-0.005641</td>\n",
       "      <td>1.015926</td>\n",
       "      <td>-0.515116</td>\n",
       "      <td>0.093410</td>\n",
       "      <td>-2.617697</td>\n",
       "      <td>-10.054420</td>\n",
       "      <td>-2.838974</td>\n",
       "      <td>-3.884917</td>\n",
       "      <td>-0.249898</td>\n",
       "      <td>...</td>\n",
       "      <td>0.227304</td>\n",
       "      <td>0.208025</td>\n",
       "      <td>0.187443</td>\n",
       "      <td>0.211181</td>\n",
       "      <td>0.208041</td>\n",
       "      <td>0.070130</td>\n",
       "      <td>0.067465</td>\n",
       "      <td>1.0</td>\n",
       "      <td>1.0</td>\n",
       "      <td>pill</td>\n",
       "    </tr>\n",
       "    <tr>\n",
       "      <td>4</td>\n",
       "      <td>-0.554068</td>\n",
       "      <td>-0.236736</td>\n",
       "      <td>1.485785</td>\n",
       "      <td>-0.323291</td>\n",
       "      <td>0.579958</td>\n",
       "      <td>-4.953338</td>\n",
       "      <td>-11.776284</td>\n",
       "      <td>0.217840</td>\n",
       "      <td>-2.587376</td>\n",
       "      <td>-0.235746</td>\n",
       "      <td>...</td>\n",
       "      <td>0.265844</td>\n",
       "      <td>0.151806</td>\n",
       "      <td>0.163725</td>\n",
       "      <td>0.106234</td>\n",
       "      <td>0.158480</td>\n",
       "      <td>0.112807</td>\n",
       "      <td>0.054894</td>\n",
       "      <td>9.0</td>\n",
       "      <td>1.0</td>\n",
       "      <td>pill</td>\n",
       "    </tr>\n",
       "    <tr>\n",
       "      <td>5</td>\n",
       "      <td>-0.173755</td>\n",
       "      <td>-0.117661</td>\n",
       "      <td>1.429057</td>\n",
       "      <td>-0.273822</td>\n",
       "      <td>0.638555</td>\n",
       "      <td>-5.859836</td>\n",
       "      <td>-10.901626</td>\n",
       "      <td>-0.203829</td>\n",
       "      <td>-1.994986</td>\n",
       "      <td>-0.036500</td>\n",
       "      <td>...</td>\n",
       "      <td>0.253822</td>\n",
       "      <td>0.111044</td>\n",
       "      <td>0.235336</td>\n",
       "      <td>0.209178</td>\n",
       "      <td>0.129835</td>\n",
       "      <td>0.132793</td>\n",
       "      <td>0.046530</td>\n",
       "      <td>9.0</td>\n",
       "      <td>1.0</td>\n",
       "      <td>pill</td>\n",
       "    </tr>\n",
       "    <tr>\n",
       "      <td>8</td>\n",
       "      <td>-0.303467</td>\n",
       "      <td>-0.192580</td>\n",
       "      <td>0.064904</td>\n",
       "      <td>0.278077</td>\n",
       "      <td>0.218809</td>\n",
       "      <td>-2.886006</td>\n",
       "      <td>-10.914850</td>\n",
       "      <td>-0.255372</td>\n",
       "      <td>-2.978877</td>\n",
       "      <td>-1.057929</td>\n",
       "      <td>...</td>\n",
       "      <td>0.216209</td>\n",
       "      <td>0.219264</td>\n",
       "      <td>0.106576</td>\n",
       "      <td>0.118045</td>\n",
       "      <td>0.146715</td>\n",
       "      <td>0.103779</td>\n",
       "      <td>0.074444</td>\n",
       "      <td>3.0</td>\n",
       "      <td>1.0</td>\n",
       "      <td>pill</td>\n",
       "    </tr>\n",
       "    <tr>\n",
       "      <td>...</td>\n",
       "      <td>...</td>\n",
       "      <td>...</td>\n",
       "      <td>...</td>\n",
       "      <td>...</td>\n",
       "      <td>...</td>\n",
       "      <td>...</td>\n",
       "      <td>...</td>\n",
       "      <td>...</td>\n",
       "      <td>...</td>\n",
       "      <td>...</td>\n",
       "      <td>...</td>\n",
       "      <td>...</td>\n",
       "      <td>...</td>\n",
       "      <td>...</td>\n",
       "      <td>...</td>\n",
       "      <td>...</td>\n",
       "      <td>...</td>\n",
       "      <td>...</td>\n",
       "      <td>...</td>\n",
       "      <td>...</td>\n",
       "      <td>...</td>\n",
       "    </tr>\n",
       "    <tr>\n",
       "      <td>208</td>\n",
       "      <td>-0.176335</td>\n",
       "      <td>-0.145327</td>\n",
       "      <td>0.215947</td>\n",
       "      <td>-0.136826</td>\n",
       "      <td>0.542623</td>\n",
       "      <td>-3.217016</td>\n",
       "      <td>-12.030450</td>\n",
       "      <td>-0.332189</td>\n",
       "      <td>-2.806397</td>\n",
       "      <td>-0.409238</td>\n",
       "      <td>...</td>\n",
       "      <td>0.254120</td>\n",
       "      <td>0.110802</td>\n",
       "      <td>0.185588</td>\n",
       "      <td>0.180482</td>\n",
       "      <td>0.174955</td>\n",
       "      <td>0.125244</td>\n",
       "      <td>0.050065</td>\n",
       "      <td>6.0</td>\n",
       "      <td>1.0</td>\n",
       "      <td>pill</td>\n",
       "    </tr>\n",
       "    <tr>\n",
       "      <td>209</td>\n",
       "      <td>-0.317895</td>\n",
       "      <td>-0.204468</td>\n",
       "      <td>0.532504</td>\n",
       "      <td>0.241862</td>\n",
       "      <td>0.200731</td>\n",
       "      <td>-4.743906</td>\n",
       "      <td>-10.060389</td>\n",
       "      <td>-0.194610</td>\n",
       "      <td>-2.731018</td>\n",
       "      <td>-1.151409</td>\n",
       "      <td>...</td>\n",
       "      <td>0.289740</td>\n",
       "      <td>0.134189</td>\n",
       "      <td>0.219623</td>\n",
       "      <td>0.148236</td>\n",
       "      <td>0.125828</td>\n",
       "      <td>0.159148</td>\n",
       "      <td>0.052309</td>\n",
       "      <td>14.0</td>\n",
       "      <td>0.0</td>\n",
       "      <td>pill</td>\n",
       "    </tr>\n",
       "    <tr>\n",
       "      <td>211</td>\n",
       "      <td>-0.280273</td>\n",
       "      <td>-0.314979</td>\n",
       "      <td>0.675794</td>\n",
       "      <td>-0.180135</td>\n",
       "      <td>0.163862</td>\n",
       "      <td>-2.518000</td>\n",
       "      <td>-10.336287</td>\n",
       "      <td>-0.267164</td>\n",
       "      <td>-2.809045</td>\n",
       "      <td>-1.331136</td>\n",
       "      <td>...</td>\n",
       "      <td>0.199607</td>\n",
       "      <td>0.103696</td>\n",
       "      <td>0.179829</td>\n",
       "      <td>0.172772</td>\n",
       "      <td>0.132402</td>\n",
       "      <td>0.174332</td>\n",
       "      <td>0.055122</td>\n",
       "      <td>13.0</td>\n",
       "      <td>0.0</td>\n",
       "      <td>pill</td>\n",
       "    </tr>\n",
       "    <tr>\n",
       "      <td>212</td>\n",
       "      <td>-0.342428</td>\n",
       "      <td>-0.663958</td>\n",
       "      <td>1.182321</td>\n",
       "      <td>0.629328</td>\n",
       "      <td>0.018379</td>\n",
       "      <td>-3.538319</td>\n",
       "      <td>-10.908702</td>\n",
       "      <td>-0.482931</td>\n",
       "      <td>-4.496098</td>\n",
       "      <td>-6.702565</td>\n",
       "      <td>...</td>\n",
       "      <td>0.127886</td>\n",
       "      <td>0.311013</td>\n",
       "      <td>0.252768</td>\n",
       "      <td>0.174930</td>\n",
       "      <td>0.217101</td>\n",
       "      <td>0.073176</td>\n",
       "      <td>0.089824</td>\n",
       "      <td>2.0</td>\n",
       "      <td>1.0</td>\n",
       "      <td>pill</td>\n",
       "    </tr>\n",
       "    <tr>\n",
       "      <td>214</td>\n",
       "      <td>-0.487766</td>\n",
       "      <td>-0.083561</td>\n",
       "      <td>0.473874</td>\n",
       "      <td>0.207503</td>\n",
       "      <td>0.064328</td>\n",
       "      <td>-6.207327</td>\n",
       "      <td>-10.278506</td>\n",
       "      <td>0.016571</td>\n",
       "      <td>-2.762378</td>\n",
       "      <td>-1.449418</td>\n",
       "      <td>...</td>\n",
       "      <td>0.177450</td>\n",
       "      <td>0.197609</td>\n",
       "      <td>0.178643</td>\n",
       "      <td>0.083631</td>\n",
       "      <td>0.096888</td>\n",
       "      <td>0.118196</td>\n",
       "      <td>0.052125</td>\n",
       "      <td>11.0</td>\n",
       "      <td>0.0</td>\n",
       "      <td>pill</td>\n",
       "    </tr>\n",
       "  </tbody>\n",
       "</table>\n",
       "<p>150 rows × 123 columns</p>\n",
       "</div>"
      ],
      "text/plain": [
       "     gyro_x_median_1  gyro_x_median_2  gyro_x_median_3  gyro_x_median_4  \\\n",
       "0          -0.367935        -0.074074         0.043672         0.232942   \n",
       "3          -0.233266        -0.005641         1.015926        -0.515116   \n",
       "4          -0.554068        -0.236736         1.485785        -0.323291   \n",
       "5          -0.173755        -0.117661         1.429057        -0.273822   \n",
       "8          -0.303467        -0.192580         0.064904         0.278077   \n",
       "..               ...              ...              ...              ...   \n",
       "208        -0.176335        -0.145327         0.215947        -0.136826   \n",
       "209        -0.317895        -0.204468         0.532504         0.241862   \n",
       "211        -0.280273        -0.314979         0.675794        -0.180135   \n",
       "212        -0.342428        -0.663958         1.182321         0.629328   \n",
       "214        -0.487766        -0.083561         0.473874         0.207503   \n",
       "\n",
       "     gyro_x_median_5  gyro_x_min_1  gyro_x_min_2  gyro_x_min_3  gyro_x_min_4  \\\n",
       "0           0.527233    -11.518023    -12.162574     -0.595670     -2.333485   \n",
       "3           0.093410     -2.617697    -10.054420     -2.838974     -3.884917   \n",
       "4           0.579958     -4.953338    -11.776284      0.217840     -2.587376   \n",
       "5           0.638555     -5.859836    -10.901626     -0.203829     -1.994986   \n",
       "8           0.218809     -2.886006    -10.914850     -0.255372     -2.978877   \n",
       "..               ...           ...           ...           ...           ...   \n",
       "208         0.542623     -3.217016    -12.030450     -0.332189     -2.806397   \n",
       "209         0.200731     -4.743906    -10.060389     -0.194610     -2.731018   \n",
       "211         0.163862     -2.518000    -10.336287     -0.267164     -2.809045   \n",
       "212         0.018379     -3.538319    -10.908702     -0.482931     -4.496098   \n",
       "214         0.064328     -6.207327    -10.278506      0.016571     -2.762378   \n",
       "\n",
       "     gyro_x_min_5  ...  accel_z_max_4  accel_z_max_5  accel_z_std_1  \\\n",
       "0       -1.492186  ...       0.512223       0.131544       0.173853   \n",
       "3       -0.249898  ...       0.227304       0.208025       0.187443   \n",
       "4       -0.235746  ...       0.265844       0.151806       0.163725   \n",
       "5       -0.036500  ...       0.253822       0.111044       0.235336   \n",
       "8       -1.057929  ...       0.216209       0.219264       0.106576   \n",
       "..            ...  ...            ...            ...            ...   \n",
       "208     -0.409238  ...       0.254120       0.110802       0.185588   \n",
       "209     -1.151409  ...       0.289740       0.134189       0.219623   \n",
       "211     -1.331136  ...       0.199607       0.103696       0.179829   \n",
       "212     -6.702565  ...       0.127886       0.311013       0.252768   \n",
       "214     -1.449418  ...       0.177450       0.197609       0.178643   \n",
       "\n",
       "     accel_z_std_2  accel_z_std_3  accel_z_std_4  accel_z_std_5  pill_count  \\\n",
       "0         0.101226       0.198305       0.247110       0.062755         6.0   \n",
       "3         0.211181       0.208041       0.070130       0.067465         1.0   \n",
       "4         0.106234       0.158480       0.112807       0.054894         9.0   \n",
       "5         0.209178       0.129835       0.132793       0.046530         9.0   \n",
       "8         0.118045       0.146715       0.103779       0.074444         3.0   \n",
       "..             ...            ...            ...            ...         ...   \n",
       "208       0.180482       0.174955       0.125244       0.050065         6.0   \n",
       "209       0.148236       0.125828       0.159148       0.052309        14.0   \n",
       "211       0.172772       0.132402       0.174332       0.055122        13.0   \n",
       "212       0.174930       0.217101       0.073176       0.089824         2.0   \n",
       "214       0.083631       0.096888       0.118196       0.052125        11.0   \n",
       "\n",
       "     pills_low  activity  \n",
       "0          1.0      pill  \n",
       "3          1.0      pill  \n",
       "4          1.0      pill  \n",
       "5          1.0      pill  \n",
       "8          1.0      pill  \n",
       "..         ...       ...  \n",
       "208        1.0      pill  \n",
       "209        0.0      pill  \n",
       "211        0.0      pill  \n",
       "212        1.0      pill  \n",
       "214        0.0      pill  \n",
       "\n",
       "[150 rows x 123 columns]"
      ]
     },
     "execution_count": 74,
     "metadata": {},
     "output_type": "execute_result"
    }
   ],
   "source": [
    "processed_df_clf = processed_df.loc[~processed_df.pill_count.isna()]\n",
    "processed_df_clf"
   ]
  },
  {
   "cell_type": "markdown",
   "metadata": {},
   "source": [
    "### Tree-based Classification"
   ]
  },
  {
   "cell_type": "code",
   "execution_count": 75,
   "metadata": {},
   "outputs": [
    {
     "data": {
      "text/html": [
       "<div>\n",
       "<style scoped>\n",
       "    .dataframe tbody tr th:only-of-type {\n",
       "        vertical-align: middle;\n",
       "    }\n",
       "\n",
       "    .dataframe tbody tr th {\n",
       "        vertical-align: top;\n",
       "    }\n",
       "\n",
       "    .dataframe thead th {\n",
       "        text-align: right;\n",
       "    }\n",
       "</style>\n",
       "<table border=\"1\" class=\"dataframe\">\n",
       "  <thead>\n",
       "    <tr style=\"text-align: right;\">\n",
       "      <th></th>\n",
       "      <th>pills_low</th>\n",
       "    </tr>\n",
       "  </thead>\n",
       "  <tbody>\n",
       "    <tr>\n",
       "      <td>0</td>\n",
       "      <td>1.0</td>\n",
       "    </tr>\n",
       "    <tr>\n",
       "      <td>3</td>\n",
       "      <td>1.0</td>\n",
       "    </tr>\n",
       "    <tr>\n",
       "      <td>4</td>\n",
       "      <td>1.0</td>\n",
       "    </tr>\n",
       "    <tr>\n",
       "      <td>5</td>\n",
       "      <td>1.0</td>\n",
       "    </tr>\n",
       "    <tr>\n",
       "      <td>8</td>\n",
       "      <td>1.0</td>\n",
       "    </tr>\n",
       "    <tr>\n",
       "      <td>...</td>\n",
       "      <td>...</td>\n",
       "    </tr>\n",
       "    <tr>\n",
       "      <td>208</td>\n",
       "      <td>1.0</td>\n",
       "    </tr>\n",
       "    <tr>\n",
       "      <td>209</td>\n",
       "      <td>0.0</td>\n",
       "    </tr>\n",
       "    <tr>\n",
       "      <td>211</td>\n",
       "      <td>0.0</td>\n",
       "    </tr>\n",
       "    <tr>\n",
       "      <td>212</td>\n",
       "      <td>1.0</td>\n",
       "    </tr>\n",
       "    <tr>\n",
       "      <td>214</td>\n",
       "      <td>0.0</td>\n",
       "    </tr>\n",
       "  </tbody>\n",
       "</table>\n",
       "<p>150 rows × 1 columns</p>\n",
       "</div>"
      ],
      "text/plain": [
       "     pills_low\n",
       "0          1.0\n",
       "3          1.0\n",
       "4          1.0\n",
       "5          1.0\n",
       "8          1.0\n",
       "..         ...\n",
       "208        1.0\n",
       "209        0.0\n",
       "211        0.0\n",
       "212        1.0\n",
       "214        0.0\n",
       "\n",
       "[150 rows x 1 columns]"
      ]
     },
     "execution_count": 75,
     "metadata": {},
     "output_type": "execute_result"
    }
   ],
   "source": [
    "X = processed_df_clf.drop([\"pill_count\", \"pills_low\", \"activity\"], axis=1)\n",
    "y_clf = processed_df_clf[[\"pills_low\"]]\n",
    "\n",
    "X_train, X_val, y_train_clf, y_val_clf = train_test_split(ss.fit_transform(X.to_numpy()), y_clf.to_numpy(),\n",
    "                                                          test_size=0.20, random_state=19)\n",
    "y_clf"
   ]
  },
  {
   "cell_type": "code",
   "execution_count": 76,
   "metadata": {},
   "outputs": [
    {
     "name": "stderr",
     "output_type": "stream",
     "text": [
      "/Users/kevin/opt/anaconda3/envs/DistributedComputing/lib/python3.7/site-packages/sklearn/preprocessing/_label.py:235: DataConversionWarning: A column-vector y was passed when a 1d array was expected. Please change the shape of y to (n_samples, ), for example using ravel().\n",
      "  y = column_or_1d(y, warn=True)\n",
      "/Users/kevin/opt/anaconda3/envs/DistributedComputing/lib/python3.7/site-packages/sklearn/preprocessing/_label.py:268: DataConversionWarning: A column-vector y was passed when a 1d array was expected. Please change the shape of y to (n_samples, ), for example using ravel().\n",
      "  y = column_or_1d(y, warn=True)\n"
     ]
    },
    {
     "data": {
      "text/plain": [
       "1.0"
      ]
     },
     "execution_count": 76,
     "metadata": {},
     "output_type": "execute_result"
    }
   ],
   "source": [
    "xgb_clf = xgb.XGBClassifier(objective='binary:logistic')\n",
    "\n",
    "xgb_clf.fit(X_train, y_train_clf)\n",
    "xgb_clf.score(X_train, y_train_clf)"
   ]
  },
  {
   "cell_type": "code",
   "execution_count": 77,
   "metadata": {},
   "outputs": [
    {
     "data": {
      "text/plain": [
       "0.9333333333333333"
      ]
     },
     "execution_count": 77,
     "metadata": {},
     "output_type": "execute_result"
    }
   ],
   "source": [
    "xgb_clf.score(X_val, y_val_clf)"
   ]
  },
  {
   "cell_type": "code",
   "execution_count": 78,
   "metadata": {},
   "outputs": [
    {
     "data": {
      "text/plain": [
       "0.9473684210526315"
      ]
     },
     "execution_count": 78,
     "metadata": {},
     "output_type": "execute_result"
    }
   ],
   "source": [
    "y_pred_clf = xgb_clf.predict(X_val)\n",
    "f1_score(y_val_clf, y_pred_clf)"
   ]
  },
  {
   "cell_type": "code",
   "execution_count": 79,
   "metadata": {},
   "outputs": [
    {
     "data": {
      "text/plain": [
       "array([1., 0., 0., 1., 0., 1., 0., 1., 1., 0., 1., 1., 0., 1., 1., 1., 1.,\n",
       "       1., 0., 1., 0., 1., 1., 0., 1., 1., 1., 1., 0., 0.])"
      ]
     },
     "execution_count": 79,
     "metadata": {},
     "output_type": "execute_result"
    }
   ],
   "source": [
    "y_pred_clf"
   ]
  },
  {
   "cell_type": "code",
   "execution_count": 80,
   "metadata": {},
   "outputs": [
    {
     "data": {
      "text/plain": [
       "array([[1.],\n",
       "       [0.],\n",
       "       [0.],\n",
       "       [1.],\n",
       "       [0.],\n",
       "       [1.],\n",
       "       [0.],\n",
       "       [1.],\n",
       "       [1.],\n",
       "       [1.],\n",
       "       [1.],\n",
       "       [1.],\n",
       "       [0.],\n",
       "       [1.],\n",
       "       [1.],\n",
       "       [1.],\n",
       "       [1.],\n",
       "       [0.],\n",
       "       [0.],\n",
       "       [1.],\n",
       "       [0.],\n",
       "       [1.],\n",
       "       [1.],\n",
       "       [0.],\n",
       "       [1.],\n",
       "       [1.],\n",
       "       [1.],\n",
       "       [1.],\n",
       "       [0.],\n",
       "       [0.]])"
      ]
     },
     "execution_count": 80,
     "metadata": {},
     "output_type": "execute_result"
    }
   ],
   "source": [
    "y_val_clf"
   ]
  },
  {
   "cell_type": "markdown",
   "metadata": {},
   "source": [
    "### Neural Net Classification"
   ]
  },
  {
   "cell_type": "code",
   "execution_count": 81,
   "metadata": {},
   "outputs": [],
   "source": [
    "X_train = torch.tensor(X_train).float()\n",
    "X_val = torch.tensor(X_val).float()\n",
    "\n",
    "y_train_clf = torch.tensor(y_train_clf).float()\n",
    "y_val_clf = torch.tensor(y_val_clf).float()"
   ]
  },
  {
   "cell_type": "code",
   "execution_count": 82,
   "metadata": {},
   "outputs": [
    {
     "name": "stderr",
     "output_type": "stream",
     "text": [
      "/Users/kevin/opt/anaconda3/envs/DistributedComputing/lib/python3.7/site-packages/ipykernel_launcher.py:18: UserWarning: Using a target size (torch.Size([120, 1])) that is different to the input size (torch.Size([120])) is deprecated. Please ensure they have the same size.\n",
      "/Users/kevin/opt/anaconda3/envs/DistributedComputing/lib/python3.7/site-packages/ipykernel_launcher.py:25: UserWarning: Using a target size (torch.Size([30, 1])) that is different to the input size (torch.Size([30])) is deprecated. Please ensure they have the same size.\n"
     ]
    },
    {
     "name": "stdout",
     "output_type": "stream",
     "text": [
      "epoch 0:  train loss: 0.68 val loss: 0.66\n",
      "epoch 500:  train loss: 0.0 val loss: 0.47\n",
      "epoch 1000:  train loss: 0.0 val loss: 0.48\n",
      "epoch 1500:  train loss: 0.0 val loss: 0.49\n",
      "epoch 2000:  train loss: 0.0 val loss: 0.5\n",
      "epoch 2500:  train loss: 0.0 val loss: 0.51\n",
      "epoch 3000:  train loss: 0.0 val loss: 0.52\n",
      "epoch 3500:  train loss: 0.0 val loss: 0.52\n",
      "epoch 4000:  train loss: 0.0 val loss: 0.53\n",
      "epoch 4500:  train loss: 0.0 val loss: 0.53\n",
      "epoch 5000:  train loss: 0.0 val loss: 0.53\n"
     ]
    }
   ],
   "source": [
    "input_shape = X_train.shape[1]\n",
    "\n",
    "model = nn.Sequential(nn.Linear(input_shape, 20),\n",
    "                      nn.ReLU(),\n",
    "                      nn.Linear(20, 50),\n",
    "                      nn.ReLU(),\n",
    "                      nn.Linear(50, 1))\n",
    "\n",
    "epochs = 5000\n",
    "lr = 0.01\n",
    "\n",
    "optimizer = torch.optim.Adam(model.parameters(), lr=lr)\n",
    "\n",
    "for e in range(epochs+1):\n",
    "       \n",
    "    model.train()\n",
    "    y_hat_train = model(X_train)\n",
    "    train_loss = F.binary_cross_entropy(torch.sigmoid(y_hat_train.squeeze(1)), y_train_clf)\n",
    "    optimizer.zero_grad()\n",
    "    train_loss.backward()\n",
    "    optimizer.step()\n",
    "    \n",
    "    model.eval()\n",
    "    y_hat_val = model(X_val)\n",
    "    val_loss = F.binary_cross_entropy(torch.sigmoid(y_hat_val.squeeze(1)), y_val_clf)\n",
    "\n",
    "    if e%500==0: \n",
    "        print(f\"epoch {e}:  train loss: {round(train_loss.item(), 2)} val loss: {round(val_loss.item(), 2)}\")"
   ]
  },
  {
   "cell_type": "code",
   "execution_count": 83,
   "metadata": {},
   "outputs": [],
   "source": [
    "y_pred_clf = torch.sigmoid(model(X_val)).detach().numpy()"
   ]
  },
  {
   "cell_type": "code",
   "execution_count": 84,
   "metadata": {},
   "outputs": [
    {
     "data": {
      "text/plain": [
       "array([[1.],\n",
       "       [0.],\n",
       "       [0.],\n",
       "       [1.],\n",
       "       [0.],\n",
       "       [1.],\n",
       "       [0.],\n",
       "       [1.],\n",
       "       [1.],\n",
       "       [1.],\n",
       "       [1.],\n",
       "       [1.],\n",
       "       [0.],\n",
       "       [1.],\n",
       "       [1.],\n",
       "       [1.],\n",
       "       [1.],\n",
       "       [1.],\n",
       "       [0.],\n",
       "       [1.],\n",
       "       [0.],\n",
       "       [1.],\n",
       "       [1.],\n",
       "       [0.],\n",
       "       [1.],\n",
       "       [1.],\n",
       "       [1.],\n",
       "       [1.],\n",
       "       [1.],\n",
       "       [0.]], dtype=float32)"
      ]
     },
     "execution_count": 84,
     "metadata": {},
     "output_type": "execute_result"
    }
   ],
   "source": [
    "y_pred_clf.round()"
   ]
  },
  {
   "cell_type": "code",
   "execution_count": 85,
   "metadata": {},
   "outputs": [
    {
     "data": {
      "text/plain": [
       "tensor([[1.],\n",
       "        [0.],\n",
       "        [0.],\n",
       "        [1.],\n",
       "        [0.],\n",
       "        [1.],\n",
       "        [0.],\n",
       "        [1.],\n",
       "        [1.],\n",
       "        [1.],\n",
       "        [1.],\n",
       "        [1.],\n",
       "        [0.],\n",
       "        [1.],\n",
       "        [1.],\n",
       "        [1.],\n",
       "        [1.],\n",
       "        [0.],\n",
       "        [0.],\n",
       "        [1.],\n",
       "        [0.],\n",
       "        [1.],\n",
       "        [1.],\n",
       "        [0.],\n",
       "        [1.],\n",
       "        [1.],\n",
       "        [1.],\n",
       "        [1.],\n",
       "        [0.],\n",
       "        [0.]])"
      ]
     },
     "execution_count": 85,
     "metadata": {},
     "output_type": "execute_result"
    }
   ],
   "source": [
    "y_val_clf"
   ]
  },
  {
   "cell_type": "code",
   "execution_count": 86,
   "metadata": {},
   "outputs": [
    {
     "data": {
      "text/plain": [
       "0.9500000000000001"
      ]
     },
     "execution_count": 86,
     "metadata": {},
     "output_type": "execute_result"
    }
   ],
   "source": [
    "f1_score(y_pred_clf.round(), y_val_clf.detach().numpy())"
   ]
  }
 ],
 "metadata": {
  "kernelspec": {
   "display_name": "Python 3",
   "language": "python",
   "name": "python3"
  },
  "language_info": {
   "codemirror_mode": {
    "name": "ipython",
    "version": 3
   },
   "file_extension": ".py",
   "mimetype": "text/x-python",
   "name": "python",
   "nbconvert_exporter": "python",
   "pygments_lexer": "ipython3",
   "version": "3.7.4"
  }
 },
 "nbformat": 4,
 "nbformat_minor": 4
}
